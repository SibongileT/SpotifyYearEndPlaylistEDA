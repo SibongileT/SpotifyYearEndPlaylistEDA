{
  "nbformat": 4,
  "nbformat_minor": 0,
  "metadata": {
    "colab": {
      "name": "GetPlaylist.ipynb",
      "provenance": [],
      "toc_visible": true,
      "mount_file_id": "1QypuwtMXtTiCZ4nGf2ChI7MDNFdfITui",
      "authorship_tag": "ABX9TyO0O1wwm1W2qnCXPZfI++LM",
      "include_colab_link": true
    },
    "kernelspec": {
      "name": "python3",
      "display_name": "Python 3"
    }
  },
  "cells": [
    {
      "cell_type": "markdown",
      "metadata": {
        "id": "view-in-github",
        "colab_type": "text"
      },
      "source": [
        "<a href=\"https://colab.research.google.com/github/SibongileT/SpotifyYearEndPlaylistEDA/blob/main/GetPlaylist.ipynb\" target=\"_parent\"><img src=\"https://colab.research.google.com/assets/colab-badge.svg\" alt=\"Open In Colab\"/></a>"
      ]
    },
    {
      "cell_type": "code",
      "metadata": {
        "id": "pAPDLy7H2yFX",
        "colab": {
          "base_uri": "https://localhost:8080/"
        },
        "outputId": "59b9a308-aa5c-4c5e-98cb-a0eccaf39ba9"
      },
      "source": [
        "!pip install spotipy\n",
        "import pandas as pd \n",
        "import numpy as np\n",
        "import seaborn as sns\n",
        "import matplotlib.pyplot as plt\n",
        "%matplotlib inline\n",
        "import spotipy\n",
        "from spotipy.oauth2 import SpotifyClientCredentials"
      ],
      "execution_count": 2,
      "outputs": [
        {
          "output_type": "stream",
          "text": [
            "Collecting spotipy\n",
            "  Downloading https://files.pythonhosted.org/packages/7a/cd/e7d9a35216ea5bfb9234785f3d8fa7c96d0e33999c2cb72394128f6b4cce/spotipy-2.16.1-py3-none-any.whl\n",
            "Requirement already satisfied: requests>=2.20.0 in /usr/local/lib/python3.6/dist-packages (from spotipy) (2.23.0)\n",
            "Requirement already satisfied: six>=1.10.0 in /usr/local/lib/python3.6/dist-packages (from spotipy) (1.15.0)\n",
            "Requirement already satisfied: urllib3!=1.25.0,!=1.25.1,<1.26,>=1.21.1 in /usr/local/lib/python3.6/dist-packages (from requests>=2.20.0->spotipy) (1.24.3)\n",
            "Requirement already satisfied: certifi>=2017.4.17 in /usr/local/lib/python3.6/dist-packages (from requests>=2.20.0->spotipy) (2020.12.5)\n",
            "Requirement already satisfied: idna<3,>=2.5 in /usr/local/lib/python3.6/dist-packages (from requests>=2.20.0->spotipy) (2.10)\n",
            "Requirement already satisfied: chardet<4,>=3.0.2 in /usr/local/lib/python3.6/dist-packages (from requests>=2.20.0->spotipy) (3.0.4)\n",
            "Installing collected packages: spotipy\n",
            "Successfully installed spotipy-2.16.1\n"
          ],
          "name": "stdout"
        }
      ]
    },
    {
      "cell_type": "code",
      "metadata": {
        "colab": {
          "base_uri": "https://localhost:8080/"
        },
        "id": "MUbAnsEqvlLj",
        "outputId": "a34a4fd2-80ef-4520-ae7f-d8f2e0fb2979"
      },
      "source": [
        "from google.colab import drive\n",
        "drive.mount('/content/drive')"
      ],
      "execution_count": 35,
      "outputs": [
        {
          "output_type": "stream",
          "text": [
            "Drive already mounted at /content/drive; to attempt to forcibly remount, call drive.mount(\"/content/drive\", force_remount=True).\n"
          ],
          "name": "stdout"
        }
      ]
    },
    {
      "cell_type": "code",
      "metadata": {
        "id": "YrDDp5Nhtm-U"
      },
      "source": [
        "import time"
      ],
      "execution_count": 27,
      "outputs": []
    },
    {
      "cell_type": "code",
      "metadata": {
        "id": "DTO3l3iM4qzb"
      },
      "source": [
        "client_id = '91e9c8e7606d4c9496bbe5ac3d214513'\n",
        "client_secret = 'd09f866740ec45b389eb4e893b358518'\n",
        "client_credentials_manager = SpotifyClientCredentials(client_id=client_id, client_secret=client_secret)\n",
        "sp = spotipy.Spotify(client_credentials_manager=client_credentials_manager) #spotify object to access API"
      ],
      "execution_count": 3,
      "outputs": []
    },
    {
      "cell_type": "code",
      "metadata": {
        "id": "uk-e8F6l6qDE"
      },
      "source": [
        "def get_track_ID(artist,track_name):\n",
        "    searchResults = sp.search(q='artist:{} track:{}'.format(artist, track_name),limit=1)\n",
        "    spotifyId =  searchResults['tracks']['items'][0]['id']\n",
        "    return spotifyId"
      ],
      "execution_count": 4,
      "outputs": []
    },
    {
      "cell_type": "code",
      "metadata": {
        "id": "gqRwrqU_6rSq"
      },
      "source": [
        "track = get_track_ID('Jazmine Sullivan','Pick Up your Feelings')"
      ],
      "execution_count": 5,
      "outputs": []
    },
    {
      "cell_type": "code",
      "metadata": {
        "id": "2ZbzJeAPB7i3"
      },
      "source": [
        "def get_playlist_tracks(playlist_id,username=1266917807):\n",
        "  sp_playlist = sp.user_playlist_tracks(username,playlist_id)\n",
        "  tracks = sp_playlist['items']\n",
        "  track_ids = []\n",
        "  for track in tracks:\n",
        "    track_ids.append(track['track']['id'])\n",
        "  return track_ids"
      ],
      "execution_count": 66,
      "outputs": []
    },
    {
      "cell_type": "code",
      "metadata": {
        "id": "3XE4e3HIDGL9"
      },
      "source": [
        "top_tracks_2016_ids = get_playlist_tracks('37i9dQZF1CyKS6vMEvHRnU')"
      ],
      "execution_count": 67,
      "outputs": []
    },
    {
      "cell_type": "code",
      "metadata": {
        "id": "p1D_9ok1DQmb"
      },
      "source": [
        "top_tracks_2017_ids = get_playlist_tracks(\"37i9dQZF1E9EIGIu5XTi5J\")"
      ],
      "execution_count": 69,
      "outputs": []
    },
    {
      "cell_type": "code",
      "metadata": {
        "id": "hXCUmGPNDr7Y"
      },
      "source": [
        "top_tracks_2018_ids = get_playlist_tracks('37i9dQZF1EjwtuYhaVJquD')"
      ],
      "execution_count": 70,
      "outputs": []
    },
    {
      "cell_type": "code",
      "metadata": {
        "id": "nuOFcAy4CQpX"
      },
      "source": [
        "top_tracks_2019_ids = get_playlist_tracks('37i9dQZF1EtkhPZyEmZ5Hw')"
      ],
      "execution_count": 71,
      "outputs": []
    },
    {
      "cell_type": "code",
      "metadata": {
        "id": "BOSXwTYPD4KN"
      },
      "source": [
        "top_tracks_2020_ids = get_playlist_tracks('37i9dQZF1EM81tFPMDS9R6')"
      ],
      "execution_count": 72,
      "outputs": []
    },
    {
      "cell_type": "markdown",
      "metadata": {
        "id": "6Xy1EWBcEKMN"
      },
      "source": [
        "## Using track ids grab rest of individual track information"
      ]
    },
    {
      "cell_type": "code",
      "metadata": {
        "id": "I7WdmQPlIn4P"
      },
      "source": [
        "def get_track_features(id):\n",
        "\n",
        "    meta = sp.track(id)\n",
        "    features = sp.audio_features(id)\n",
        "    analysis = sp.audio_analysis(id)\n",
        "    # meta\n",
        "    name = meta['name']\n",
        "    artist = meta['album']['artists'][0]['name']\n",
        "    duration_ms = meta['duration_ms']\n",
        "\n",
        "    # features\n",
        "    acousticness = features[0]['acousticness']\n",
        "    danceability = features[0]['danceability']\n",
        "    energy = features[0]['energy']\n",
        "    instrumentalness = features[0]['instrumentalness']\n",
        "    liveness = features[0]['liveness']\n",
        "    loudness = features[0]['loudness']\n",
        "    speechiness = features[0]['speechiness']\n",
        "    tempo = features[0]['tempo']\n",
        "    time_signature = features[0]['time_signature']\n",
        "    key = features[0]['key']\n",
        "    mode = features[0]['mode']\n",
        "    valence = features[0]['valence']\n",
        "\n",
        "    #audio anaylsis\n",
        "    chorus_hit = analysis['sections'][0]['duration']*2\n",
        "    sections = len(analysis['sections'])\n",
        "\n",
        "    track = [name,artist,danceability,energy,key,loudness,mode,speechiness,acousticness,instrumentalness,liveness,valence,tempo,duration_ms,time_signature,\\\n",
        "    chorus_hit,sections]\n",
        "    return track\n"
      ],
      "execution_count": 73,
      "outputs": []
    },
    {
      "cell_type": "code",
      "metadata": {
        "id": "LiTFb49wr8-V"
      },
      "source": [
        " def get_playlist_df(track_ids,year,playlist_title): \n",
        "  tracks = []\n",
        "  for id in track_ids:\n",
        "    time.sleep(.5)\n",
        "    track = get_track_features(id)\n",
        "    track.append(year)\n",
        "    track.append(playlist_title)\n",
        "    tracks.append(track)\n",
        "  # create dataset\n",
        "  df = pd.DataFrame(tracks, columns = ['name','artist','danceability','energy','key','loudness','mode','speechiness','acousticness','instrumentalness','liveness','valence','tempo','duration_ms','time_signature',\\\n",
        "      'chorus_hit','sections','year','playlist_title'])\n",
        "  return df\n"
      ],
      "execution_count": 74,
      "outputs": []
    },
    {
      "cell_type": "markdown",
      "metadata": {
        "id": "b0s2YoA-w9wE"
      },
      "source": [
        "## Get Dataframes for each year"
      ]
    },
    {
      "cell_type": "code",
      "metadata": {
        "id": "mrrFot9Msvf3"
      },
      "source": [
        "playlist_2016_df = get_playlist_df(top_tracks_2016_ids,2016,'Your top songs 2016')"
      ],
      "execution_count": 75,
      "outputs": []
    },
    {
      "cell_type": "code",
      "metadata": {
        "colab": {
          "base_uri": "https://localhost:8080/",
          "height": 377
        },
        "id": "3a68dE_HtkYF",
        "outputId": "a7af7a5e-f2b0-41cf-e4ae-21fb213cc6d9"
      },
      "source": [
        "playlist_2016_df.head()"
      ],
      "execution_count": 76,
      "outputs": [
        {
          "output_type": "execute_result",
          "data": {
            "text/html": [
              "<div>\n",
              "<style scoped>\n",
              "    .dataframe tbody tr th:only-of-type {\n",
              "        vertical-align: middle;\n",
              "    }\n",
              "\n",
              "    .dataframe tbody tr th {\n",
              "        vertical-align: top;\n",
              "    }\n",
              "\n",
              "    .dataframe thead th {\n",
              "        text-align: right;\n",
              "    }\n",
              "</style>\n",
              "<table border=\"1\" class=\"dataframe\">\n",
              "  <thead>\n",
              "    <tr style=\"text-align: right;\">\n",
              "      <th></th>\n",
              "      <th>name</th>\n",
              "      <th>artist</th>\n",
              "      <th>danceability</th>\n",
              "      <th>energy</th>\n",
              "      <th>key</th>\n",
              "      <th>loudness</th>\n",
              "      <th>mode</th>\n",
              "      <th>speechiness</th>\n",
              "      <th>acousticness</th>\n",
              "      <th>instrumentalness</th>\n",
              "      <th>liveness</th>\n",
              "      <th>valence</th>\n",
              "      <th>tempo</th>\n",
              "      <th>duration_ms</th>\n",
              "      <th>time_signature</th>\n",
              "      <th>chorus_hit</th>\n",
              "      <th>sections</th>\n",
              "      <th>year</th>\n",
              "      <th>playlist_title</th>\n",
              "    </tr>\n",
              "  </thead>\n",
              "  <tbody>\n",
              "    <tr>\n",
              "      <th>0</th>\n",
              "      <td>Sex With Me</td>\n",
              "      <td>Rihanna</td>\n",
              "      <td>0.580</td>\n",
              "      <td>0.532</td>\n",
              "      <td>1</td>\n",
              "      <td>-5.668</td>\n",
              "      <td>0</td>\n",
              "      <td>0.0424</td>\n",
              "      <td>0.2940</td>\n",
              "      <td>0.000000</td>\n",
              "      <td>0.0948</td>\n",
              "      <td>0.390</td>\n",
              "      <td>112.049</td>\n",
              "      <td>206400</td>\n",
              "      <td>4</td>\n",
              "      <td>20.87658</td>\n",
              "      <td>10</td>\n",
              "      <td>2016</td>\n",
              "      <td>Your top songs 2016</td>\n",
              "    </tr>\n",
              "    <tr>\n",
              "      <th>1</th>\n",
              "      <td>Dope</td>\n",
              "      <td>Fifth Harmony</td>\n",
              "      <td>0.719</td>\n",
              "      <td>0.519</td>\n",
              "      <td>0</td>\n",
              "      <td>-6.545</td>\n",
              "      <td>1</td>\n",
              "      <td>0.0494</td>\n",
              "      <td>0.1300</td>\n",
              "      <td>0.000000</td>\n",
              "      <td>0.0833</td>\n",
              "      <td>0.122</td>\n",
              "      <td>90.995</td>\n",
              "      <td>212626</td>\n",
              "      <td>4</td>\n",
              "      <td>32.72684</td>\n",
              "      <td>13</td>\n",
              "      <td>2016</td>\n",
              "      <td>Your top songs 2016</td>\n",
              "    </tr>\n",
              "    <tr>\n",
              "      <th>2</th>\n",
              "      <td>Cranes in the Sky</td>\n",
              "      <td>Solange</td>\n",
              "      <td>0.719</td>\n",
              "      <td>0.615</td>\n",
              "      <td>6</td>\n",
              "      <td>-5.972</td>\n",
              "      <td>1</td>\n",
              "      <td>0.0450</td>\n",
              "      <td>0.4080</td>\n",
              "      <td>0.000147</td>\n",
              "      <td>0.2350</td>\n",
              "      <td>0.465</td>\n",
              "      <td>96.988</td>\n",
              "      <td>250973</td>\n",
              "      <td>4</td>\n",
              "      <td>18.63714</td>\n",
              "      <td>5</td>\n",
              "      <td>2016</td>\n",
              "      <td>Your top songs 2016</td>\n",
              "    </tr>\n",
              "    <tr>\n",
              "      <th>3</th>\n",
              "      <td>For Free (feat. Drake)</td>\n",
              "      <td>DJ Khaled</td>\n",
              "      <td>0.916</td>\n",
              "      <td>0.571</td>\n",
              "      <td>10</td>\n",
              "      <td>-8.241</td>\n",
              "      <td>0</td>\n",
              "      <td>0.2000</td>\n",
              "      <td>0.0173</td>\n",
              "      <td>0.000001</td>\n",
              "      <td>0.1530</td>\n",
              "      <td>0.498</td>\n",
              "      <td>103.521</td>\n",
              "      <td>183695</td>\n",
              "      <td>4</td>\n",
              "      <td>29.67050</td>\n",
              "      <td>10</td>\n",
              "      <td>2016</td>\n",
              "      <td>Your top songs 2016</td>\n",
              "    </tr>\n",
              "    <tr>\n",
              "      <th>4</th>\n",
              "      <td>Crush</td>\n",
              "      <td>Yuna</td>\n",
              "      <td>0.678</td>\n",
              "      <td>0.414</td>\n",
              "      <td>9</td>\n",
              "      <td>-10.144</td>\n",
              "      <td>0</td>\n",
              "      <td>0.0498</td>\n",
              "      <td>0.3660</td>\n",
              "      <td>0.000004</td>\n",
              "      <td>0.0885</td>\n",
              "      <td>0.355</td>\n",
              "      <td>130.031</td>\n",
              "      <td>243133</td>\n",
              "      <td>4</td>\n",
              "      <td>29.11098</td>\n",
              "      <td>9</td>\n",
              "      <td>2016</td>\n",
              "      <td>Your top songs 2016</td>\n",
              "    </tr>\n",
              "  </tbody>\n",
              "</table>\n",
              "</div>"
            ],
            "text/plain": [
              "                     name         artist  ...  year       playlist_title\n",
              "0             Sex With Me        Rihanna  ...  2016  Your top songs 2016\n",
              "1                    Dope  Fifth Harmony  ...  2016  Your top songs 2016\n",
              "2       Cranes in the Sky        Solange  ...  2016  Your top songs 2016\n",
              "3  For Free (feat. Drake)      DJ Khaled  ...  2016  Your top songs 2016\n",
              "4                   Crush           Yuna  ...  2016  Your top songs 2016\n",
              "\n",
              "[5 rows x 19 columns]"
            ]
          },
          "metadata": {
            "tags": []
          },
          "execution_count": 76
        }
      ]
    },
    {
      "cell_type": "code",
      "metadata": {
        "id": "c_9Cl4yivolB"
      },
      "source": [
        "playlist_2016_df.to_csv('playlist_2016_data.csv')\n",
        "!cp playlist_2016_data.csv \"drive/My Drive/SpotifyEDA\""
      ],
      "execution_count": 77,
      "outputs": []
    },
    {
      "cell_type": "markdown",
      "metadata": {
        "id": "FfTTbDaDxDCj"
      },
      "source": [
        "#### 2017 df"
      ]
    },
    {
      "cell_type": "code",
      "metadata": {
        "id": "j3wUeSm6wweF"
      },
      "source": [
        "playlist_2017_df = get_playlist_df(top_tracks_2017_ids,2017,'Your top songs 2017')"
      ],
      "execution_count": 78,
      "outputs": []
    },
    {
      "cell_type": "code",
      "metadata": {
        "colab": {
          "base_uri": "https://localhost:8080/",
          "height": 394
        },
        "id": "zMV9VOp4yiYQ",
        "outputId": "06ecc6f3-9e27-403e-af9b-7db216be3046"
      },
      "source": [
        "playlist_2017_df.head()"
      ],
      "execution_count": 79,
      "outputs": [
        {
          "output_type": "execute_result",
          "data": {
            "text/html": [
              "<div>\n",
              "<style scoped>\n",
              "    .dataframe tbody tr th:only-of-type {\n",
              "        vertical-align: middle;\n",
              "    }\n",
              "\n",
              "    .dataframe tbody tr th {\n",
              "        vertical-align: top;\n",
              "    }\n",
              "\n",
              "    .dataframe thead th {\n",
              "        text-align: right;\n",
              "    }\n",
              "</style>\n",
              "<table border=\"1\" class=\"dataframe\">\n",
              "  <thead>\n",
              "    <tr style=\"text-align: right;\">\n",
              "      <th></th>\n",
              "      <th>name</th>\n",
              "      <th>artist</th>\n",
              "      <th>danceability</th>\n",
              "      <th>energy</th>\n",
              "      <th>key</th>\n",
              "      <th>loudness</th>\n",
              "      <th>mode</th>\n",
              "      <th>speechiness</th>\n",
              "      <th>acousticness</th>\n",
              "      <th>instrumentalness</th>\n",
              "      <th>liveness</th>\n",
              "      <th>valence</th>\n",
              "      <th>tempo</th>\n",
              "      <th>duration_ms</th>\n",
              "      <th>time_signature</th>\n",
              "      <th>chorus_hit</th>\n",
              "      <th>sections</th>\n",
              "      <th>year</th>\n",
              "      <th>playlist_title</th>\n",
              "    </tr>\n",
              "  </thead>\n",
              "  <tbody>\n",
              "    <tr>\n",
              "      <th>0</th>\n",
              "      <td>Redbone</td>\n",
              "      <td>Childish Gambino</td>\n",
              "      <td>0.745</td>\n",
              "      <td>0.356</td>\n",
              "      <td>1</td>\n",
              "      <td>-10.425</td>\n",
              "      <td>1</td>\n",
              "      <td>0.0941</td>\n",
              "      <td>0.1720</td>\n",
              "      <td>0.00943</td>\n",
              "      <td>0.123</td>\n",
              "      <td>0.607</td>\n",
              "      <td>160.033</td>\n",
              "      <td>326933</td>\n",
              "      <td>4</td>\n",
              "      <td>12.79254</td>\n",
              "      <td>15</td>\n",
              "      <td>2017</td>\n",
              "      <td>Your top songs 2017</td>\n",
              "    </tr>\n",
              "    <tr>\n",
              "      <th>1</th>\n",
              "      <td>Doves In The Wind (feat. Kendrick Lamar)</td>\n",
              "      <td>SZA</td>\n",
              "      <td>0.693</td>\n",
              "      <td>0.713</td>\n",
              "      <td>10</td>\n",
              "      <td>-4.489</td>\n",
              "      <td>0</td>\n",
              "      <td>0.3510</td>\n",
              "      <td>0.3430</td>\n",
              "      <td>0.00000</td>\n",
              "      <td>0.102</td>\n",
              "      <td>0.615</td>\n",
              "      <td>137.335</td>\n",
              "      <td>266080</td>\n",
              "      <td>4</td>\n",
              "      <td>22.01908</td>\n",
              "      <td>12</td>\n",
              "      <td>2017</td>\n",
              "      <td>Your top songs 2017</td>\n",
              "    </tr>\n",
              "    <tr>\n",
              "      <th>2</th>\n",
              "      <td>I Found You</td>\n",
              "      <td>Alabama Shakes</td>\n",
              "      <td>0.446</td>\n",
              "      <td>0.760</td>\n",
              "      <td>7</td>\n",
              "      <td>-4.654</td>\n",
              "      <td>1</td>\n",
              "      <td>0.0370</td>\n",
              "      <td>0.2310</td>\n",
              "      <td>0.02800</td>\n",
              "      <td>0.122</td>\n",
              "      <td>0.235</td>\n",
              "      <td>109.867</td>\n",
              "      <td>179653</td>\n",
              "      <td>4</td>\n",
              "      <td>115.80026</td>\n",
              "      <td>4</td>\n",
              "      <td>2017</td>\n",
              "      <td>Your top songs 2017</td>\n",
              "    </tr>\n",
              "    <tr>\n",
              "      <th>3</th>\n",
              "      <td>Garden (Say It Like Dat)</td>\n",
              "      <td>SZA</td>\n",
              "      <td>0.730</td>\n",
              "      <td>0.457</td>\n",
              "      <td>9</td>\n",
              "      <td>-7.260</td>\n",
              "      <td>1</td>\n",
              "      <td>0.2830</td>\n",
              "      <td>0.0705</td>\n",
              "      <td>0.00000</td>\n",
              "      <td>0.124</td>\n",
              "      <td>0.549</td>\n",
              "      <td>111.352</td>\n",
              "      <td>208400</td>\n",
              "      <td>4</td>\n",
              "      <td>19.71806</td>\n",
              "      <td>11</td>\n",
              "      <td>2017</td>\n",
              "      <td>Your top songs 2017</td>\n",
              "    </tr>\n",
              "    <tr>\n",
              "      <th>4</th>\n",
              "      <td>Love</td>\n",
              "      <td>Lana Del Rey</td>\n",
              "      <td>0.329</td>\n",
              "      <td>0.358</td>\n",
              "      <td>10</td>\n",
              "      <td>-10.956</td>\n",
              "      <td>1</td>\n",
              "      <td>0.0330</td>\n",
              "      <td>0.4740</td>\n",
              "      <td>0.00345</td>\n",
              "      <td>0.110</td>\n",
              "      <td>0.232</td>\n",
              "      <td>99.373</td>\n",
              "      <td>278360</td>\n",
              "      <td>4</td>\n",
              "      <td>24.03438</td>\n",
              "      <td>9</td>\n",
              "      <td>2017</td>\n",
              "      <td>Your top songs 2017</td>\n",
              "    </tr>\n",
              "  </tbody>\n",
              "</table>\n",
              "</div>"
            ],
            "text/plain": [
              "                                       name  ...       playlist_title\n",
              "0                                   Redbone  ...  Your top songs 2017\n",
              "1  Doves In The Wind (feat. Kendrick Lamar)  ...  Your top songs 2017\n",
              "2                               I Found You  ...  Your top songs 2017\n",
              "3                  Garden (Say It Like Dat)  ...  Your top songs 2017\n",
              "4                                      Love  ...  Your top songs 2017\n",
              "\n",
              "[5 rows x 19 columns]"
            ]
          },
          "metadata": {
            "tags": []
          },
          "execution_count": 79
        }
      ]
    },
    {
      "cell_type": "code",
      "metadata": {
        "id": "0aSMUwgl1dL7"
      },
      "source": [
        "playlist_2017_df.to_csv('playlist_2017_data.csv')\n",
        "!cp playlist_2017_data.csv \"drive/My Drive/SpotifyEDA\""
      ],
      "execution_count": 80,
      "outputs": []
    },
    {
      "cell_type": "markdown",
      "metadata": {
        "id": "WtBMcHxw1asu"
      },
      "source": [
        "#### 2018 df"
      ]
    },
    {
      "cell_type": "code",
      "metadata": {
        "id": "e-47f8Uj06a7"
      },
      "source": [
        "playlist_2018_df = get_playlist_df(top_tracks_2018_ids,2018,'Your top songs 2018')"
      ],
      "execution_count": 81,
      "outputs": []
    },
    {
      "cell_type": "code",
      "metadata": {
        "colab": {
          "base_uri": "https://localhost:8080/",
          "height": 394
        },
        "id": "idwqC4St1ksf",
        "outputId": "6b0e719e-1f96-42f6-8ca8-781f015c98f4"
      },
      "source": [
        "playlist_2018_df.head()"
      ],
      "execution_count": 82,
      "outputs": [
        {
          "output_type": "execute_result",
          "data": {
            "text/html": [
              "<div>\n",
              "<style scoped>\n",
              "    .dataframe tbody tr th:only-of-type {\n",
              "        vertical-align: middle;\n",
              "    }\n",
              "\n",
              "    .dataframe tbody tr th {\n",
              "        vertical-align: top;\n",
              "    }\n",
              "\n",
              "    .dataframe thead th {\n",
              "        text-align: right;\n",
              "    }\n",
              "</style>\n",
              "<table border=\"1\" class=\"dataframe\">\n",
              "  <thead>\n",
              "    <tr style=\"text-align: right;\">\n",
              "      <th></th>\n",
              "      <th>name</th>\n",
              "      <th>artist</th>\n",
              "      <th>danceability</th>\n",
              "      <th>energy</th>\n",
              "      <th>key</th>\n",
              "      <th>loudness</th>\n",
              "      <th>mode</th>\n",
              "      <th>speechiness</th>\n",
              "      <th>acousticness</th>\n",
              "      <th>instrumentalness</th>\n",
              "      <th>liveness</th>\n",
              "      <th>valence</th>\n",
              "      <th>tempo</th>\n",
              "      <th>duration_ms</th>\n",
              "      <th>time_signature</th>\n",
              "      <th>chorus_hit</th>\n",
              "      <th>sections</th>\n",
              "      <th>year</th>\n",
              "      <th>playlist_title</th>\n",
              "    </tr>\n",
              "  </thead>\n",
              "  <tbody>\n",
              "    <tr>\n",
              "      <th>0</th>\n",
              "      <td>Bickenhead</td>\n",
              "      <td>Cardi B</td>\n",
              "      <td>0.884</td>\n",
              "      <td>0.814</td>\n",
              "      <td>7</td>\n",
              "      <td>-5.333</td>\n",
              "      <td>1</td>\n",
              "      <td>0.3030</td>\n",
              "      <td>0.1540</td>\n",
              "      <td>0.000002</td>\n",
              "      <td>0.158</td>\n",
              "      <td>0.907</td>\n",
              "      <td>155.938</td>\n",
              "      <td>181623</td>\n",
              "      <td>4</td>\n",
              "      <td>23.34086</td>\n",
              "      <td>9</td>\n",
              "      <td>2018</td>\n",
              "      <td>Your top songs 2018</td>\n",
              "    </tr>\n",
              "    <tr>\n",
              "      <th>1</th>\n",
              "      <td>Happy Without Me (feat. Joey Bada$$)</td>\n",
              "      <td>Chloe x Halle</td>\n",
              "      <td>0.570</td>\n",
              "      <td>0.576</td>\n",
              "      <td>1</td>\n",
              "      <td>-6.792</td>\n",
              "      <td>1</td>\n",
              "      <td>0.0631</td>\n",
              "      <td>0.2280</td>\n",
              "      <td>0.000000</td>\n",
              "      <td>0.330</td>\n",
              "      <td>0.438</td>\n",
              "      <td>143.943</td>\n",
              "      <td>206946</td>\n",
              "      <td>4</td>\n",
              "      <td>31.03862</td>\n",
              "      <td>8</td>\n",
              "      <td>2018</td>\n",
              "      <td>Your top songs 2018</td>\n",
              "    </tr>\n",
              "    <tr>\n",
              "      <th>2</th>\n",
              "      <td>Best Part (feat. H.E.R.)</td>\n",
              "      <td>Daniel Caesar</td>\n",
              "      <td>0.524</td>\n",
              "      <td>0.364</td>\n",
              "      <td>7</td>\n",
              "      <td>-10.209</td>\n",
              "      <td>1</td>\n",
              "      <td>0.0367</td>\n",
              "      <td>0.8080</td>\n",
              "      <td>0.000000</td>\n",
              "      <td>0.100</td>\n",
              "      <td>0.436</td>\n",
              "      <td>75.240</td>\n",
              "      <td>209831</td>\n",
              "      <td>4</td>\n",
              "      <td>18.46920</td>\n",
              "      <td>9</td>\n",
              "      <td>2018</td>\n",
              "      <td>Your top songs 2018</td>\n",
              "    </tr>\n",
              "    <tr>\n",
              "      <th>3</th>\n",
              "      <td>Garden (Say It Like Dat)</td>\n",
              "      <td>SZA</td>\n",
              "      <td>0.730</td>\n",
              "      <td>0.457</td>\n",
              "      <td>9</td>\n",
              "      <td>-7.260</td>\n",
              "      <td>1</td>\n",
              "      <td>0.2830</td>\n",
              "      <td>0.0705</td>\n",
              "      <td>0.000000</td>\n",
              "      <td>0.124</td>\n",
              "      <td>0.549</td>\n",
              "      <td>111.352</td>\n",
              "      <td>208400</td>\n",
              "      <td>4</td>\n",
              "      <td>19.71806</td>\n",
              "      <td>11</td>\n",
              "      <td>2018</td>\n",
              "      <td>Your top songs 2018</td>\n",
              "    </tr>\n",
              "    <tr>\n",
              "      <th>4</th>\n",
              "      <td>Crazy, Classic, Life</td>\n",
              "      <td>Janelle Monáe</td>\n",
              "      <td>0.466</td>\n",
              "      <td>0.706</td>\n",
              "      <td>6</td>\n",
              "      <td>-7.943</td>\n",
              "      <td>0</td>\n",
              "      <td>0.0544</td>\n",
              "      <td>0.0084</td>\n",
              "      <td>0.001630</td>\n",
              "      <td>0.223</td>\n",
              "      <td>0.149</td>\n",
              "      <td>101.009</td>\n",
              "      <td>286626</td>\n",
              "      <td>4</td>\n",
              "      <td>12.77912</td>\n",
              "      <td>13</td>\n",
              "      <td>2018</td>\n",
              "      <td>Your top songs 2018</td>\n",
              "    </tr>\n",
              "  </tbody>\n",
              "</table>\n",
              "</div>"
            ],
            "text/plain": [
              "                                   name  ...       playlist_title\n",
              "0                            Bickenhead  ...  Your top songs 2018\n",
              "1  Happy Without Me (feat. Joey Bada$$)  ...  Your top songs 2018\n",
              "2              Best Part (feat. H.E.R.)  ...  Your top songs 2018\n",
              "3              Garden (Say It Like Dat)  ...  Your top songs 2018\n",
              "4                  Crazy, Classic, Life  ...  Your top songs 2018\n",
              "\n",
              "[5 rows x 19 columns]"
            ]
          },
          "metadata": {
            "tags": []
          },
          "execution_count": 82
        }
      ]
    },
    {
      "cell_type": "code",
      "metadata": {
        "id": "nKSgryRp1nYu"
      },
      "source": [
        "playlist_2018_df.to_csv('playlist_2018_data.csv')\n",
        "!cp playlist_2018_data.csv \"drive/My Drive/SpotifyEDA\""
      ],
      "execution_count": 84,
      "outputs": []
    },
    {
      "cell_type": "markdown",
      "metadata": {
        "id": "r_I7rO_U2aNX"
      },
      "source": [
        "#### 2019 df"
      ]
    },
    {
      "cell_type": "code",
      "metadata": {
        "id": "3QXI_jNt2ZNn"
      },
      "source": [
        "playlist_2019_df = get_playlist_df(top_tracks_2019_ids,2019,'Your top songs 2019')"
      ],
      "execution_count": 83,
      "outputs": []
    },
    {
      "cell_type": "code",
      "metadata": {
        "colab": {
          "base_uri": "https://localhost:8080/",
          "height": 394
        },
        "id": "iT3Q_G392jse",
        "outputId": "482cef03-dc97-416d-8016-aa2dfc0e5fb3"
      },
      "source": [
        "playlist_2019_df.head()"
      ],
      "execution_count": 85,
      "outputs": [
        {
          "output_type": "execute_result",
          "data": {
            "text/html": [
              "<div>\n",
              "<style scoped>\n",
              "    .dataframe tbody tr th:only-of-type {\n",
              "        vertical-align: middle;\n",
              "    }\n",
              "\n",
              "    .dataframe tbody tr th {\n",
              "        vertical-align: top;\n",
              "    }\n",
              "\n",
              "    .dataframe thead th {\n",
              "        text-align: right;\n",
              "    }\n",
              "</style>\n",
              "<table border=\"1\" class=\"dataframe\">\n",
              "  <thead>\n",
              "    <tr style=\"text-align: right;\">\n",
              "      <th></th>\n",
              "      <th>name</th>\n",
              "      <th>artist</th>\n",
              "      <th>danceability</th>\n",
              "      <th>energy</th>\n",
              "      <th>key</th>\n",
              "      <th>loudness</th>\n",
              "      <th>mode</th>\n",
              "      <th>speechiness</th>\n",
              "      <th>acousticness</th>\n",
              "      <th>instrumentalness</th>\n",
              "      <th>liveness</th>\n",
              "      <th>valence</th>\n",
              "      <th>tempo</th>\n",
              "      <th>duration_ms</th>\n",
              "      <th>time_signature</th>\n",
              "      <th>chorus_hit</th>\n",
              "      <th>sections</th>\n",
              "      <th>year</th>\n",
              "      <th>playlist_title</th>\n",
              "    </tr>\n",
              "  </thead>\n",
              "  <tbody>\n",
              "    <tr>\n",
              "      <th>0</th>\n",
              "      <td>Cash Shit (feat. DaBaby)</td>\n",
              "      <td>Megan Thee Stallion</td>\n",
              "      <td>0.921</td>\n",
              "      <td>0.635</td>\n",
              "      <td>1</td>\n",
              "      <td>-4.904</td>\n",
              "      <td>1</td>\n",
              "      <td>0.4160</td>\n",
              "      <td>0.02180</td>\n",
              "      <td>0.0</td>\n",
              "      <td>0.0946</td>\n",
              "      <td>0.549</td>\n",
              "      <td>130.028</td>\n",
              "      <td>192539</td>\n",
              "      <td>4</td>\n",
              "      <td>29.92726</td>\n",
              "      <td>7</td>\n",
              "      <td>2019</td>\n",
              "      <td>Your top songs 2019</td>\n",
              "    </tr>\n",
              "    <tr>\n",
              "      <th>1</th>\n",
              "      <td>Tia Tamera (feat. Rico Nasty)</td>\n",
              "      <td>Doja Cat</td>\n",
              "      <td>0.812</td>\n",
              "      <td>0.675</td>\n",
              "      <td>0</td>\n",
              "      <td>-4.594</td>\n",
              "      <td>1</td>\n",
              "      <td>0.0938</td>\n",
              "      <td>0.01700</td>\n",
              "      <td>0.0</td>\n",
              "      <td>0.1820</td>\n",
              "      <td>0.408</td>\n",
              "      <td>119.854</td>\n",
              "      <td>212813</td>\n",
              "      <td>4</td>\n",
              "      <td>33.02602</td>\n",
              "      <td>11</td>\n",
              "      <td>2019</td>\n",
              "      <td>Your top songs 2019</td>\n",
              "    </tr>\n",
              "    <tr>\n",
              "      <th>2</th>\n",
              "      <td>Juice</td>\n",
              "      <td>Lizzo</td>\n",
              "      <td>0.767</td>\n",
              "      <td>0.889</td>\n",
              "      <td>7</td>\n",
              "      <td>-2.988</td>\n",
              "      <td>1</td>\n",
              "      <td>0.0963</td>\n",
              "      <td>0.00611</td>\n",
              "      <td>0.0</td>\n",
              "      <td>0.4020</td>\n",
              "      <td>0.843</td>\n",
              "      <td>119.930</td>\n",
              "      <td>195144</td>\n",
              "      <td>4</td>\n",
              "      <td>31.91824</td>\n",
              "      <td>10</td>\n",
              "      <td>2019</td>\n",
              "      <td>Your top songs 2019</td>\n",
              "    </tr>\n",
              "    <tr>\n",
              "      <th>3</th>\n",
              "      <td>Truth Hurts</td>\n",
              "      <td>Lizzo</td>\n",
              "      <td>0.715</td>\n",
              "      <td>0.624</td>\n",
              "      <td>4</td>\n",
              "      <td>-3.046</td>\n",
              "      <td>0</td>\n",
              "      <td>0.1140</td>\n",
              "      <td>0.11000</td>\n",
              "      <td>0.0</td>\n",
              "      <td>0.1230</td>\n",
              "      <td>0.412</td>\n",
              "      <td>158.087</td>\n",
              "      <td>173325</td>\n",
              "      <td>4</td>\n",
              "      <td>15.78276</td>\n",
              "      <td>9</td>\n",
              "      <td>2019</td>\n",
              "      <td>Your top songs 2019</td>\n",
              "    </tr>\n",
              "    <tr>\n",
              "      <th>4</th>\n",
              "      <td>Act Up</td>\n",
              "      <td>City Girls</td>\n",
              "      <td>0.938</td>\n",
              "      <td>0.638</td>\n",
              "      <td>8</td>\n",
              "      <td>-4.713</td>\n",
              "      <td>1</td>\n",
              "      <td>0.1890</td>\n",
              "      <td>0.01670</td>\n",
              "      <td>0.0</td>\n",
              "      <td>0.1110</td>\n",
              "      <td>0.313</td>\n",
              "      <td>97.075</td>\n",
              "      <td>158332</td>\n",
              "      <td>4</td>\n",
              "      <td>21.07170</td>\n",
              "      <td>9</td>\n",
              "      <td>2019</td>\n",
              "      <td>Your top songs 2019</td>\n",
              "    </tr>\n",
              "  </tbody>\n",
              "</table>\n",
              "</div>"
            ],
            "text/plain": [
              "                            name  ...       playlist_title\n",
              "0       Cash Shit (feat. DaBaby)  ...  Your top songs 2019\n",
              "1  Tia Tamera (feat. Rico Nasty)  ...  Your top songs 2019\n",
              "2                          Juice  ...  Your top songs 2019\n",
              "3                    Truth Hurts  ...  Your top songs 2019\n",
              "4                         Act Up  ...  Your top songs 2019\n",
              "\n",
              "[5 rows x 19 columns]"
            ]
          },
          "metadata": {
            "tags": []
          },
          "execution_count": 85
        }
      ]
    },
    {
      "cell_type": "code",
      "metadata": {
        "id": "ELLeN1AU2m0y"
      },
      "source": [
        "playlist_2019_df.to_csv('playlist_2019_data.csv')\n",
        "!cp playlist_2019_data.csv \"drive/My Drive/SpotifyEDA\""
      ],
      "execution_count": 86,
      "outputs": []
    },
    {
      "cell_type": "markdown",
      "metadata": {
        "id": "sa2VHHWV3Axd"
      },
      "source": [
        "#### 2020 df"
      ]
    },
    {
      "cell_type": "code",
      "metadata": {
        "id": "Z3VMKDG72_L9"
      },
      "source": [
        "playlist_2020_df = get_playlist_df(top_tracks_2020_ids,2020,'Your top songs 2020')"
      ],
      "execution_count": 87,
      "outputs": []
    },
    {
      "cell_type": "code",
      "metadata": {
        "colab": {
          "base_uri": "https://localhost:8080/",
          "height": 360
        },
        "id": "mCckdcFS3Gv1",
        "outputId": "acb553cd-96de-4097-d5ce-e2921f7049ab"
      },
      "source": [
        "playlist_2020_df.head()"
      ],
      "execution_count": 88,
      "outputs": [
        {
          "output_type": "execute_result",
          "data": {
            "text/html": [
              "<div>\n",
              "<style scoped>\n",
              "    .dataframe tbody tr th:only-of-type {\n",
              "        vertical-align: middle;\n",
              "    }\n",
              "\n",
              "    .dataframe tbody tr th {\n",
              "        vertical-align: top;\n",
              "    }\n",
              "\n",
              "    .dataframe thead th {\n",
              "        text-align: right;\n",
              "    }\n",
              "</style>\n",
              "<table border=\"1\" class=\"dataframe\">\n",
              "  <thead>\n",
              "    <tr style=\"text-align: right;\">\n",
              "      <th></th>\n",
              "      <th>name</th>\n",
              "      <th>artist</th>\n",
              "      <th>danceability</th>\n",
              "      <th>energy</th>\n",
              "      <th>key</th>\n",
              "      <th>loudness</th>\n",
              "      <th>mode</th>\n",
              "      <th>speechiness</th>\n",
              "      <th>acousticness</th>\n",
              "      <th>instrumentalness</th>\n",
              "      <th>liveness</th>\n",
              "      <th>valence</th>\n",
              "      <th>tempo</th>\n",
              "      <th>duration_ms</th>\n",
              "      <th>time_signature</th>\n",
              "      <th>chorus_hit</th>\n",
              "      <th>sections</th>\n",
              "      <th>year</th>\n",
              "      <th>playlist_title</th>\n",
              "    </tr>\n",
              "  </thead>\n",
              "  <tbody>\n",
              "    <tr>\n",
              "      <th>0</th>\n",
              "      <td>Captain Hook</td>\n",
              "      <td>Megan Thee Stallion</td>\n",
              "      <td>0.863</td>\n",
              "      <td>0.633</td>\n",
              "      <td>10</td>\n",
              "      <td>-5.002</td>\n",
              "      <td>0</td>\n",
              "      <td>0.2870</td>\n",
              "      <td>0.0118</td>\n",
              "      <td>0.000000</td>\n",
              "      <td>0.2850</td>\n",
              "      <td>0.545</td>\n",
              "      <td>163.991</td>\n",
              "      <td>176749</td>\n",
              "      <td>4</td>\n",
              "      <td>20.22078</td>\n",
              "      <td>8</td>\n",
              "      <td>2020</td>\n",
              "      <td>Your top songs 2020</td>\n",
              "    </tr>\n",
              "    <tr>\n",
              "      <th>1</th>\n",
              "      <td>Find Someone Like You</td>\n",
              "      <td>Snoh Aalegra</td>\n",
              "      <td>0.531</td>\n",
              "      <td>0.483</td>\n",
              "      <td>6</td>\n",
              "      <td>-9.729</td>\n",
              "      <td>0</td>\n",
              "      <td>0.0467</td>\n",
              "      <td>0.7630</td>\n",
              "      <td>0.000002</td>\n",
              "      <td>0.1600</td>\n",
              "      <td>0.414</td>\n",
              "      <td>84.814</td>\n",
              "      <td>206465</td>\n",
              "      <td>4</td>\n",
              "      <td>22.91834</td>\n",
              "      <td>11</td>\n",
              "      <td>2020</td>\n",
              "      <td>Your top songs 2020</td>\n",
              "    </tr>\n",
              "    <tr>\n",
              "      <th>2</th>\n",
              "      <td>1950</td>\n",
              "      <td>King Princess</td>\n",
              "      <td>0.600</td>\n",
              "      <td>0.535</td>\n",
              "      <td>4</td>\n",
              "      <td>-7.043</td>\n",
              "      <td>1</td>\n",
              "      <td>0.1070</td>\n",
              "      <td>0.6480</td>\n",
              "      <td>0.000005</td>\n",
              "      <td>0.1620</td>\n",
              "      <td>0.269</td>\n",
              "      <td>71.912</td>\n",
              "      <td>225133</td>\n",
              "      <td>4</td>\n",
              "      <td>29.95932</td>\n",
              "      <td>11</td>\n",
              "      <td>2020</td>\n",
              "      <td>Your top songs 2020</td>\n",
              "    </tr>\n",
              "    <tr>\n",
              "      <th>3</th>\n",
              "      <td>Fool For You</td>\n",
              "      <td>Snoh Aalegra</td>\n",
              "      <td>0.593</td>\n",
              "      <td>0.287</td>\n",
              "      <td>2</td>\n",
              "      <td>-11.496</td>\n",
              "      <td>1</td>\n",
              "      <td>0.0631</td>\n",
              "      <td>0.8320</td>\n",
              "      <td>0.000128</td>\n",
              "      <td>0.1040</td>\n",
              "      <td>0.238</td>\n",
              "      <td>149.761</td>\n",
              "      <td>194303</td>\n",
              "      <td>3</td>\n",
              "      <td>39.33018</td>\n",
              "      <td>11</td>\n",
              "      <td>2020</td>\n",
              "      <td>Your top songs 2020</td>\n",
              "    </tr>\n",
              "    <tr>\n",
              "      <th>4</th>\n",
              "      <td>I Want You Around</td>\n",
              "      <td>Snoh Aalegra</td>\n",
              "      <td>0.705</td>\n",
              "      <td>0.433</td>\n",
              "      <td>4</td>\n",
              "      <td>-9.706</td>\n",
              "      <td>1</td>\n",
              "      <td>0.2040</td>\n",
              "      <td>0.3880</td>\n",
              "      <td>0.134000</td>\n",
              "      <td>0.0841</td>\n",
              "      <td>0.602</td>\n",
              "      <td>168.006</td>\n",
              "      <td>212787</td>\n",
              "      <td>4</td>\n",
              "      <td>14.31542</td>\n",
              "      <td>13</td>\n",
              "      <td>2020</td>\n",
              "      <td>Your top songs 2020</td>\n",
              "    </tr>\n",
              "  </tbody>\n",
              "</table>\n",
              "</div>"
            ],
            "text/plain": [
              "                    name               artist  ...  year       playlist_title\n",
              "0           Captain Hook  Megan Thee Stallion  ...  2020  Your top songs 2020\n",
              "1  Find Someone Like You         Snoh Aalegra  ...  2020  Your top songs 2020\n",
              "2                   1950        King Princess  ...  2020  Your top songs 2020\n",
              "3           Fool For You         Snoh Aalegra  ...  2020  Your top songs 2020\n",
              "4      I Want You Around         Snoh Aalegra  ...  2020  Your top songs 2020\n",
              "\n",
              "[5 rows x 19 columns]"
            ]
          },
          "metadata": {
            "tags": []
          },
          "execution_count": 88
        }
      ]
    },
    {
      "cell_type": "code",
      "metadata": {
        "id": "xWFVL91K3JMq"
      },
      "source": [
        "playlist_2020_df.to_csv('playlist_2020_data.csv')\n",
        "!cp playlist_2020_data.csv \"drive/My Drive/SpotifyEDA\""
      ],
      "execution_count": null,
      "outputs": []
    },
    {
      "cell_type": "markdown",
      "metadata": {
        "id": "aikERo9x4_MY"
      },
      "source": [
        "## Join the dataframes toghether"
      ]
    },
    {
      "cell_type": "code",
      "metadata": {
        "id": "yFosae-p495y"
      },
      "source": [
        "playlist_df = playlist_2016_df.append(playlist_2017_df)"
      ],
      "execution_count": 89,
      "outputs": []
    },
    {
      "cell_type": "code",
      "metadata": {
        "id": "z9_jrOMf5NjW"
      },
      "source": [
        "playlist_df = playlist_df.append(playlist_2018_df)"
      ],
      "execution_count": 91,
      "outputs": []
    },
    {
      "cell_type": "code",
      "metadata": {
        "id": "z4tOOG9J5Opx"
      },
      "source": [
        "playlist_df = playlist_df.append(playlist_2019_df)\n",
        "playlist_df = playlist_df.append(playlist_2020_df)"
      ],
      "execution_count": 92,
      "outputs": []
    },
    {
      "cell_type": "code",
      "metadata": {
        "id": "9W1tTPv55YM2"
      },
      "source": [
        "playlist_df.to_csv('playlist_data.csv')\n",
        "!cp playlist_data.csv \"drive/My Drive/SpotifyEDA\""
      ],
      "execution_count": 94,
      "outputs": []
    },
    {
      "cell_type": "code",
      "metadata": {
        "colab": {
          "base_uri": "https://localhost:8080/",
          "height": 377
        },
        "id": "UGy_0sEc5ZwD",
        "outputId": "ea6ac58f-890c-4f00-e22b-df24e8838c62"
      },
      "source": [
        "playlist_df.head()"
      ],
      "execution_count": 95,
      "outputs": [
        {
          "output_type": "execute_result",
          "data": {
            "text/html": [
              "<div>\n",
              "<style scoped>\n",
              "    .dataframe tbody tr th:only-of-type {\n",
              "        vertical-align: middle;\n",
              "    }\n",
              "\n",
              "    .dataframe tbody tr th {\n",
              "        vertical-align: top;\n",
              "    }\n",
              "\n",
              "    .dataframe thead th {\n",
              "        text-align: right;\n",
              "    }\n",
              "</style>\n",
              "<table border=\"1\" class=\"dataframe\">\n",
              "  <thead>\n",
              "    <tr style=\"text-align: right;\">\n",
              "      <th></th>\n",
              "      <th>name</th>\n",
              "      <th>artist</th>\n",
              "      <th>danceability</th>\n",
              "      <th>energy</th>\n",
              "      <th>key</th>\n",
              "      <th>loudness</th>\n",
              "      <th>mode</th>\n",
              "      <th>speechiness</th>\n",
              "      <th>acousticness</th>\n",
              "      <th>instrumentalness</th>\n",
              "      <th>liveness</th>\n",
              "      <th>valence</th>\n",
              "      <th>tempo</th>\n",
              "      <th>duration_ms</th>\n",
              "      <th>time_signature</th>\n",
              "      <th>chorus_hit</th>\n",
              "      <th>sections</th>\n",
              "      <th>year</th>\n",
              "      <th>playlist_title</th>\n",
              "    </tr>\n",
              "  </thead>\n",
              "  <tbody>\n",
              "    <tr>\n",
              "      <th>0</th>\n",
              "      <td>Sex With Me</td>\n",
              "      <td>Rihanna</td>\n",
              "      <td>0.580</td>\n",
              "      <td>0.532</td>\n",
              "      <td>1</td>\n",
              "      <td>-5.668</td>\n",
              "      <td>0</td>\n",
              "      <td>0.0424</td>\n",
              "      <td>0.2940</td>\n",
              "      <td>0.000000</td>\n",
              "      <td>0.0948</td>\n",
              "      <td>0.390</td>\n",
              "      <td>112.049</td>\n",
              "      <td>206400</td>\n",
              "      <td>4</td>\n",
              "      <td>20.87658</td>\n",
              "      <td>10</td>\n",
              "      <td>2016</td>\n",
              "      <td>Your top songs 2016</td>\n",
              "    </tr>\n",
              "    <tr>\n",
              "      <th>1</th>\n",
              "      <td>Dope</td>\n",
              "      <td>Fifth Harmony</td>\n",
              "      <td>0.719</td>\n",
              "      <td>0.519</td>\n",
              "      <td>0</td>\n",
              "      <td>-6.545</td>\n",
              "      <td>1</td>\n",
              "      <td>0.0494</td>\n",
              "      <td>0.1300</td>\n",
              "      <td>0.000000</td>\n",
              "      <td>0.0833</td>\n",
              "      <td>0.122</td>\n",
              "      <td>90.995</td>\n",
              "      <td>212626</td>\n",
              "      <td>4</td>\n",
              "      <td>32.72684</td>\n",
              "      <td>13</td>\n",
              "      <td>2016</td>\n",
              "      <td>Your top songs 2016</td>\n",
              "    </tr>\n",
              "    <tr>\n",
              "      <th>2</th>\n",
              "      <td>Cranes in the Sky</td>\n",
              "      <td>Solange</td>\n",
              "      <td>0.719</td>\n",
              "      <td>0.615</td>\n",
              "      <td>6</td>\n",
              "      <td>-5.972</td>\n",
              "      <td>1</td>\n",
              "      <td>0.0450</td>\n",
              "      <td>0.4080</td>\n",
              "      <td>0.000147</td>\n",
              "      <td>0.2350</td>\n",
              "      <td>0.465</td>\n",
              "      <td>96.988</td>\n",
              "      <td>250973</td>\n",
              "      <td>4</td>\n",
              "      <td>18.63714</td>\n",
              "      <td>5</td>\n",
              "      <td>2016</td>\n",
              "      <td>Your top songs 2016</td>\n",
              "    </tr>\n",
              "    <tr>\n",
              "      <th>3</th>\n",
              "      <td>For Free (feat. Drake)</td>\n",
              "      <td>DJ Khaled</td>\n",
              "      <td>0.916</td>\n",
              "      <td>0.571</td>\n",
              "      <td>10</td>\n",
              "      <td>-8.241</td>\n",
              "      <td>0</td>\n",
              "      <td>0.2000</td>\n",
              "      <td>0.0173</td>\n",
              "      <td>0.000001</td>\n",
              "      <td>0.1530</td>\n",
              "      <td>0.498</td>\n",
              "      <td>103.521</td>\n",
              "      <td>183695</td>\n",
              "      <td>4</td>\n",
              "      <td>29.67050</td>\n",
              "      <td>10</td>\n",
              "      <td>2016</td>\n",
              "      <td>Your top songs 2016</td>\n",
              "    </tr>\n",
              "    <tr>\n",
              "      <th>4</th>\n",
              "      <td>Crush</td>\n",
              "      <td>Yuna</td>\n",
              "      <td>0.678</td>\n",
              "      <td>0.414</td>\n",
              "      <td>9</td>\n",
              "      <td>-10.144</td>\n",
              "      <td>0</td>\n",
              "      <td>0.0498</td>\n",
              "      <td>0.3660</td>\n",
              "      <td>0.000004</td>\n",
              "      <td>0.0885</td>\n",
              "      <td>0.355</td>\n",
              "      <td>130.031</td>\n",
              "      <td>243133</td>\n",
              "      <td>4</td>\n",
              "      <td>29.11098</td>\n",
              "      <td>9</td>\n",
              "      <td>2016</td>\n",
              "      <td>Your top songs 2016</td>\n",
              "    </tr>\n",
              "  </tbody>\n",
              "</table>\n",
              "</div>"
            ],
            "text/plain": [
              "                     name         artist  ...  year       playlist_title\n",
              "0             Sex With Me        Rihanna  ...  2016  Your top songs 2016\n",
              "1                    Dope  Fifth Harmony  ...  2016  Your top songs 2016\n",
              "2       Cranes in the Sky        Solange  ...  2016  Your top songs 2016\n",
              "3  For Free (feat. Drake)      DJ Khaled  ...  2016  Your top songs 2016\n",
              "4                   Crush           Yuna  ...  2016  Your top songs 2016\n",
              "\n",
              "[5 rows x 19 columns]"
            ]
          },
          "metadata": {
            "tags": []
          },
          "execution_count": 95
        }
      ]
    },
    {
      "cell_type": "code",
      "metadata": {
        "colab": {
          "base_uri": "https://localhost:8080/"
        },
        "id": "tYlDawwE5lvm",
        "outputId": "453fed95-d6a3-407a-81cc-b12fb02ce69f"
      },
      "source": [
        "playlist_df['artist'].value_counts().nlargest(20)"
      ],
      "execution_count": 101,
      "outputs": [
        {
          "output_type": "execute_result",
          "data": {
            "text/plain": [
              "Megan Thee Stallion    20\n",
              "Lizzo                  16\n",
              "Ariana Grande          13\n",
              "Solange                13\n",
              "Snoh Aalegra           12\n",
              "Kehlani                11\n",
              "Chloe x Halle          11\n",
              "Childish Gambino       11\n",
              "Jill Scott              9\n",
              "SZA                     9\n",
              "Lianne La Havas         8\n",
              "Leon Bridges            7\n",
              "Frank Ocean             7\n",
              "Lorde                   7\n",
              "Dreamville              6\n",
              "Various Artists         6\n",
              "H.E.R.                  6\n",
              "Drake                   6\n",
              "6LACK                   6\n",
              "Doja Cat                6\n",
              "Name: artist, dtype: int64"
            ]
          },
          "metadata": {
            "tags": []
          },
          "execution_count": 101
        }
      ]
    },
    {
      "cell_type": "code",
      "metadata": {
        "colab": {
          "base_uri": "https://localhost:8080/"
        },
        "id": "qliT-YAx5o8W",
        "outputId": "46eec237-306f-4200-c738-0ce7b83db2b8"
      },
      "source": [
        "playlist_df['name'].value_counts()"
      ],
      "execution_count": 98,
      "outputs": [
        {
          "output_type": "execute_result",
          "data": {
            "text/plain": [
              "The Way                                4\n",
              "Pretty Little Fears (feat. J. Cole)    3\n",
              "This Feeling                           3\n",
              "Fast Car                               3\n",
              "Mad (feat. Lil Wayne)                  3\n",
              "                                      ..\n",
              "Shallow - Radio Edit                   1\n",
              "Slide (feat. Frank Ocean & Migos)      1\n",
              "Sorry                                  1\n",
              "Let Me Love You                        1\n",
              "B.S. (feat. H.E.R.)                    1\n",
              "Name: name, Length: 448, dtype: int64"
            ]
          },
          "metadata": {
            "tags": []
          },
          "execution_count": 98
        }
      ]
    },
    {
      "cell_type": "code",
      "metadata": {
        "colab": {
          "base_uri": "https://localhost:8080/"
        },
        "id": "ZOW6z1Bo5vw5",
        "outputId": "a7e01ae3-1236-4f0a-f056-478f089bf453"
      },
      "source": [
        "playlist_df.groupby(by=[\"artist\"]).year.count()"
      ],
      "execution_count": 104,
      "outputs": [
        {
          "output_type": "execute_result",
          "data": {
            "text/plain": [
              "artist\n",
              "2 Chainz        2\n",
              "21 Savage       1\n",
              "6LACK           6\n",
              "A$AP Ferg       1\n",
              "Adele           2\n",
              "               ..\n",
              "Yola            1\n",
              "Young Thug      1\n",
              "Yuna            1\n",
              "ZAYN            3\n",
              "benny blanco    1\n",
              "Name: year, Length: 177, dtype: int64"
            ]
          },
          "metadata": {
            "tags": []
          },
          "execution_count": 104
        }
      ]
    },
    {
      "cell_type": "code",
      "metadata": {
        "id": "0pXNUUPM6J-l"
      },
      "source": [
        ""
      ],
      "execution_count": null,
      "outputs": []
    }
  ]
}