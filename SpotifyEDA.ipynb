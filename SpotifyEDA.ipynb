{
  "nbformat": 4,
  "nbformat_minor": 0,
  "metadata": {
    "colab": {
      "name": "SpotifyEDA.ipynb",
      "provenance": [],
      "authorship_tag": "ABX9TyOc/47Yu+tAZSpY7kLAhxhh",
      "include_colab_link": true
    },
    "kernelspec": {
      "name": "python3",
      "display_name": "Python 3"
    }
  },
  "cells": [
    {
      "cell_type": "markdown",
      "metadata": {
        "id": "view-in-github",
        "colab_type": "text"
      },
      "source": [
        "<a href=\"https://colab.research.google.com/github/SibongileT/SpotifyYearEndPlaylistEDA/blob/main/SpotifyEDA.ipynb\" target=\"_parent\"><img src=\"https://colab.research.google.com/assets/colab-badge.svg\" alt=\"Open In Colab\"/></a>"
      ]
    },
    {
      "cell_type": "code",
      "metadata": {
        "colab": {
          "base_uri": "https://localhost:8080/"
        },
        "id": "LNglYq2QC7u4",
        "outputId": "7f8d569b-f7ee-4877-d59d-3312c53fdaa4"
      },
      "source": [
        "import pandas as pd\n",
        "from google.colab import drive\n",
        "drive.mount('/content/drive')\n",
        "import matplotlib.pyplot as plt\n",
        "import seaborn as sns \n",
        "%matplotlib inline"
      ],
      "execution_count": 36,
      "outputs": [
        {
          "output_type": "stream",
          "text": [
            "Drive already mounted at /content/drive; to attempt to forcibly remount, call drive.mount(\"/content/drive\", force_remount=True).\n"
          ],
          "name": "stdout"
        }
      ]
    },
    {
      "cell_type": "code",
      "metadata": {
        "id": "ypyKHFwnDidB"
      },
      "source": [
        "path = \"/content/drive/MyDrive/SpotifyEDA/lyrics_data.csv\"\n",
        "lyrics_df = pd.read_csv(path,index_col=0)"
      ],
      "execution_count": 2,
      "outputs": []
    },
    {
      "cell_type": "code",
      "metadata": {
        "id": "J0BWoYRTD5sR"
      },
      "source": [
        "path = \"/content/drive/MyDrive/SpotifyEDA/playlist_data.csv\"\n",
        "playlist_df = pd.read_csv(path,index_col=0)"
      ],
      "execution_count": 3,
      "outputs": []
    },
    {
      "cell_type": "code",
      "metadata": {
        "colab": {
          "base_uri": "https://localhost:8080/"
        },
        "id": "NVllJz1uD2Fq",
        "outputId": "d2a4e149-15f7-4f31-d0a3-d39eb95748e2"
      },
      "source": [
        "playlist_df.shape,lyrics_df.shape"
      ],
      "execution_count": 4,
      "outputs": [
        {
          "output_type": "execute_result",
          "data": {
            "text/plain": [
              "((500, 20), (500, 4))"
            ]
          },
          "metadata": {
            "tags": []
          },
          "execution_count": 4
        }
      ]
    },
    {
      "cell_type": "code",
      "metadata": {
        "id": "riWexa7yD4Sz"
      },
      "source": [
        "lyrics_df = lyrics_df.rename(columns={'song_id':'id'})"
      ],
      "execution_count": 5,
      "outputs": []
    },
    {
      "cell_type": "code",
      "metadata": {
        "colab": {
          "base_uri": "https://localhost:8080/",
          "height": 204
        },
        "id": "4wOr2hQRGJs6",
        "outputId": "24c171de-98d0-4c15-9359-75649d990695"
      },
      "source": [
        "lyrics_df.head()"
      ],
      "execution_count": 6,
      "outputs": [
        {
          "output_type": "execute_result",
          "data": {
            "text/html": [
              "<div>\n",
              "<style scoped>\n",
              "    .dataframe tbody tr th:only-of-type {\n",
              "        vertical-align: middle;\n",
              "    }\n",
              "\n",
              "    .dataframe tbody tr th {\n",
              "        vertical-align: top;\n",
              "    }\n",
              "\n",
              "    .dataframe thead th {\n",
              "        text-align: right;\n",
              "    }\n",
              "</style>\n",
              "<table border=\"1\" class=\"dataframe\">\n",
              "  <thead>\n",
              "    <tr style=\"text-align: right;\">\n",
              "      <th></th>\n",
              "      <th>artist</th>\n",
              "      <th>song</th>\n",
              "      <th>lyrics</th>\n",
              "      <th>id</th>\n",
              "    </tr>\n",
              "  </thead>\n",
              "  <tbody>\n",
              "    <tr>\n",
              "      <th>0</th>\n",
              "      <td>Rihanna</td>\n",
              "      <td>Sex With Me</td>\n",
              "      <td>Sex with me, so amazing\\nAll this all hard wor...</td>\n",
              "      <td>6WAxKNbZoGNzQTIvdMqkFs</td>\n",
              "    </tr>\n",
              "    <tr>\n",
              "      <th>1</th>\n",
              "      <td>Fifth Harmony</td>\n",
              "      <td>Dope</td>\n",
              "      <td>New Jersey tongue, not saying too much\\nI'm fe...</td>\n",
              "      <td>660JUD1xQLB4XR1dMxUK4x</td>\n",
              "    </tr>\n",
              "    <tr>\n",
              "      <th>2</th>\n",
              "      <td>Solange</td>\n",
              "      <td>Cranes in the Sky</td>\n",
              "      <td>I tried to drink it away\\nI tried to put one i...</td>\n",
              "      <td>48EjSdYh8wz2gBxxqzrsLe</td>\n",
              "    </tr>\n",
              "    <tr>\n",
              "      <th>3</th>\n",
              "      <td>DJ Khaled</td>\n",
              "      <td>For Free</td>\n",
              "      <td>Would you fuck me for free?\\nAnother one (Anot...</td>\n",
              "      <td>4JDZl9nKIAhAhDjw753u4X</td>\n",
              "    </tr>\n",
              "    <tr>\n",
              "      <th>4</th>\n",
              "      <td>Yuna</td>\n",
              "      <td>Crush</td>\n",
              "      <td>You call me on a lazy afternoon\\nAsking me wha...</td>\n",
              "      <td>3Txcx4jhuiTZSvhAL0WaRc</td>\n",
              "    </tr>\n",
              "  </tbody>\n",
              "</table>\n",
              "</div>"
            ],
            "text/plain": [
              "          artist  ...                      id\n",
              "0        Rihanna  ...  6WAxKNbZoGNzQTIvdMqkFs\n",
              "1  Fifth Harmony  ...  660JUD1xQLB4XR1dMxUK4x\n",
              "2        Solange  ...  48EjSdYh8wz2gBxxqzrsLe\n",
              "3      DJ Khaled  ...  4JDZl9nKIAhAhDjw753u4X\n",
              "4           Yuna  ...  3Txcx4jhuiTZSvhAL0WaRc\n",
              "\n",
              "[5 rows x 4 columns]"
            ]
          },
          "metadata": {
            "tags": []
          },
          "execution_count": 6
        }
      ]
    },
    {
      "cell_type": "code",
      "metadata": {
        "id": "C0AkbilLJf05"
      },
      "source": [
        "lyrics_nodups_df = lyrics_df.drop_duplicates()"
      ],
      "execution_count": 7,
      "outputs": []
    },
    {
      "cell_type": "code",
      "metadata": {
        "colab": {
          "base_uri": "https://localhost:8080/",
          "height": 377
        },
        "id": "-or4Y0jQJBRZ",
        "outputId": "15430a31-ae92-4cd9-cea5-94fe67896e0e"
      },
      "source": [
        "playlist_df.head()"
      ],
      "execution_count": 8,
      "outputs": [
        {
          "output_type": "execute_result",
          "data": {
            "text/html": [
              "<div>\n",
              "<style scoped>\n",
              "    .dataframe tbody tr th:only-of-type {\n",
              "        vertical-align: middle;\n",
              "    }\n",
              "\n",
              "    .dataframe tbody tr th {\n",
              "        vertical-align: top;\n",
              "    }\n",
              "\n",
              "    .dataframe thead th {\n",
              "        text-align: right;\n",
              "    }\n",
              "</style>\n",
              "<table border=\"1\" class=\"dataframe\">\n",
              "  <thead>\n",
              "    <tr style=\"text-align: right;\">\n",
              "      <th></th>\n",
              "      <th>name</th>\n",
              "      <th>artist</th>\n",
              "      <th>danceability</th>\n",
              "      <th>energy</th>\n",
              "      <th>key</th>\n",
              "      <th>loudness</th>\n",
              "      <th>mode</th>\n",
              "      <th>speechiness</th>\n",
              "      <th>acousticness</th>\n",
              "      <th>instrumentalness</th>\n",
              "      <th>liveness</th>\n",
              "      <th>valence</th>\n",
              "      <th>tempo</th>\n",
              "      <th>duration_ms</th>\n",
              "      <th>time_signature</th>\n",
              "      <th>chorus_hit</th>\n",
              "      <th>sections</th>\n",
              "      <th>year</th>\n",
              "      <th>playlist_title</th>\n",
              "      <th>id</th>\n",
              "    </tr>\n",
              "  </thead>\n",
              "  <tbody>\n",
              "    <tr>\n",
              "      <th>0</th>\n",
              "      <td>Sex With Me</td>\n",
              "      <td>Rihanna</td>\n",
              "      <td>0.580</td>\n",
              "      <td>0.532</td>\n",
              "      <td>1</td>\n",
              "      <td>-5.668</td>\n",
              "      <td>0</td>\n",
              "      <td>0.0424</td>\n",
              "      <td>0.2940</td>\n",
              "      <td>0.000000</td>\n",
              "      <td>0.0948</td>\n",
              "      <td>0.390</td>\n",
              "      <td>112.049</td>\n",
              "      <td>206400</td>\n",
              "      <td>4</td>\n",
              "      <td>20.87658</td>\n",
              "      <td>10</td>\n",
              "      <td>2016</td>\n",
              "      <td>Your top songs 2016</td>\n",
              "      <td>6WAxKNbZoGNzQTIvdMqkFs</td>\n",
              "    </tr>\n",
              "    <tr>\n",
              "      <th>1</th>\n",
              "      <td>Dope</td>\n",
              "      <td>Fifth Harmony</td>\n",
              "      <td>0.719</td>\n",
              "      <td>0.519</td>\n",
              "      <td>0</td>\n",
              "      <td>-6.545</td>\n",
              "      <td>1</td>\n",
              "      <td>0.0494</td>\n",
              "      <td>0.1300</td>\n",
              "      <td>0.000000</td>\n",
              "      <td>0.0833</td>\n",
              "      <td>0.122</td>\n",
              "      <td>90.995</td>\n",
              "      <td>212626</td>\n",
              "      <td>4</td>\n",
              "      <td>32.72684</td>\n",
              "      <td>13</td>\n",
              "      <td>2016</td>\n",
              "      <td>Your top songs 2016</td>\n",
              "      <td>660JUD1xQLB4XR1dMxUK4x</td>\n",
              "    </tr>\n",
              "    <tr>\n",
              "      <th>2</th>\n",
              "      <td>Cranes in the Sky</td>\n",
              "      <td>Solange</td>\n",
              "      <td>0.719</td>\n",
              "      <td>0.615</td>\n",
              "      <td>6</td>\n",
              "      <td>-5.972</td>\n",
              "      <td>1</td>\n",
              "      <td>0.0450</td>\n",
              "      <td>0.4080</td>\n",
              "      <td>0.000147</td>\n",
              "      <td>0.2350</td>\n",
              "      <td>0.465</td>\n",
              "      <td>96.988</td>\n",
              "      <td>250973</td>\n",
              "      <td>4</td>\n",
              "      <td>18.63714</td>\n",
              "      <td>5</td>\n",
              "      <td>2016</td>\n",
              "      <td>Your top songs 2016</td>\n",
              "      <td>48EjSdYh8wz2gBxxqzrsLe</td>\n",
              "    </tr>\n",
              "    <tr>\n",
              "      <th>3</th>\n",
              "      <td>For Free (feat. Drake)</td>\n",
              "      <td>DJ Khaled</td>\n",
              "      <td>0.916</td>\n",
              "      <td>0.571</td>\n",
              "      <td>10</td>\n",
              "      <td>-8.241</td>\n",
              "      <td>0</td>\n",
              "      <td>0.2000</td>\n",
              "      <td>0.0173</td>\n",
              "      <td>0.000001</td>\n",
              "      <td>0.1530</td>\n",
              "      <td>0.498</td>\n",
              "      <td>103.521</td>\n",
              "      <td>183695</td>\n",
              "      <td>4</td>\n",
              "      <td>29.67050</td>\n",
              "      <td>10</td>\n",
              "      <td>2016</td>\n",
              "      <td>Your top songs 2016</td>\n",
              "      <td>4JDZl9nKIAhAhDjw753u4X</td>\n",
              "    </tr>\n",
              "    <tr>\n",
              "      <th>4</th>\n",
              "      <td>Crush</td>\n",
              "      <td>Yuna</td>\n",
              "      <td>0.678</td>\n",
              "      <td>0.414</td>\n",
              "      <td>9</td>\n",
              "      <td>-10.144</td>\n",
              "      <td>0</td>\n",
              "      <td>0.0498</td>\n",
              "      <td>0.3660</td>\n",
              "      <td>0.000004</td>\n",
              "      <td>0.0885</td>\n",
              "      <td>0.355</td>\n",
              "      <td>130.031</td>\n",
              "      <td>243133</td>\n",
              "      <td>4</td>\n",
              "      <td>29.11098</td>\n",
              "      <td>9</td>\n",
              "      <td>2016</td>\n",
              "      <td>Your top songs 2016</td>\n",
              "      <td>3Txcx4jhuiTZSvhAL0WaRc</td>\n",
              "    </tr>\n",
              "  </tbody>\n",
              "</table>\n",
              "</div>"
            ],
            "text/plain": [
              "                     name  ...                      id\n",
              "0             Sex With Me  ...  6WAxKNbZoGNzQTIvdMqkFs\n",
              "1                    Dope  ...  660JUD1xQLB4XR1dMxUK4x\n",
              "2       Cranes in the Sky  ...  48EjSdYh8wz2gBxxqzrsLe\n",
              "3  For Free (feat. Drake)  ...  4JDZl9nKIAhAhDjw753u4X\n",
              "4                   Crush  ...  3Txcx4jhuiTZSvhAL0WaRc\n",
              "\n",
              "[5 rows x 20 columns]"
            ]
          },
          "metadata": {
            "tags": []
          },
          "execution_count": 8
        }
      ]
    },
    {
      "cell_type": "code",
      "metadata": {
        "id": "Gfl6sT7UEwiv"
      },
      "source": [
        "playlist_df2 = pd.merge(playlist_df,lyrics_nodups_df[['lyrics','id']].copy(),on='id',how='left')"
      ],
      "execution_count": 9,
      "outputs": []
    },
    {
      "cell_type": "code",
      "metadata": {
        "colab": {
          "base_uri": "https://localhost:8080/"
        },
        "id": "ilxstLKTI7DP",
        "outputId": "e96c3bfa-ab8c-4441-b1a1-21a97b37c550"
      },
      "source": [
        "playlist_df2.shape"
      ],
      "execution_count": 10,
      "outputs": [
        {
          "output_type": "execute_result",
          "data": {
            "text/plain": [
              "(500, 21)"
            ]
          },
          "metadata": {
            "tags": []
          },
          "execution_count": 10
        }
      ]
    },
    {
      "cell_type": "code",
      "metadata": {
        "colab": {
          "base_uri": "https://localhost:8080/",
          "height": 445
        },
        "id": "dtdjK_cJFOGg",
        "outputId": "c6a2a28a-381b-410f-eb5a-62b4122f44c8"
      },
      "source": [
        "playlist_df2.head()"
      ],
      "execution_count": 11,
      "outputs": [
        {
          "output_type": "execute_result",
          "data": {
            "text/html": [
              "<div>\n",
              "<style scoped>\n",
              "    .dataframe tbody tr th:only-of-type {\n",
              "        vertical-align: middle;\n",
              "    }\n",
              "\n",
              "    .dataframe tbody tr th {\n",
              "        vertical-align: top;\n",
              "    }\n",
              "\n",
              "    .dataframe thead th {\n",
              "        text-align: right;\n",
              "    }\n",
              "</style>\n",
              "<table border=\"1\" class=\"dataframe\">\n",
              "  <thead>\n",
              "    <tr style=\"text-align: right;\">\n",
              "      <th></th>\n",
              "      <th>name</th>\n",
              "      <th>artist</th>\n",
              "      <th>danceability</th>\n",
              "      <th>energy</th>\n",
              "      <th>key</th>\n",
              "      <th>loudness</th>\n",
              "      <th>mode</th>\n",
              "      <th>speechiness</th>\n",
              "      <th>acousticness</th>\n",
              "      <th>instrumentalness</th>\n",
              "      <th>liveness</th>\n",
              "      <th>valence</th>\n",
              "      <th>tempo</th>\n",
              "      <th>duration_ms</th>\n",
              "      <th>time_signature</th>\n",
              "      <th>chorus_hit</th>\n",
              "      <th>sections</th>\n",
              "      <th>year</th>\n",
              "      <th>playlist_title</th>\n",
              "      <th>id</th>\n",
              "      <th>lyrics</th>\n",
              "    </tr>\n",
              "  </thead>\n",
              "  <tbody>\n",
              "    <tr>\n",
              "      <th>0</th>\n",
              "      <td>Sex With Me</td>\n",
              "      <td>Rihanna</td>\n",
              "      <td>0.580</td>\n",
              "      <td>0.532</td>\n",
              "      <td>1</td>\n",
              "      <td>-5.668</td>\n",
              "      <td>0</td>\n",
              "      <td>0.0424</td>\n",
              "      <td>0.2940</td>\n",
              "      <td>0.000000</td>\n",
              "      <td>0.0948</td>\n",
              "      <td>0.390</td>\n",
              "      <td>112.049</td>\n",
              "      <td>206400</td>\n",
              "      <td>4</td>\n",
              "      <td>20.87658</td>\n",
              "      <td>10</td>\n",
              "      <td>2016</td>\n",
              "      <td>Your top songs 2016</td>\n",
              "      <td>6WAxKNbZoGNzQTIvdMqkFs</td>\n",
              "      <td>Sex with me, so amazing\\nAll this all hard wor...</td>\n",
              "    </tr>\n",
              "    <tr>\n",
              "      <th>1</th>\n",
              "      <td>Dope</td>\n",
              "      <td>Fifth Harmony</td>\n",
              "      <td>0.719</td>\n",
              "      <td>0.519</td>\n",
              "      <td>0</td>\n",
              "      <td>-6.545</td>\n",
              "      <td>1</td>\n",
              "      <td>0.0494</td>\n",
              "      <td>0.1300</td>\n",
              "      <td>0.000000</td>\n",
              "      <td>0.0833</td>\n",
              "      <td>0.122</td>\n",
              "      <td>90.995</td>\n",
              "      <td>212626</td>\n",
              "      <td>4</td>\n",
              "      <td>32.72684</td>\n",
              "      <td>13</td>\n",
              "      <td>2016</td>\n",
              "      <td>Your top songs 2016</td>\n",
              "      <td>660JUD1xQLB4XR1dMxUK4x</td>\n",
              "      <td>New Jersey tongue, not saying too much\\nI'm fe...</td>\n",
              "    </tr>\n",
              "    <tr>\n",
              "      <th>2</th>\n",
              "      <td>Cranes in the Sky</td>\n",
              "      <td>Solange</td>\n",
              "      <td>0.719</td>\n",
              "      <td>0.615</td>\n",
              "      <td>6</td>\n",
              "      <td>-5.972</td>\n",
              "      <td>1</td>\n",
              "      <td>0.0450</td>\n",
              "      <td>0.4080</td>\n",
              "      <td>0.000147</td>\n",
              "      <td>0.2350</td>\n",
              "      <td>0.465</td>\n",
              "      <td>96.988</td>\n",
              "      <td>250973</td>\n",
              "      <td>4</td>\n",
              "      <td>18.63714</td>\n",
              "      <td>5</td>\n",
              "      <td>2016</td>\n",
              "      <td>Your top songs 2016</td>\n",
              "      <td>48EjSdYh8wz2gBxxqzrsLe</td>\n",
              "      <td>I tried to drink it away\\nI tried to put one i...</td>\n",
              "    </tr>\n",
              "    <tr>\n",
              "      <th>3</th>\n",
              "      <td>For Free (feat. Drake)</td>\n",
              "      <td>DJ Khaled</td>\n",
              "      <td>0.916</td>\n",
              "      <td>0.571</td>\n",
              "      <td>10</td>\n",
              "      <td>-8.241</td>\n",
              "      <td>0</td>\n",
              "      <td>0.2000</td>\n",
              "      <td>0.0173</td>\n",
              "      <td>0.000001</td>\n",
              "      <td>0.1530</td>\n",
              "      <td>0.498</td>\n",
              "      <td>103.521</td>\n",
              "      <td>183695</td>\n",
              "      <td>4</td>\n",
              "      <td>29.67050</td>\n",
              "      <td>10</td>\n",
              "      <td>2016</td>\n",
              "      <td>Your top songs 2016</td>\n",
              "      <td>4JDZl9nKIAhAhDjw753u4X</td>\n",
              "      <td>Would you fuck me for free?\\nAnother one (Anot...</td>\n",
              "    </tr>\n",
              "    <tr>\n",
              "      <th>4</th>\n",
              "      <td>Crush</td>\n",
              "      <td>Yuna</td>\n",
              "      <td>0.678</td>\n",
              "      <td>0.414</td>\n",
              "      <td>9</td>\n",
              "      <td>-10.144</td>\n",
              "      <td>0</td>\n",
              "      <td>0.0498</td>\n",
              "      <td>0.3660</td>\n",
              "      <td>0.000004</td>\n",
              "      <td>0.0885</td>\n",
              "      <td>0.355</td>\n",
              "      <td>130.031</td>\n",
              "      <td>243133</td>\n",
              "      <td>4</td>\n",
              "      <td>29.11098</td>\n",
              "      <td>9</td>\n",
              "      <td>2016</td>\n",
              "      <td>Your top songs 2016</td>\n",
              "      <td>3Txcx4jhuiTZSvhAL0WaRc</td>\n",
              "      <td>You call me on a lazy afternoon\\nAsking me wha...</td>\n",
              "    </tr>\n",
              "  </tbody>\n",
              "</table>\n",
              "</div>"
            ],
            "text/plain": [
              "                     name  ...                                             lyrics\n",
              "0             Sex With Me  ...  Sex with me, so amazing\\nAll this all hard wor...\n",
              "1                    Dope  ...  New Jersey tongue, not saying too much\\nI'm fe...\n",
              "2       Cranes in the Sky  ...  I tried to drink it away\\nI tried to put one i...\n",
              "3  For Free (feat. Drake)  ...  Would you fuck me for free?\\nAnother one (Anot...\n",
              "4                   Crush  ...  You call me on a lazy afternoon\\nAsking me wha...\n",
              "\n",
              "[5 rows x 21 columns]"
            ]
          },
          "metadata": {
            "tags": []
          },
          "execution_count": 11
        }
      ]
    },
    {
      "cell_type": "markdown",
      "metadata": {
        "id": "tYEOqBSsHuxy"
      },
      "source": [
        "## Clean up and explore lyrics"
      ]
    },
    {
      "cell_type": "code",
      "metadata": {
        "id": "Lf5lZNHPIo_8"
      },
      "source": [
        "playlist_df2['lyrics'] = playlist_df2['lyrics'].astype('str')"
      ],
      "execution_count": 12,
      "outputs": []
    },
    {
      "cell_type": "code",
      "metadata": {
        "colab": {
          "base_uri": "https://localhost:8080/",
          "height": 527
        },
        "id": "-hU-eX-3H6d5",
        "outputId": "06f66171-cc97-450f-d2b5-4c13c45f449f"
      },
      "source": [
        "playlist_df2[playlist_df2['lyrics']=='nan']"
      ],
      "execution_count": 13,
      "outputs": [
        {
          "output_type": "execute_result",
          "data": {
            "text/html": [
              "<div>\n",
              "<style scoped>\n",
              "    .dataframe tbody tr th:only-of-type {\n",
              "        vertical-align: middle;\n",
              "    }\n",
              "\n",
              "    .dataframe tbody tr th {\n",
              "        vertical-align: top;\n",
              "    }\n",
              "\n",
              "    .dataframe thead th {\n",
              "        text-align: right;\n",
              "    }\n",
              "</style>\n",
              "<table border=\"1\" class=\"dataframe\">\n",
              "  <thead>\n",
              "    <tr style=\"text-align: right;\">\n",
              "      <th></th>\n",
              "      <th>name</th>\n",
              "      <th>artist</th>\n",
              "      <th>danceability</th>\n",
              "      <th>energy</th>\n",
              "      <th>key</th>\n",
              "      <th>loudness</th>\n",
              "      <th>mode</th>\n",
              "      <th>speechiness</th>\n",
              "      <th>acousticness</th>\n",
              "      <th>instrumentalness</th>\n",
              "      <th>liveness</th>\n",
              "      <th>valence</th>\n",
              "      <th>tempo</th>\n",
              "      <th>duration_ms</th>\n",
              "      <th>time_signature</th>\n",
              "      <th>chorus_hit</th>\n",
              "      <th>sections</th>\n",
              "      <th>year</th>\n",
              "      <th>playlist_title</th>\n",
              "      <th>id</th>\n",
              "      <th>lyrics</th>\n",
              "    </tr>\n",
              "  </thead>\n",
              "  <tbody>\n",
              "    <tr>\n",
              "      <th>197</th>\n",
              "      <td>Defying Gravity - From \"Wicked\" Original Broad...</td>\n",
              "      <td>Stephen Schwartz</td>\n",
              "      <td>0.333</td>\n",
              "      <td>0.377</td>\n",
              "      <td>6</td>\n",
              "      <td>-8.282</td>\n",
              "      <td>1</td>\n",
              "      <td>0.0343</td>\n",
              "      <td>0.7220</td>\n",
              "      <td>0.0000</td>\n",
              "      <td>0.0333</td>\n",
              "      <td>0.2450</td>\n",
              "      <td>87.613</td>\n",
              "      <td>353920</td>\n",
              "      <td>4</td>\n",
              "      <td>9.27374</td>\n",
              "      <td>13</td>\n",
              "      <td>2017</td>\n",
              "      <td>Your top songs 2017</td>\n",
              "      <td>1bpnYrDCforv9ctJMzJRV8</td>\n",
              "      <td>nan</td>\n",
              "    </tr>\n",
              "    <tr>\n",
              "      <th>275</th>\n",
              "      <td>Vesperae Solennes de Confessore in C Major, K....</td>\n",
              "      <td>Nicholas Britell</td>\n",
              "      <td>0.100</td>\n",
              "      <td>0.143</td>\n",
              "      <td>5</td>\n",
              "      <td>-17.169</td>\n",
              "      <td>1</td>\n",
              "      <td>0.0452</td>\n",
              "      <td>0.9330</td>\n",
              "      <td>0.5630</td>\n",
              "      <td>0.1260</td>\n",
              "      <td>0.0961</td>\n",
              "      <td>84.352</td>\n",
              "      <td>102040</td>\n",
              "      <td>3</td>\n",
              "      <td>26.40166</td>\n",
              "      <td>5</td>\n",
              "      <td>2018</td>\n",
              "      <td>Your top songs 2018</td>\n",
              "      <td>5nJCOiLpE4kQIv6xtPLRd1</td>\n",
              "      <td>nan</td>\n",
              "    </tr>\n",
              "    <tr>\n",
              "      <th>289</th>\n",
              "      <td>Phantom Thread I</td>\n",
              "      <td>Jonny Greenwood</td>\n",
              "      <td>0.101</td>\n",
              "      <td>0.163</td>\n",
              "      <td>4</td>\n",
              "      <td>-18.659</td>\n",
              "      <td>0</td>\n",
              "      <td>0.0486</td>\n",
              "      <td>0.9820</td>\n",
              "      <td>0.9050</td>\n",
              "      <td>0.0906</td>\n",
              "      <td>0.0307</td>\n",
              "      <td>78.828</td>\n",
              "      <td>215666</td>\n",
              "      <td>4</td>\n",
              "      <td>57.72622</td>\n",
              "      <td>12</td>\n",
              "      <td>2018</td>\n",
              "      <td>Your top songs 2018</td>\n",
              "      <td>1m9AByDH4oBDz7XEm0yVjx</td>\n",
              "      <td>nan</td>\n",
              "    </tr>\n",
              "    <tr>\n",
              "      <th>291</th>\n",
              "      <td>Égypte</td>\n",
              "      <td>Luc Gilbert</td>\n",
              "      <td>0.323</td>\n",
              "      <td>0.439</td>\n",
              "      <td>9</td>\n",
              "      <td>-13.658</td>\n",
              "      <td>0</td>\n",
              "      <td>0.0542</td>\n",
              "      <td>0.4790</td>\n",
              "      <td>0.0484</td>\n",
              "      <td>0.2670</td>\n",
              "      <td>0.3720</td>\n",
              "      <td>183.822</td>\n",
              "      <td>267000</td>\n",
              "      <td>4</td>\n",
              "      <td>44.32804</td>\n",
              "      <td>9</td>\n",
              "      <td>2018</td>\n",
              "      <td>Your top songs 2018</td>\n",
              "      <td>0RV3vIIPkglmVAIFQ22K2l</td>\n",
              "      <td>nan</td>\n",
              "    </tr>\n",
              "    <tr>\n",
              "      <th>389</th>\n",
              "      <td>JA ARA E</td>\n",
              "      <td>Beyoncé</td>\n",
              "      <td>0.790</td>\n",
              "      <td>0.693</td>\n",
              "      <td>0</td>\n",
              "      <td>-5.767</td>\n",
              "      <td>1</td>\n",
              "      <td>0.0605</td>\n",
              "      <td>0.0420</td>\n",
              "      <td>0.0267</td>\n",
              "      <td>0.0790</td>\n",
              "      <td>0.8550</td>\n",
              "      <td>91.991</td>\n",
              "      <td>190108</td>\n",
              "      <td>4</td>\n",
              "      <td>18.27752</td>\n",
              "      <td>10</td>\n",
              "      <td>2019</td>\n",
              "      <td>Your top songs 2019</td>\n",
              "      <td>6pdip6qgVJOI5JxqgbAlu6</td>\n",
              "      <td>nan</td>\n",
              "    </tr>\n",
              "    <tr>\n",
              "      <th>425</th>\n",
              "      <td>B*tch From Da Souf (Remix) (feat. Trina)</td>\n",
              "      <td>Mulatto</td>\n",
              "      <td>0.835</td>\n",
              "      <td>0.530</td>\n",
              "      <td>1</td>\n",
              "      <td>-5.699</td>\n",
              "      <td>1</td>\n",
              "      <td>0.3600</td>\n",
              "      <td>0.0649</td>\n",
              "      <td>0.0000</td>\n",
              "      <td>0.1330</td>\n",
              "      <td>0.4140</td>\n",
              "      <td>150.081</td>\n",
              "      <td>224119</td>\n",
              "      <td>4</td>\n",
              "      <td>45.21772</td>\n",
              "      <td>11</td>\n",
              "      <td>2020</td>\n",
              "      <td>Your top songs 2020</td>\n",
              "      <td>39GH3B0XsTd4SsqT7DJijs</td>\n",
              "      <td>nan</td>\n",
              "    </tr>\n",
              "  </tbody>\n",
              "</table>\n",
              "</div>"
            ],
            "text/plain": [
              "                                                  name  ... lyrics\n",
              "197  Defying Gravity - From \"Wicked\" Original Broad...  ...    nan\n",
              "275  Vesperae Solennes de Confessore in C Major, K....  ...    nan\n",
              "289                                   Phantom Thread I  ...    nan\n",
              "291                                             Égypte  ...    nan\n",
              "389                                           JA ARA E  ...    nan\n",
              "425           B*tch From Da Souf (Remix) (feat. Trina)  ...    nan\n",
              "\n",
              "[6 rows x 21 columns]"
            ]
          },
          "metadata": {
            "tags": []
          },
          "execution_count": 13
        }
      ]
    },
    {
      "cell_type": "markdown",
      "metadata": {
        "id": "NnQF36pxLXGV"
      },
      "source": [
        "Try and add lyrics for songs with missing lyrics"
      ]
    },
    {
      "cell_type": "code",
      "metadata": {
        "colab": {
          "base_uri": "https://localhost:8080/"
        },
        "id": "z05ZmLLvLSZZ",
        "outputId": "7e5630c2-ff24-453c-c020-3f0becf801ca"
      },
      "source": [
        "!pip install lyricsgenius\n",
        "import lyricsgenius\n",
        "genius = lyricsgenius.Genius(\"2rxZwYupzW9ZPWxmSBe0tJZB15_-kuco7H1DepqINhhdjrACt4_RPRDF0OrQDdiv\")\n",
        "genius.remove_section_headers = True"
      ],
      "execution_count": 14,
      "outputs": [
        {
          "output_type": "stream",
          "text": [
            "Requirement already satisfied: lyricsgenius in /usr/local/lib/python3.6/dist-packages (2.0.2)\n",
            "Requirement already satisfied: requests>=2.20.0 in /usr/local/lib/python3.6/dist-packages (from lyricsgenius) (2.23.0)\n",
            "Requirement already satisfied: beautifulsoup4>=4.6.0 in /usr/local/lib/python3.6/dist-packages (from lyricsgenius) (4.6.3)\n",
            "Requirement already satisfied: idna<3,>=2.5 in /usr/local/lib/python3.6/dist-packages (from requests>=2.20.0->lyricsgenius) (2.10)\n",
            "Requirement already satisfied: chardet<4,>=3.0.2 in /usr/local/lib/python3.6/dist-packages (from requests>=2.20.0->lyricsgenius) (3.0.4)\n",
            "Requirement already satisfied: urllib3!=1.25.0,!=1.25.1,<1.26,>=1.21.1 in /usr/local/lib/python3.6/dist-packages (from requests>=2.20.0->lyricsgenius) (1.24.3)\n",
            "Requirement already satisfied: certifi>=2017.4.17 in /usr/local/lib/python3.6/dist-packages (from requests>=2.20.0->lyricsgenius) (2020.12.5)\n"
          ],
          "name": "stdout"
        }
      ]
    },
    {
      "cell_type": "code",
      "metadata": {
        "colab": {
          "base_uri": "https://localhost:8080/"
        },
        "id": "U3ORuAfNLeHx",
        "outputId": "932ab627-270a-48d2-e97f-65765ba13396"
      },
      "source": [
        " song = genius.search_song('Bitch From Da Souf Remix','Mulatto')"
      ],
      "execution_count": 15,
      "outputs": [
        {
          "output_type": "stream",
          "text": [
            "Searching for \"Bitch From Da Souf Remix\" by Mulatto...\n",
            "Done.\n"
          ],
          "name": "stdout"
        }
      ]
    },
    {
      "cell_type": "code",
      "metadata": {
        "colab": {
          "base_uri": "https://localhost:8080/",
          "height": 137
        },
        "id": "3ls4M74QLrkG",
        "outputId": "176704fa-b16f-4f5f-96f9-7ee2a032d685"
      },
      "source": [
        "song.lyrics"
      ],
      "execution_count": 16,
      "outputs": [
        {
          "output_type": "execute_result",
          "data": {
            "application/vnd.google.colaboratory.intrinsic+json": {
              "type": "string"
            },
            "text/plain": [
              "'Big \\'Latto, big remix (Bankroll Got It), yeah\\n\\nI throw that ass back to see if\\u2005he\\u2005gon\\' catch it\\u2005(I throw it)\\nI ain\\'t athletic, but\\u2005it\\'s tennis for the necklace, yeah (Ice, ice)\\nAyy, where that cash at? I stack it like Tetris (Okay)\\nReal gutta bitch, real plugs and connections (Real bitch)\\nFirst I make him eat it \\'til he lockjaw (Yeah)\\nGive it to him good, knock a nigga socks off, uh (Yeah)\\nI run it up, they busy running they mouth (Run it, run it)\\nI\\'m a real-ass, rich-ass bitch from the Souf, yeah, yeah (Uh, uh, Souf)\\n\\nFirst off, I ain\\'t fuckin\\' for no clout (Nah)\\nI ain\\'t fuckin\\' on no nigga sleepin\\' on his patna couch (What the fuck?)\\nHe wanna fuck, rather sit it on his mouth (Uhh)\\nI\\'m a freak-ass, street-ass, bitch from the Souf (Haa)\\nIs you gon\\' catch it? Eat it up for breakfast? (Yeah)\\nI ain\\'t athletic on the dick, I do gymnastics (Okay)\\nI hit up Saweetie like, \"What\\'s up? I\\'m in The Bay\" (The Bay)\\nThe baddest bitch in MIA said I\\'m good when I\\'m in Dade (Uh)\\n\\nI throw that ass back to see if he gon\\' catch it (I throw it)\\nI ain\\'t athletic, but it\\'s tennis for the necklace, yeah (Ice, ice)\\nAyy, where that cash at? I stack it like Tetris (Okay)\\nReal gutta bitch, real plugs and connections (Real bitch)\\nFirst I make him eat it \\'til he lockjaw (Yeah)\\nGive it to him good, knock a nigga socks off, uh (Yeah)\\nI run it up, they busy running they mouth (Run it, run it)\\nI\\'m a real-ass, rich-ass bitch from the Souf, yeah, yeah (Uh, uh, Souf, Icy)\\n\\nGot my bag up on the East, brought it back to the West (Uh-huh)\\nBitches foul and run they mouth, I\\'ma have to call a tech (Brr)\\nBlack Rapunzel with the bundles got \\'em flowin\\' down my back (Ayy, ayy, ayy)\\nYou know Saweetie get love from the office to the trap (Uh-huh)\\nRich niggas want me (Want me), big figures on me (Uh-huh)\\nGot a snowflake \\'round my neck lookin\\' like a whole thing\\nFuck around and catch a cold, bussin\\' hoes I don\\'t sneeze (\\'Choo)\\nJohnny brighten up my smile, he my dentist low-key\\nWhy these hoes testin\\' me? (Mm-mm) I ain\\'t no fuckin\\' ACT (I ain\\'t)\\nYou need to do what you just took and that\\'s a fuckin\\' SAT (Ho)\\nI put that on my ICY piece (Woo), I need a new one ASAP\\nYo\\' man just bought you a Rollie, I\\'m on my third bust down AP (Whew), ayy\\n\\nI throw that ass back to see if he gon\\' catch it (Better catch it)\\nI call Mulatto up when I\\'m tryna get ratchet, ayy (I get ratchet)\\nYou love my lips, get it tatted on your neck (Shh)\\nI\\'m a real-ass, trill-ass bitch from the West (Biatch)\\n\\nI throw that ass back to see if he gon\\' catch it (I throw it)\\nI ain\\'t athletic, but it\\'s tennis for the necklace, yeah (Ice, ice)\\nAyy, where that cash at? I stack it like Tetris (Okay)\\nReal gutta bitch, real plugs and connections (Real bitch)\\nFirst I make him eat it \\'til he lockjaw (Yeah)\\nGive it to him good, knock a nigga socks off, uh (Yeah)\\nI run it up, they busy running they mouth (Run it, run it)\\nI\\'m a real-ass, rich-ass bitch from the Souf, yeah, yeah (Uh, uh, Souf, Trina)\\n\\nI throw it, he catch it like Odell, it\\'s wet and the pussy got no smell\\nCan\\'t come to my residence, leavin\\' no evidence, meet me at the hotel\\nHe said \"You don\\'t respect me, you just want a check\", he know me so well\\nI don\\'t fuck with no losers or liars, I ain\\'t takin\\' no Ls\\nNice waist on me (Yeah), yo\\' nigga wanna taste on me (Ahh)\\nNigga, don\\'t FaceTime my line, just come put face on me (Yuh)\\nGot M\\'s in a Swiss offshore, that\\'s why all my shit cost more\\nGot my sauce right and it\\'s off-white, can\\'t get it at the store (Hahaha), now watch how\\n\\nI throw that ass back to see if he gon\\' catch it (I throw it)\\nI ain\\'t athletic, but it\\'s tennis for the necklace, yeah (Ice, ice)\\nAyy, where that cash at? I stack it like Tetris (Okay)\\nReal gutta bitch, real plugs and connections (Real bitch)\\nFirst I make him eat it \\'til he lockjaw (Yeah)\\nGive it to him good, knock a nigga socks off, uh (Yeah)\\nI run it up, they busy running they mouth (Run it, run it)\\nI\\'m a real-ass, rich-ass bitch from the Souf, yeah, yeah (Uh, uh, Souf)\\n\\n(Yeah, no, yeah)\\nBitch, hahahaha (No)\\nI run it up, they busy running they mouth\\nI\\'m a real-ass, rich-ass bitch from the Souf (Souf)'"
            ]
          },
          "metadata": {
            "tags": []
          },
          "execution_count": 16
        }
      ]
    },
    {
      "cell_type": "code",
      "metadata": {
        "id": "t8ipskvWHgK5"
      },
      "source": [
        ""
      ],
      "execution_count": 17,
      "outputs": []
    },
    {
      "cell_type": "code",
      "metadata": {
        "id": "WAFo_SL4MF9y"
      },
      "source": [
        "playlist_df2.loc[425,'lyrics'] = song.lyrics"
      ],
      "execution_count": 18,
      "outputs": []
    },
    {
      "cell_type": "code",
      "metadata": {
        "colab": {
          "base_uri": "https://localhost:8080/"
        },
        "id": "X5zUFGmPM3E8",
        "outputId": "713a32ce-601e-48b2-9d93-93eb043a2ab0"
      },
      "source": [
        "jare = genius.search_song('JA ARA E','Burna boy')"
      ],
      "execution_count": 19,
      "outputs": [
        {
          "output_type": "stream",
          "text": [
            "Searching for \"JA ARA E\" by Burna boy...\n",
            "Done.\n"
          ],
          "name": "stdout"
        }
      ]
    },
    {
      "cell_type": "code",
      "metadata": {
        "id": "ylbHIYj7PL6L"
      },
      "source": [
        "playlist_df2.loc[389,'lyrics'] = jare.lyrics\n"
      ],
      "execution_count": 20,
      "outputs": []
    },
    {
      "cell_type": "code",
      "metadata": {
        "id": "EeOLmnagPeJJ"
      },
      "source": [
        "playlist_df2.loc[389,'artist'] = 'Burna Boy'"
      ],
      "execution_count": 21,
      "outputs": []
    },
    {
      "cell_type": "code",
      "metadata": {
        "colab": {
          "base_uri": "https://localhost:8080/"
        },
        "id": "0-AiomgyQN6G",
        "outputId": "fcf57eb6-56a2-4fe3-ac7a-a8d4a4c2137d"
      },
      "source": [
        "defying_gravity = genius.search_song('Defying Gravity','Kristin Chenoweth')"
      ],
      "execution_count": 22,
      "outputs": [
        {
          "output_type": "stream",
          "text": [
            "Searching for \"Defying Gravity\" by Kristin Chenoweth...\n",
            "Done.\n"
          ],
          "name": "stdout"
        }
      ]
    },
    {
      "cell_type": "code",
      "metadata": {
        "id": "5p_rB9oeQ3hz"
      },
      "source": [
        "playlist_df2.loc[197,'lyrics'] = defying_gravity.lyrics"
      ],
      "execution_count": 23,
      "outputs": []
    },
    {
      "cell_type": "code",
      "metadata": {
        "colab": {
          "base_uri": "https://localhost:8080/"
        },
        "id": "3j9PTYjmRIS6",
        "outputId": "a4698848-7e6d-41cb-c684-5589cec7a4ed"
      },
      "source": [
        "egypte = genius.search_song('Égypte','Cirque Du Soleil')"
      ],
      "execution_count": 25,
      "outputs": [
        {
          "output_type": "stream",
          "text": [
            "Searching for \"Égypte\" by Cirque Du Soleil...\n",
            "Done.\n"
          ],
          "name": "stdout"
        }
      ]
    },
    {
      "cell_type": "code",
      "metadata": {
        "id": "jUvPYsbRRHe0"
      },
      "source": [
        "playlist_df2.loc[291,'lyrics'] = egypte.lyrics"
      ],
      "execution_count": 26,
      "outputs": []
    },
    {
      "cell_type": "markdown",
      "metadata": {
        "id": "HIB3Ms_FRkh1"
      },
      "source": [
        "## Remove newlines from lyrics"
      ]
    },
    {
      "cell_type": "code",
      "metadata": {
        "id": "OemDI1R9Q88q"
      },
      "source": [
        "playlist_df2['lyrics'] = playlist_df2['lyrics'].astype('str')"
      ],
      "execution_count": 24,
      "outputs": []
    },
    {
      "cell_type": "code",
      "metadata": {
        "id": "hjspKP7_RGKl"
      },
      "source": [
        "playlist_df2['lyrics'] = playlist_df2['lyrics'].map(lambda x: x.replace('\\n',' '))"
      ],
      "execution_count": 29,
      "outputs": []
    },
    {
      "cell_type": "code",
      "metadata": {
        "colab": {
          "base_uri": "https://localhost:8080/"
        },
        "id": "agoKexYiRt7V",
        "outputId": "e23d5385-5634-45e7-a8fa-68d6cf35f52f"
      },
      "source": [
        "playlist_df2['lyrics']"
      ],
      "execution_count": 30,
      "outputs": [
        {
          "output_type": "execute_result",
          "data": {
            "text/plain": [
              "0      Sex with me, so amazing All this all hard work...\n",
              "1      New Jersey tongue, not saying too much I'm fee...\n",
              "2      I tried to drink it away I tried to put one in...\n",
              "3      Would you fuck me for free? Another one (Anoth...\n",
              "4      You call me on a lazy afternoon Asking me what...\n",
              "                             ...                        \n",
              "495    ...bae...  Ah, ah-ah, ah-ah, ah-ah Ah, ah-ah, ...\n",
              "496    When I'm weary and so worn out Ooh, when my mi...\n",
              "497    So many times that I tried to get over you, no...\n",
              "498    Yeah (Turn me up, YC) JT  Uh, fuck nigga, I do...\n",
              "499    No, don't shoot me down (Yeah) No, don't shoot...\n",
              "Name: lyrics, Length: 500, dtype: object"
            ]
          },
          "metadata": {
            "tags": []
          },
          "execution_count": 30
        }
      ]
    },
    {
      "cell_type": "markdown",
      "metadata": {
        "id": "60w9gIOMR2R4"
      },
      "source": [
        "## Check for the few nan I have left"
      ]
    },
    {
      "cell_type": "code",
      "metadata": {
        "colab": {
          "base_uri": "https://localhost:8080/",
          "height": 233
        },
        "id": "hw9aBm_lR1aF",
        "outputId": "1b19c8b8-6690-470d-c0f8-17be422c1cf7"
      },
      "source": [
        "playlist_df2[playlist_df2['lyrics']=='nan']"
      ],
      "execution_count": 31,
      "outputs": [
        {
          "output_type": "execute_result",
          "data": {
            "text/html": [
              "<div>\n",
              "<style scoped>\n",
              "    .dataframe tbody tr th:only-of-type {\n",
              "        vertical-align: middle;\n",
              "    }\n",
              "\n",
              "    .dataframe tbody tr th {\n",
              "        vertical-align: top;\n",
              "    }\n",
              "\n",
              "    .dataframe thead th {\n",
              "        text-align: right;\n",
              "    }\n",
              "</style>\n",
              "<table border=\"1\" class=\"dataframe\">\n",
              "  <thead>\n",
              "    <tr style=\"text-align: right;\">\n",
              "      <th></th>\n",
              "      <th>name</th>\n",
              "      <th>artist</th>\n",
              "      <th>danceability</th>\n",
              "      <th>energy</th>\n",
              "      <th>key</th>\n",
              "      <th>loudness</th>\n",
              "      <th>mode</th>\n",
              "      <th>speechiness</th>\n",
              "      <th>acousticness</th>\n",
              "      <th>instrumentalness</th>\n",
              "      <th>liveness</th>\n",
              "      <th>valence</th>\n",
              "      <th>tempo</th>\n",
              "      <th>duration_ms</th>\n",
              "      <th>time_signature</th>\n",
              "      <th>chorus_hit</th>\n",
              "      <th>sections</th>\n",
              "      <th>year</th>\n",
              "      <th>playlist_title</th>\n",
              "      <th>id</th>\n",
              "      <th>lyrics</th>\n",
              "    </tr>\n",
              "  </thead>\n",
              "  <tbody>\n",
              "    <tr>\n",
              "      <th>275</th>\n",
              "      <td>Vesperae Solennes de Confessore in C Major, K....</td>\n",
              "      <td>Nicholas Britell</td>\n",
              "      <td>0.100</td>\n",
              "      <td>0.143</td>\n",
              "      <td>5</td>\n",
              "      <td>-17.169</td>\n",
              "      <td>1</td>\n",
              "      <td>0.0452</td>\n",
              "      <td>0.933</td>\n",
              "      <td>0.563</td>\n",
              "      <td>0.1260</td>\n",
              "      <td>0.0961</td>\n",
              "      <td>84.352</td>\n",
              "      <td>102040</td>\n",
              "      <td>3</td>\n",
              "      <td>26.40166</td>\n",
              "      <td>5</td>\n",
              "      <td>2018</td>\n",
              "      <td>Your top songs 2018</td>\n",
              "      <td>5nJCOiLpE4kQIv6xtPLRd1</td>\n",
              "      <td>nan</td>\n",
              "    </tr>\n",
              "    <tr>\n",
              "      <th>289</th>\n",
              "      <td>Phantom Thread I</td>\n",
              "      <td>Jonny Greenwood</td>\n",
              "      <td>0.101</td>\n",
              "      <td>0.163</td>\n",
              "      <td>4</td>\n",
              "      <td>-18.659</td>\n",
              "      <td>0</td>\n",
              "      <td>0.0486</td>\n",
              "      <td>0.982</td>\n",
              "      <td>0.905</td>\n",
              "      <td>0.0906</td>\n",
              "      <td>0.0307</td>\n",
              "      <td>78.828</td>\n",
              "      <td>215666</td>\n",
              "      <td>4</td>\n",
              "      <td>57.72622</td>\n",
              "      <td>12</td>\n",
              "      <td>2018</td>\n",
              "      <td>Your top songs 2018</td>\n",
              "      <td>1m9AByDH4oBDz7XEm0yVjx</td>\n",
              "      <td>nan</td>\n",
              "    </tr>\n",
              "  </tbody>\n",
              "</table>\n",
              "</div>"
            ],
            "text/plain": [
              "                                                  name  ... lyrics\n",
              "275  Vesperae Solennes de Confessore in C Major, K....  ...    nan\n",
              "289                                   Phantom Thread I  ...    nan\n",
              "\n",
              "[2 rows x 21 columns]"
            ]
          },
          "metadata": {
            "tags": []
          },
          "execution_count": 31
        }
      ]
    },
    {
      "cell_type": "markdown",
      "metadata": {
        "id": "68PuYhMbSDEF"
      },
      "source": [
        "* Both the nan are instrumental songs as suspected will now move onto some EDA"
      ]
    },
    {
      "cell_type": "code",
      "metadata": {
        "colab": {
          "base_uri": "https://localhost:8080/"
        },
        "id": "TiRNTEoOR0Mf",
        "outputId": "5cd9ac86-2599-4f17-ebcf-2cd7b53310bc"
      },
      "source": [
        "playlist_df2['artist'].value_counts()"
      ],
      "execution_count": 32,
      "outputs": [
        {
          "output_type": "execute_result",
          "data": {
            "text/plain": [
              "Megan Thee Stallion    20\n",
              "Lizzo                  16\n",
              "Ariana Grande          13\n",
              "Solange                13\n",
              "Snoh Aalegra           12\n",
              "                       ..\n",
              "Maroon 5                1\n",
              "Boris Gardiner          1\n",
              "Leona Lewis             1\n",
              "Maliibu Miitch          1\n",
              "21 Savage               1\n",
              "Name: artist, Length: 178, dtype: int64"
            ]
          },
          "metadata": {
            "tags": []
          },
          "execution_count": 32
        }
      ]
    },
    {
      "cell_type": "code",
      "metadata": {
        "colab": {
          "base_uri": "https://localhost:8080/",
          "height": 295
        },
        "id": "uETjzZpFTra5",
        "outputId": "f41a922b-f7c6-4355-bb36-926f452aba94"
      },
      "source": [
        "import seaborn as sns\n",
        "sns.countplot(y='artist', data=playlist_df2 ,palette='rocket_r',order = playlist_df2['artist'].value_counts().nlargest(10).index)\n",
        "plt.title('Top Artist across 5 years');"
      ],
      "execution_count": 37,
      "outputs": [
        {
          "output_type": "display_data",
          "data": {
            "image/png": "[encoded data removed]",
            "text/plain": [
              "<Figure size 432x288 with 1 Axes>"
            ]
          },
          "metadata": {
            "tags": [],
            "needs_background": "light"
          }
        }
      ]
    },
    {
      "cell_type": "code",
      "metadata": {
        "colab": {
          "base_uri": "https://localhost:8080/"
        },
        "id": "szPkwDX3UZPG",
        "outputId": "a78e9bae-d73a-4e8c-f411-80f7b92956a2"
      },
      "source": [
        "playlist_df2[playlist_df2['year']==2016]['artist'].value_counts().nlargest(10)"
      ],
      "execution_count": 42,
      "outputs": [
        {
          "output_type": "execute_result",
          "data": {
            "text/plain": [
              "Lianne La Havas     5\n",
              "Rihanna             4\n",
              "Ariana Grande       4\n",
              "Childish Gambino    3\n",
              "TWENTY88            3\n",
              "Drake               3\n",
              "Shelley FKA DRAM    3\n",
              "James Blake         3\n",
              "Solange             3\n",
              "Kanye West          3\n",
              "Name: artist, dtype: int64"
            ]
          },
          "metadata": {
            "tags": []
          },
          "execution_count": 42
        }
      ]
    },
    {
      "cell_type": "code",
      "metadata": {
        "colab": {
          "base_uri": "https://localhost:8080/",
          "height": 295
        },
        "id": "IbEfpOdpUkM9",
        "outputId": "e0536539-d921-4614-dd4e-f5b19bf3fe36"
      },
      "source": [
        "import seaborn as sns\n",
        "sns.countplot(y='artist', data=playlist_df2[playlist_df2['year']==2016] ,palette='rocket_r',order = playlist_df2[playlist_df2['year']==2016]['artist'].value_counts().nlargest(10).index)\n",
        "plt.title('Top Artist 2016');"
      ],
      "execution_count": 45,
      "outputs": [
        {
          "output_type": "display_data",
          "data": {
            "image/png": "[encoded data removed]",
            "text/plain": [
              "<Figure size 432x288 with 1 Axes>"
            ]
          },
          "metadata": {
            "tags": [],
            "needs_background": "light"
          }
        }
      ]
    },
    {
      "cell_type": "code",
      "metadata": {
        "colab": {
          "base_uri": "https://localhost:8080/",
          "height": 295
        },
        "id": "lddGG5NpVCS6",
        "outputId": "ed5456b8-8964-4bbd-b32a-1a03b16d4fb8"
      },
      "source": [
        "import seaborn as sns\n",
        "sns.countplot(y='artist', data=playlist_df2[playlist_df2['year']==2017] ,palette='rocket_r',order = playlist_df2[playlist_df2['year']==2017]['artist'].value_counts().nlargest(10).index)\n",
        "plt.title('Top Artist 2017');"
      ],
      "execution_count": 48,
      "outputs": [
        {
          "output_type": "display_data",
          "data": {
            "image/png": "[encoded data removed]",
            "text/plain": [
              "<Figure size 432x288 with 1 Axes>"
            ]
          },
          "metadata": {
            "tags": [],
            "needs_background": "light"
          }
        }
      ]
    },
    {
      "cell_type": "code",
      "metadata": {
        "id": "hj2KebxrVH4C"
      },
      "source": [
        ""
      ],
      "execution_count": null,
      "outputs": []
    },
    {
      "cell_type": "code",
      "metadata": {
        "colab": {
          "base_uri": "https://localhost:8080/",
          "height": 295
        },
        "id": "0KITKXkxVGjw",
        "outputId": "665a9054-233e-46d3-d66a-86b1f161b0d8"
      },
      "source": [
        "import seaborn as sns\n",
        "sns.countplot(y='artist', data=playlist_df2[playlist_df2['year']==2018] ,palette='rocket_r',order = playlist_df2[playlist_df2['year']==2018]['artist'].value_counts().nlargest(10).index)\n",
        "plt.title('Top Artist 2018');"
      ],
      "execution_count": 49,
      "outputs": [
        {
          "output_type": "display_data",
          "data": {
            "image/png": "[encoded data removed]",
            "text/plain": [
              "<Figure size 432x288 with 1 Axes>"
            ]
          },
          "metadata": {
            "tags": [],
            "needs_background": "light"
          }
        }
      ]
    },
    {
      "cell_type": "code",
      "metadata": {
        "colab": {
          "base_uri": "https://localhost:8080/",
          "height": 295
        },
        "id": "MKSeT9ezVMs1",
        "outputId": "0b6ebe05-6bc7-4303-8b0b-ff872901106e"
      },
      "source": [
        "import seaborn as sns\n",
        "sns.countplot(y='artist', data=playlist_df2[playlist_df2['year']==2019] ,palette='rocket_r',order = playlist_df2[playlist_df2['year']==2019]['artist'].value_counts().nlargest(10).index)\n",
        "plt.title('Top Artist 2019');"
      ],
      "execution_count": 50,
      "outputs": [
        {
          "output_type": "display_data",
          "data": {
            "image/png": "[encoded data removed]",
            "text/plain": [
              "<Figure size 432x288 with 1 Axes>"
            ]
          },
          "metadata": {
            "tags": [],
            "needs_background": "light"
          }
        }
      ]
    },
    {
      "cell_type": "code",
      "metadata": {
        "colab": {
          "base_uri": "https://localhost:8080/",
          "height": 295
        },
        "id": "ZR-96OfUVQ9d",
        "outputId": "e1239065-3397-445f-d8c2-886f933d10e1"
      },
      "source": [
        "import seaborn as sns\n",
        "sns.countplot(y='artist', data=playlist_df2[playlist_df2['year']==2020] ,palette='rocket_r',order = playlist_df2[playlist_df2['year']==2020]['artist'].value_counts().nlargest(10).index)\n",
        "plt.title('Top Artist 2020');"
      ],
      "execution_count": 51,
      "outputs": [
        {
          "output_type": "display_data",
          "data": {
            "image/png": "[encoded data removed]",
            "text/plain": [
              "<Figure size 432x288 with 1 Axes>"
            ]
          },
          "metadata": {
            "tags": [],
            "needs_background": "light"
          }
        }
      ]
    },
    {
      "cell_type": "code",
      "metadata": {
        "colab": {
          "base_uri": "https://localhost:8080/"
        },
        "id": "9BLO0HUJTmt7",
        "outputId": "55b642bf-a15f-4d58-dd4f-484304123c6d"
      },
      "source": [
        "playlist_df2['name'].value_counts()"
      ],
      "execution_count": 33,
      "outputs": [
        {
          "output_type": "execute_result",
          "data": {
            "text/plain": [
              "The Way                                4\n",
              "A Long Walk                            3\n",
              "Mad (feat. Lil Wayne)                  3\n",
              "Pretty Little Fears (feat. J. Cole)    3\n",
              "This Feeling                           3\n",
              "                                      ..\n",
              "RPG (feat. 6lack)                      1\n",
              "California                             1\n",
              "Childs Play                            1\n",
              "Moon River                             1\n",
              "Black Beatles                          1\n",
              "Name: name, Length: 448, dtype: int64"
            ]
          },
          "metadata": {
            "tags": []
          },
          "execution_count": 33
        }
      ]
    },
    {
      "cell_type": "markdown",
      "metadata": {
        "id": "wsEQfF7UrVEA"
      },
      "source": [
        "## Change Year to datetime"
      ]
    },
    {
      "cell_type": "code",
      "metadata": {
        "id": "U25zisA7rebU"
      },
      "source": [
        "import datetime as dt"
      ],
      "execution_count": 104,
      "outputs": []
    },
    {
      "cell_type": "code",
      "metadata": {
        "id": "haAC5uRJrTrU"
      },
      "source": [
        "playlist_df2['year'] = pd.to_datetime(playlist_df2['year'], format='%Y')"
      ],
      "execution_count": 106,
      "outputs": []
    },
    {
      "cell_type": "code",
      "metadata": {
        "colab": {
          "base_uri": "https://localhost:8080/"
        },
        "id": "_j-oorOrskfs",
        "outputId": "173ecd66-bb2d-4ce2-ebc9-9eaa9cce2442"
      },
      "source": [
        "playlist_df2.info()"
      ],
      "execution_count": 108,
      "outputs": [
        {
          "output_type": "stream",
          "text": [
            "<class 'pandas.core.frame.DataFrame'>\n",
            "Int64Index: 500 entries, 0 to 499\n",
            "Data columns (total 21 columns):\n",
            " #   Column            Non-Null Count  Dtype         \n",
            "---  ------            --------------  -----         \n",
            " 0   name              500 non-null    object        \n",
            " 1   artist            500 non-null    object        \n",
            " 2   danceability      500 non-null    float64       \n",
            " 3   energy            500 non-null    float64       \n",
            " 4   key               500 non-null    int64         \n",
            " 5   loudness          500 non-null    float64       \n",
            " 6   mode              500 non-null    int64         \n",
            " 7   speechiness       500 non-null    float64       \n",
            " 8   acousticness      500 non-null    float64       \n",
            " 9   instrumentalness  500 non-null    float64       \n",
            " 10  liveness          500 non-null    float64       \n",
            " 11  valence           500 non-null    float64       \n",
            " 12  tempo             500 non-null    float64       \n",
            " 13  duration_ms       500 non-null    int64         \n",
            " 14  time_signature    500 non-null    int64         \n",
            " 15  chorus_hit        500 non-null    float64       \n",
            " 16  sections          500 non-null    int64         \n",
            " 17  year              500 non-null    datetime64[ns]\n",
            " 18  playlist_title    500 non-null    object        \n",
            " 19  id                500 non-null    object        \n",
            " 20  lyrics            500 non-null    object        \n",
            "dtypes: datetime64[ns](1), float64(10), int64(5), object(5)\n",
            "memory usage: 105.9+ KB\n"
          ],
          "name": "stdout"
        }
      ]
    },
    {
      "cell_type": "markdown",
      "metadata": {
        "id": "_W-cd0m9Vf0Z"
      },
      "source": [
        "## Bar plot of top artist over 5 years\n"
      ]
    },
    {
      "cell_type": "code",
      "metadata": {
        "id": "NkdyWhtEXHdR"
      },
      "source": [
        "playlist_df2.to_csv('music_data.csv')\n",
        "!cp music_data.csv \"drive/My Drive/SpotifyEDA\""
      ],
      "execution_count": 71,
      "outputs": []
    },
    {
      "cell_type": "code",
      "metadata": {
        "id": "2WKjcXr_aIcP"
      },
      "source": [
        "import plotly.express as px"
      ],
      "execution_count": 76,
      "outputs": []
    },
    {
      "cell_type": "code",
      "metadata": {
        "colab": {
          "base_uri": "https://localhost:8080/"
        },
        "id": "rgFFqrgykeqE",
        "outputId": "2b12b187-67b8-4609-b03f-629482f7decd"
      },
      "source": [
        "playlist_df2[playlist_df2['year']==2016].valence.mean()"
      ],
      "execution_count": 78,
      "outputs": [
        {
          "output_type": "execute_result",
          "data": {
            "text/plain": [
              "0.38381400000000016"
            ]
          },
          "metadata": {
            "tags": []
          },
          "execution_count": 78
        }
      ]
    },
    {
      "cell_type": "code",
      "metadata": {
        "colab": {
          "base_uri": "https://localhost:8080/"
        },
        "id": "hJTxMsTplzpP",
        "outputId": "2c111c7a-7a46-4bb4-ab95-3619b3740091"
      },
      "source": [
        "playlist_df2[playlist_df2['year']==2017].valence.mean()"
      ],
      "execution_count": 79,
      "outputs": [
        {
          "output_type": "execute_result",
          "data": {
            "text/plain": [
              "0.43529"
            ]
          },
          "metadata": {
            "tags": []
          },
          "execution_count": 79
        }
      ]
    },
    {
      "cell_type": "code",
      "metadata": {
        "colab": {
          "base_uri": "https://localhost:8080/"
        },
        "id": "EdSDqsgzl2Un",
        "outputId": "371e92a0-5527-41bc-8fe0-da928f81e1bb"
      },
      "source": [
        "playlist_df2[playlist_df2['year']==2018].valence.mean()"
      ],
      "execution_count": 80,
      "outputs": [
        {
          "output_type": "execute_result",
          "data": {
            "text/plain": [
              "0.3925500000000001"
            ]
          },
          "metadata": {
            "tags": []
          },
          "execution_count": 80
        }
      ]
    },
    {
      "cell_type": "code",
      "metadata": {
        "colab": {
          "base_uri": "https://localhost:8080/"
        },
        "id": "2lKv0-5-l3Wc",
        "outputId": "33e24cb8-aede-4f74-de86-4ffd734bbd57"
      },
      "source": [
        "playlist_df2[playlist_df2['year']==2019].valence.mean()"
      ],
      "execution_count": 81,
      "outputs": [
        {
          "output_type": "execute_result",
          "data": {
            "text/plain": [
              "0.46044999999999997"
            ]
          },
          "metadata": {
            "tags": []
          },
          "execution_count": 81
        }
      ]
    },
    {
      "cell_type": "code",
      "metadata": {
        "colab": {
          "base_uri": "https://localhost:8080/"
        },
        "id": "8IxS3uI7l4Tz",
        "outputId": "f08c39cc-3da2-4e64-813b-667da725e81a"
      },
      "source": [
        "playlist_df2[playlist_df2['year']==2020].valence.mean()"
      ],
      "execution_count": 82,
      "outputs": [
        {
          "output_type": "execute_result",
          "data": {
            "text/plain": [
              "0.43603499999999984"
            ]
          },
          "metadata": {
            "tags": []
          },
          "execution_count": 82
        }
      ]
    },
    {
      "cell_type": "code",
      "metadata": {
        "id": "fbLep29tmlEn"
      },
      "source": [
        "top_10 = playlist_df2['artist'].value_counts().nlargest(10)"
      ],
      "execution_count": 87,
      "outputs": []
    },
    {
      "cell_type": "code",
      "metadata": {
        "id": "wMKj7l4mmoAi"
      },
      "source": [
        "mask = playlist_df2['artist'].isin(top_10.index)"
      ],
      "execution_count": 90,
      "outputs": []
    },
    {
      "cell_type": "code",
      "metadata": {
        "id": "jyBJICZwnW8b"
      },
      "source": [
        "top_artist = playlist_df2['artist'][mask]"
      ],
      "execution_count": 91,
      "outputs": []
    },
    {
      "cell_type": "code",
      "metadata": {
        "colab": {
          "base_uri": "https://localhost:8080/"
        },
        "id": "ip8-pWZBnfr6",
        "outputId": "9e4ee743-60ed-4d52-b22b-2e4c7e5cbdb6"
      },
      "source": [
        "top_artist"
      ],
      "execution_count": 92,
      "outputs": [
        {
          "output_type": "execute_result",
          "data": {
            "text/plain": [
              "2                  Solange\n",
              "8                  Solange\n",
              "10           Ariana Grande\n",
              "14                 Solange\n",
              "19                 Kehlani\n",
              "              ...         \n",
              "477    Megan Thee Stallion\n",
              "493           Snoh Aalegra\n",
              "494                    SZA\n",
              "495                Solange\n",
              "497           Snoh Aalegra\n",
              "Name: artist, Length: 125, dtype: object"
            ]
          },
          "metadata": {
            "tags": []
          },
          "execution_count": 92
        }
      ]
    },
    {
      "cell_type": "code",
      "metadata": {
        "id": "3iWZTBw0rSC9"
      },
      "source": [
        ""
      ],
      "execution_count": null,
      "outputs": []
    },
    {
      "cell_type": "code",
      "metadata": {
        "colab": {
          "base_uri": "https://localhost:8080/",
          "height": 542
        },
        "id": "Zc4l0lApl50w",
        "outputId": "37744cc4-e710-4918-867d-1aa93d7fad11"
      },
      "source": [
        "fig = px.scatter(playlist_df2,x='energy', y='valence',color='playlist_title',title=\"Energy/Valance Across Playlist\", hover_name=\"name\",hover_data=[\"artist\"])\n",
        "fig.show()\n"
      ],
      "execution_count": 114,
      "outputs": [
        {
          "output_type": "display_data",
          "data": {
            "text/html": [
              "<html>\n",
              "<head><meta charset=\"utf-8\" /></head>\n",
              "<body>\n",
              "    <div>\n",
              "            <script src=\"https://cdnjs.cloudflare.com/ajax/libs/mathjax/2.7.5/MathJax.js?config=TeX-AMS-MML_SVG\"></script><script type=\"text/javascript\">if (window.MathJax) {MathJax.Hub.Config({SVG: {font: \"STIX-Web\"}});}</script>\n",
              "                <script type=\"text/javascript\">window.PlotlyConfig = {MathJaxConfig: 'local'};</script>\n",
              "        <script src=\"https://cdn.plot.ly/plotly-latest.min.js\"></script>    \n",
              "            <div id=\"de4abe91-708d-4a38-84b9-a3943f5a4e89\" class=\"plotly-graph-div\" style=\"height:525px; width:100%;\"></div>\n",
              "            <script type=\"text/javascript\">\n",
              "                \n",
              "                    window.PLOTLYENV=window.PLOTLYENV || {};\n",
              "                    \n",
              "                if (document.getElementById(\"de4abe91-708d-4a38-84b9-a3943f5a4e89\")) {\n",
              "                    Plotly.newPlot(\n",
              "                        'de4abe91-708d-4a38-84b9-a3943f5a4e89',\n",
              "                        [{\"customdata\": [[\"Rihanna\"], [\"Fifth Harmony\"], [\"Solange\"], [\"DJ Khaled\"], [\"Yuna\"], [\"Rihanna\"], [\"Mariahlynn\"], [\"Kanye West\"], [\"Solange\"], [\"The Chainsmokers\"], [\"Ariana Grande\"], [\"Lianne La Havas\"], [\"Shelley FKA DRAM\"], [\"TWENTY88\"], [\"Solange\"], [\"TWENTY88\"], [\"Bruno Mars\"], [\"Lianne La Havas\"], [\"Rae Sremmurd\"], [\"Kehlani\"], [\"India.Arie\"], [\"Rihanna\"], [\"Lil Yachty\"], [\"Adele\"], [\"Lin-Manuel Miranda\"], [\"Desiigner\"], [\"Rihanna\"], [\"Kent Jones\"], [\"Kanye West\"], [\"Chance the Rapper\"], [\"Drake\"], [\"Snakehips\"], [\"Chrisette Michele\"], [\"Corinne Bailey Rae\"], [\"Lianne La Havas\"], [\"VIC MENSA\"], [\"Kanye West\"], [\"Chance the Rapper\"], [\"Ariana Grande\"], [\"Sofi de la Torre\"], [\"Frank Ocean\"], [\"Kehlani\"], [\"Jill Scott\"], [\"Chance the Rapper\"], [\"Lin-Manuel Miranda\"], [\"Lianne La Havas\"], [\"Adele\"], [\"Drake\"], [\"Lin-Manuel Miranda\"], [\"Corinne Bailey Rae\"], [\"TWENTY88\"], [\"ScHoolboy Q\"], [\"Musiq Soulchild\"], [\"LION BABE\"], [\"Childish Gambino\"], [\"Corinne Bailey Rae\"], [\"Bryson Tiller\"], [\"Ariana Grande\"], [\"Floetry\"], [\"Jidenna\"], [\"The Weeknd\"], [\"PARTYNEXTDOOR\"], [\"Jill Scott\"], [\"Childish Gambino\"], [\"Justin Bieber\"], [\"James Blake\"], [\"Macy Gray\"], [\"Ms. Lauryn Hill\"], [\"Various Artists\"], [\"India.Arie\"], [\"Alina Baraz\"], [\"Lil Uzi Vert\"], [\"Shelley FKA DRAM\"], [\"Destiny's Child\"], [\"James Blake\"], [\"Floetry\"], [\"Bryson Tiller\"], [\"Kehlani\"], [\"Musiq Soulchild\"], [\"Leona Lewis\"], [\"Jill Scott\"], [\"Lil Uzi Vert\"], [\"Floetry\"], [\"ZAYN\"], [\"Justin Bieber\"], [\"Shelley FKA DRAM\"], [\"Childish Gambino\"], [\"Ariana Grande\"], [\"ZAYN\"], [\"Young Thug\"], [\"Chrisette Michele\"], [\"Musiq Soulchild\"], [\"Erykah Badu\"], [\"Destiny's Child\"], [\"Lukas Graham\"], [\"The Isley Brothers\"], [\"James Blake\"], [\"Donnie Trumpet & The Social Experiment\"], [\"Lianne La Havas\"], [\"Drake\"]], \"hoverlabel\": {\"namelength\": 0}, \"hovertemplate\": \"<b>%{hovertext}</b><br><br>playlist_title=Your top songs 2016<br>energy=%{x}<br>valence=%{y}<br>artist=%{customdata[0]}\", \"hovertext\": [\"Sex With Me\", \"Dope\", \"Cranes in the Sky\", \"For Free (feat. Drake)\", \"Crush\", \"Needed Me\", \"Once Upon a Time\", \"Ultralight Beam\", \"Scales (feat. Kelela)\", \"Closer\", \"Dangerous Woman\", \"Wonderful\", \"Broccoli\", \"London Bridge\", \"Mad (feat. Lil Wayne)\", \"Talk Show\", \"24K Magic\", \"Fairytale - Solo\", \"Black Beatles\", \"The Way (feat. Chance the Rapper)\", \"The Truth\", \"Yeah, I Said It\", \"One Night\", \"Daydreamer\", \"Satisfied\", \"Tiimmy Turner\", \"Love On The Brain\", \"Don't Mind\", \"I Love Kanye\", \"Mixtape (feat. Young Thug & Lil Yachty)\", \"Keep The Family Close\", \"All My Friends (feat. Tinashe & Chance the Rapper)\", \"Love Is You\", \"Like A Star\", \"Green & Gold\", \"New Bae\", \"Low Lights\", \"All Night (feat. Knox Fortune)\", \"Leave Me Lonely\", \"Give up at 2\", \"Solo\", \"Did I\", \"The Way\", \"Blessings (feat. Jamila Woods)\", \"Helpless\", \"Unstoppable\", \"Crazy For You\", \"Childs Play\", \"Wait for It\", \"Till It Happens To You\", \"Memories Faded\", \"THat Part\", \"Just Friends (Sunny)\", \"She's a Lady\", \"Me and Your Mama\", \"Put Your Records On\", \"Exchange\", \"Side To Side\", \"Getting Late\", \"Chief Don't Run\", \"Starboy\", \"Come and See Me (feat. Drake)\", \"A Long Walk\", \"Sober\", \"No Sense\", \"f.o.r.e.v.e.r.\", \"I Try\", \"To Zion\", \"Gangsta\", \"Brown Skin\", \"Can I\", \"Money Longer\", \"Caretaker (feat. SZA)\", \"Cater 2 U\", \"Points\", \"Floetic\", \"Don't\", \"How That Taste\", \"Buddy\", \"I Got You\", \"He Loves Me (Lyzel in E Flat)\", \"Team Rocket\", \"Say Yes\", \"wRoNg (feat. Kehlani)\", \"No Pressure\", \"100%\", \"I. The Worst Guys\", \"Let Me Love You\", \"dRuNk\", \"pick up the phone\", \"Is This The Way Love Feels\", \"teachme\", \"Tyrone - Live\", \"If\", \"7 Years\", \"Contagious\", \"Put That Away And Talk To Me\", \"Sunday Candy\", \"Wonderful - Solo\", \"Too Good\"], \"legendgroup\": \"playlist_title=Your top songs 2016\", \"marker\": {\"color\": \"#636efa\", \"symbol\": \"circle\"}, \"mode\": \"markers\", \"name\": \"playlist_title=Your top songs 2016\", \"showlegend\": true, \"type\": \"scatter\", \"x\": [0.532, 0.519, 0.615, 0.5710000000000001, 0.414, 0.314, 0.612, 0.40299999999999997, 0.366, 0.524, 0.637, 0.242, 0.525, 0.642, 0.47700000000000004, 0.893, 0.8029999999999999, 0.192, 0.632, 0.5379999999999999, 0.47200000000000003, 0.38, 0.475, 0.10400000000000001, 0.593, 0.725, 0.637, 0.7709999999999999, 0.384, 0.43, 0.5660000000000001, 0.521, 0.225, 0.226, 0.4, 0.521, 0.579, 0.777, 0.446, 0.39, 0.28800000000000003, 0.627, 0.402, 0.34299999999999997, 0.491, 0.797, 0.14400000000000002, 0.475, 0.473, 0.226, 0.53, 0.509, 0.376, 0.593, 0.45399999999999996, 0.511, 0.433, 0.736, 0.3, 0.561, 0.5920000000000001, 0.34700000000000003, 0.541, 0.601, 0.499, 0.0375, 0.642, 0.601, 0.447, 0.445, 0.536, 0.568, 0.275, 0.584, 0.223, 0.635, 0.35600000000000004, 0.873, 0.8390000000000001, 0.726, 0.3, 0.54, 0.39799999999999996, 0.475, 0.595, 0.575, 0.684, 0.451, 0.597, 0.716, 0.38299999999999995, 0.61, 0.598, 0.375, 0.473, 0.449, 0.265, 0.596, 0.185, 0.653], \"xaxis\": \"x\", \"y\": [0.39, 0.122, 0.465, 0.498, 0.355, 0.29600000000000004, 0.672, 0.391, 0.255, 0.6609999999999999, 0.301, 0.213, 0.708, 0.32, 0.599, 0.7020000000000001, 0.632, 0.28600000000000003, 0.355, 0.516, 0.29100000000000004, 0.249, 0.34, 0.335, 0.478, 0.304, 0.37799999999999995, 0.69, 0.963, 0.126, 0.196, 0.17800000000000002, 0.235, 0.142, 0.28, 0.37799999999999995, 0.5920000000000001, 0.392, 0.389, 0.306, 0.247, 0.35100000000000003, 0.45299999999999996, 0.37200000000000005, 0.737, 0.359, 0.349, 0.292, 0.519, 0.0705, 0.38, 0.35, 0.5539999999999999, 0.54, 0.214, 0.542, 0.276, 0.613, 0.43700000000000006, 0.341, 0.5, 0.0589, 0.28, 0.434, 0.363, 0.159, 0.736, 0.516, 0.11, 0.396, 0.106, 0.478, 0.165, 0.46399999999999997, 0.11, 0.701, 0.18899999999999997, 0.506, 0.8340000000000001, 0.289, 0.294, 0.23, 0.428, 0.42200000000000004, 0.5539999999999999, 0.337, 0.39899999999999997, 0.07400000000000001, 0.375, 0.45899999999999996, 0.41600000000000004, 0.436, 0.353, 0.309, 0.34, 0.204, 0.237, 0.5539999999999999, 0.19699999999999998, 0.39299999999999996], \"yaxis\": \"y\"}, {\"customdata\": [[\"Childish Gambino\"], [\"SZA\"], [\"Alabama Shakes\"], [\"SZA\"], [\"Lana Del Rey\"], [\"Julia Michaels\"], [\"Lorde\"], [\"BANKS\"], [\"SZA\"], [\"Tracy Chapman\"], [\"Kehlani\"], [\"Jidenna\"], [\"Halsey\"], [\"Kendrick Lamar\"], [\"Cardi B\"], [\"Sabrina Claudio\"], [\"Halsey\"], [\"Fifth Harmony\"], [\"Sabrina Claudio\"], [\"DJ Khaled\"], [\"Lorde\"], [\"Bruno Mars\"], [\"Amin\\u00e9\"], [\"Kendrick Lamar\"], [\"BANKS\"], [\"Stephin Merritt\"], [\"Lin-Manuel Miranda\"], [\"Lin-Manuel Miranda\"], [\"Lin-Manuel Miranda\"], [\"Kendrick Lamar\"], [\"Kamaiyah\"], [\"Sabrina Claudio\"], [\"Kehlani\"], [\"Halsey\"], [\"Childish Gambino\"], [\"Dua Lipa\"], [\"2 Chainz\"], [\"Halsey\"], [\"Childish Gambino\"], [\"Khalid\"], [\"Kehlani\"], [\"Lorde\"], [\"Sampha\"], [\"BANKS\"], [\"Jidenna\"], [\"Various Artists\"], [\"Khalid\"], [\"Lana Del Rey\"], [\"Jorja Smith\"], [\"Hozier\"], [\"Alabama Shakes\"], [\"Solange\"], [\"Frank Ocean\"], [\"Princess Nokia\"], [\"Khalid\"], [\"Solange\"], [\"Sara Bareilles\"], [\"Jidenna\"], [\"Leon Bridges\"], [\"Frank Ocean\"], [\"Bette Midler\"], [\"2 Chainz\"], [\"Barbara Lewis\"], [\"Jason Mraz\"], [\"Rihanna\"], [\"UGK\"], [\"Frank Ocean\"], [\"6LACK\"], [\"Calvin Harris\"], [\"ZAYN\"], [\"Little Mix\"], [\"Natasha Bedingfield\"], [\"Solange\"], [\"Corinne Bailey Rae\"], [\"Jill Scott\"], [\"Mariah Carey\"], [\"Maroon 5\"], [\"Bishop Briggs\"], [\"TWENTY88\"], [\"Erykah Badu\"], [\"Amin\\u00e9\"], [\"Beyonc\\u00e9\"], [\"Alina Baraz\"], [\"Drake\"], [\"Shelley FKA DRAM\"], [\"21 Savage\"], [\"Sam Smith\"], [\"Jill Scott\"], [\"Various Artists\"], [\"Various Artists\"], [\"Bruno Mars\"], [\"Various Artists\"], [\"Leon Bridges\"], [\"India.Arie\"], [\"Lianne La Havas\"], [\"Alina Baraz\"], [\"Keyshia Cole\"], [\"Stephen Schwartz\"], [\"Frank Ocean\"], [\"Sampha\"]], \"hoverlabel\": {\"namelength\": 0}, \"hovertemplate\": \"<b>%{hovertext}</b><br><br>playlist_title=Your top songs 2017<br>energy=%{x}<br>valence=%{y}<br>artist=%{customdata[0]}\", \"hovertext\": [\"Redbone\", \"Doves In The Wind (feat. Kendrick Lamar)\", \"I Found You\", \"Garden (Say It Like Dat)\", \"Love\", \"Issues\", \"The Louvre\", \"Crowded Places\", \"The Weekend\", \"Fast Car\", \"Advice\", \"Bambi\", \"Bad At Love\", \"LOVE. FEAT. ZACARI.\", \"Bodak Yellow\", \"Orion's Belt\", \"Now Or Never\", \"Down\", \"Confidently Lost\", \"Wild Thoughts (feat. Rihanna & Bryson Tiller)\", \"Liability\", \"That's What I Like\", \"Heebiejeebies\", \"ELEMENT.\", \"Someone New\", \"You You You You You\", \"Aaron Burr, Sir\", \"Helpless\", \"Alexander Hamilton\", \"FEAR.\", \"Niggas\", \"I Don't\", \"Do U Dirty\", \"Sorry\", \"Terrified\", \"New Rules\", \"It's A Vibe\", \"Strangers\", \"California\", \"Another Sad Love Song\", \"Personal\", \"Hard Feelings/Loveless\", \"Plastic 100\\u00b0C\", \"Fuck With Myself\", \"Adaora\", \"Audition (The Fools Who Dream)\", \"Location\", \"Lust for Life (with The Weeknd)\", \"Beautiful Little Fools\", \"Someone New\", \"This Feeling\", \"Scales (feat. Kelela)\", \"Chanel\", \"G.O.A.T.\", \"American Teen\", \"Cranes in the Sky\", \"I Choose You\", \"Trampoline\", \"Brown Skin Girl\", \"Solo\", \"Wind Beneath My Wings\", \"Good Drank\", \"Hello Stranger\", \"Lucky\", \"Love On The Brain\", \"Int'l Players Anthem (I Choose You) (feat. OutKast)\", \"Solo (Reprise)\", \"PRBLMS\", \"Slide (feat. Frank Ocean & Migos)\", \"Still Got Time (feat. PARTYNEXTDOOR)\", \"Shout Out to My Ex\", \"These Words\", \"Mad (feat. Lil Wayne)\", \"Put Your Records On\", \"The Way\", \"Always Be My Baby\", \"Sunday Morning\", \"River\", \"Talk Show\", \"On & On\", \"Caroline\", \"Rocket\", \"Pretty Thoughts\", \"Portland\", \"100%\", \"X (feat. Future)\", \"Too Good At Goodbyes\", \"A Long Walk\", \"Quicksand\", \"Seasons of Love\", \"Straight up & Down\", \"I Won't Say (I'm In Love)\", \"Lisa Sawyer\", \"The Truth\", \"Wonderful\", \"Can I\", \"Love\", \"Defying Gravity - From \\\"Wicked\\\" Original Broadway Cast Recording/2003\", \"Ivy\", \"Incomplete Kisses\"], \"legendgroup\": \"playlist_title=Your top songs 2017\", \"marker\": {\"color\": \"#EF553B\", \"symbol\": \"circle\"}, \"mode\": \"markers\", \"name\": \"playlist_title=Your top songs 2017\", \"showlegend\": true, \"type\": \"scatter\", \"x\": [0.35600000000000004, 0.713, 0.76, 0.457, 0.358, 0.41700000000000004, 0.382, 0.33899999999999997, 0.366, 0.292, 0.742, 0.623, 0.7509999999999999, 0.585, 0.723, 0.35200000000000004, 0.575, 0.512, 0.39, 0.6809999999999999, 0.22899999999999998, 0.56, 0.496, 0.705, 0.225, 0.187, 0.439, 0.491, 0.435, 0.479, 0.449, 0.415, 0.5529999999999999, 0.25, 0.409, 0.7, 0.502, 0.784, 0.436, 0.47200000000000003, 0.638, 0.445, 0.36200000000000004, 0.37, 0.6409999999999999, 0.157, 0.449, 0.6729999999999999, 0.402, 0.5329999999999999, 0.32899999999999996, 0.366, 0.503, 0.616, 0.623, 0.615, 0.5720000000000001, 0.655, 0.342, 0.287, 0.45799999999999996, 0.7759999999999999, 0.16399999999999998, 0.41700000000000004, 0.637, 0.6809999999999999, 0.747, 0.574, 0.795, 0.627, 0.7390000000000001, 0.635, 0.47700000000000004, 0.511, 0.402, 0.531, 0.76, 0.486, 0.893, 0.397, 0.39399999999999996, 0.40299999999999997, 0.485, 0.44299999999999995, 0.575, 0.413, 0.37799999999999995, 0.541, 0.69, 0.579, 0.733, 0.456, 0.433, 0.47200000000000003, 0.242, 0.536, 0.519, 0.377, 0.38799999999999996, 0.418], \"xaxis\": \"x\", \"y\": [0.607, 0.615, 0.235, 0.5489999999999999, 0.23199999999999998, 0.451, 0.126, 0.11199999999999999, 0.161, 0.19399999999999998, 0.324, 0.21, 0.612, 0.779, 0.45799999999999996, 0.537, 0.47700000000000004, 0.401, 0.325, 0.619, 0.379, 0.86, 0.56, 0.483, 0.373, 0.34299999999999997, 0.528, 0.737, 0.552, 0.434, 0.193, 0.39299999999999996, 0.46799999999999997, 0.35100000000000003, 0.10300000000000001, 0.608, 0.525, 0.284, 0.861, 0.517, 0.626, 0.18, 0.175, 0.138, 0.41600000000000004, 0.313, 0.326, 0.267, 0.136, 0.58, 0.305, 0.255, 0.473, 0.46299999999999997, 0.207, 0.465, 0.9470000000000001, 0.455, 0.307, 0.24600000000000002, 0.177, 0.37, 0.82, 0.721, 0.37799999999999995, 0.82, 0.604, 0.106, 0.511, 0.524, 0.823, 0.9309999999999999, 0.599, 0.542, 0.45299999999999996, 0.48700000000000004, 0.805, 0.5579999999999999, 0.7020000000000001, 0.348, 0.743, 0.555, 0.11900000000000001, 0.35, 0.337, 0.111, 0.536, 0.28, 0.444, 0.466, 0.643, 0.484, 0.436, 0.29100000000000004, 0.213, 0.106, 0.318, 0.245, 0.452, 0.265], \"yaxis\": \"y\"}, {\"customdata\": [[\"Cardi B\"], [\"Chloe x Halle\"], [\"Daniel Caesar\"], [\"SZA\"], [\"Janelle Mon\\u00e1e\"], [\"Nao\"], [\"Drake\"], [\"Leon Bridges\"], [\"J. Cole\"], [\"Smino\"], [\"Hailee Steinfeld\"], [\"Noname\"], [\"Chloe x Halle\"], [\"Lorde\"], [\"Cardi B\"], [\"Childish Gambino\"], [\"Daniel Caesar\"], [\"Nao\"], [\"Jessie Reyez\"], [\"J. Cole\"], [\"6LACK\"], [\"Nitty Scott\"], [\"Steven Universe\"], [\"Jorja Smith\"], [\"Gallant\"], [\"Cardi B\"], [\"Chloe x Halle\"], [\"SZA\"], [\"Janelle Mon\\u00e1e\"], [\"Travis Scott\"], [\"J. Cole\"], [\"Kesha\"], [\"Tracy Chapman\"], [\"Lady Gaga\"], [\"Steven Universe\"], [\"Daniel Caesar\"], [\"Summer Walker\"], [\"Kendrick Lamar\"], [\"SZA\"], [\"Jorja Smith\"], [\"Janelle Mon\\u00e1e\"], [\"6LACK\"], [\"Noname\"], [\"Alabama Shakes\"], [\"Nao\"], [\"Princess Nokia\"], [\"Lorde\"], [\"Summer Walker\"], [\"H.E.R.\"], [\"Drake\"], [\"A$AP Ferg\"], [\"Jessie Reyez\"], [\"6LACK\"], [\"G-Eazy\"], [\"Ariana Grande\"], [\"Ella Mai\"], [\"Tierra Whack\"], [\"Jorja Smith\"], [\"Lorde\"], [\"Travis Scott\"], [\"Various Artists\"], [\"Childish Gambino\"], [\"Jessie Reyez\"], [\"Smino\"], [\"Cardi B\"], [\"Steven Universe\"], [\"Janelle Mon\\u00e1e\"], [\"Daniel Caesar\"], [\"Summer Walker\"], [\"H.E.R.\"], [\"Jill Scott\"], [\"Travis Scott\"], [\"Leon Bridges\"], [\"G-Eazy\"], [\"Smino\"], [\"Nicholas Britell\"], [\"Kehlani\"], [\"GoldLink\"], [\"Ari Lennox\"], [\"Jazmine Sullivan\"], [\"The Carters\"], [\"Saweetie\"], [\"Childish Gambino\"], [\"Leon Bridges\"], [\"Ariana Grande\"], [\"KYLE\"], [\"Jill Scott\"], [\"Lady Gaga\"], [\"H.E.R.\"], [\"Jonny Greenwood\"], [\"Nicholas Britell\"], [\"Luc Gilbert\"], [\"Juice WRLD\"], [\"Noname\"], [\"Leon Bridges\"], [\"Childish Gambino\"], [\"Rico Nasty\"], [\"Kendrick Lamar\"], [\"Amin\\u00e9\"], [\"Taylor Swift\"]], \"hoverlabel\": {\"namelength\": 0}, \"hovertemplate\": \"<b>%{hovertext}</b><br><br>playlist_title=Your top songs 2018<br>energy=%{x}<br>valence=%{y}<br>artist=%{customdata[0]}\", \"hovertext\": [\"Bickenhead\", \"Happy Without Me (feat. Joey Bada$$)\", \"Best Part (feat. H.E.R.)\", \"Garden (Say It Like Dat)\", \"Crazy, Classic, Life\", \"Bad Blood\", \"Nice For What\", \"Beyond\", \"Kevin\\u2019s Heart\", \"Wild Irish Roses\", \"Starving\", \"Casket Pretty\", \"Cool People\", \"Sober II (Melodrama)\", \"I Do (feat. SZA)\", \"This Is America\", \"Freudian\", \"Another Lifetime\", \"Gatekeeper\", \"Photograph\", \"Loaded Gun\", \"BBYGRL\", \"Stronger Than You\", \"Teenage Fantasy\", \"Doesn't Matter\", \"I Like It\", \"Down\", \"Supermodel\", \"Pynk (feat. Grimes)\", \"SICKO MODE\", \"KOD\", \"Praying\", \"Fast Car\", \"Shallow - Radio Edit\", \"Here Comes a Thought\", \"Get You (feat. Kali Uchis)\", \"BP\", \"LOVE. FEAT. ZACARI.\", \"Broken Clocks\", \"Wandering Romance\", \"Screwed (feat. Zo\\u00eb Kravitz)\", \"Pretty Little Fears (feat. J. Cole)\", \"Reality Check (feat. Akenya & Eryn Allen Kane)\", \"This Feeling\", \"Fool to Love\", \"G.O.A.T.\", \"Perfect Places\", \"Smartwater\", \"Focus\", \"In My Feelings\", \"Plain Jane\", \"Shutter Island\", \"East Atlanta Love Letter (feat. Future)\", \"No Limit\", \"God is a woman\", \"Naked - Bonus Track\", \"Pretty Ugly\", \"Goodbyes\", \"Liability (Reprise)\", \"STOP TRYING TO BE GOD\", \"Quicksand\", \"Summertime Magic\", \"FIGURES\", \"blkswn\", \"Money\", \"Love Like You (End Credits)\", \"Make Me Feel\", \"Japanese Denim\", \"Just Like Me\", \"Lights On\", \"A Long Walk\", \"CAROUSEL\", \"Bad Bad News\", \"Him & I\", \"Anita\", \"Vesperae Solennes de Confessore in C Major, K. 339: V. Laudate Dominum\", \"Honey\", \"Crew (feat. Brent Faiyaz & Shy Glizzy)\", \"Backseat\", \"Insecure\", \"APESHIT\", \"ICY GRL\", \"Redbone\", \"Brown Skin Girl\", \"thank u, next\", \"Deeper (feat. Beldina) [Bonus]\", \"The Way\", \"I'll Never Love Again - Film Version - Radio Edit\", \"Facts\", \"Phantom Thread I\", \"Chiron's Theme Chopped & Screwed (Knock Down Stay Down)\", \"\\u00c9gypte\", \"Lucid Dreams\", \"Montego Bae\", \"Forgive You\", \"II. Shadows\", \"Won't Change\", \"ELEMENT.\", \"REEL IT IN\", \"Delicate\"], \"legendgroup\": \"playlist_title=Your top songs 2018\", \"marker\": {\"color\": \"#00cc96\", \"symbol\": \"circle\"}, \"mode\": \"markers\", \"name\": \"playlist_title=Your top songs 2018\", \"showlegend\": true, \"type\": \"scatter\", \"x\": [0.8140000000000001, 0.5760000000000001, 0.364, 0.457, 0.706, 0.41200000000000003, 0.9129999999999999, 0.687, 0.527, 0.295, 0.616, 0.488, 0.632, 0.312, 0.473, 0.46299999999999997, 0.298, 0.322, 0.364, 0.48700000000000004, 0.5489999999999999, 0.46399999999999997, 0.5429999999999999, 0.677, 0.665, 0.726, 0.606, 0.442, 0.29100000000000004, 0.73, 0.7829999999999999, 0.381, 0.292, 0.33, 0.513, 0.294, 0.311, 0.585, 0.684, 0.45799999999999996, 0.6809999999999999, 0.45799999999999996, 0.519, 0.32899999999999996, 0.5579999999999999, 0.616, 0.58, 0.29, 0.313, 0.48200000000000004, 0.8440000000000001, 0.45899999999999996, 0.315, 0.7709999999999999, 0.6729999999999999, 0.38799999999999996, 0.6509999999999999, 0.184, 0.27699999999999997, 0.5670000000000001, 0.69, 0.579, 0.139, 0.392, 0.59, 0.242, 0.413, 0.23800000000000002, 0.265, 0.40399999999999997, 0.541, 0.40299999999999997, 0.629, 0.731, 0.581, 0.14300000000000002, 0.24, 0.607, 0.7090000000000001, 0.511, 0.784, 0.563, 0.35600000000000004, 0.342, 0.647, 0.642, 0.402, 0.335, 0.408, 0.163, 0.0111, 0.439, 0.5660000000000001, 0.5539999999999999, 0.68, 0.76, 0.701, 0.705, 0.342, 0.40399999999999997], \"xaxis\": \"x\", \"y\": [0.907, 0.43799999999999994, 0.436, 0.5489999999999999, 0.149, 0.37799999999999995, 0.792, 0.187, 0.475, 0.634, 0.508, 0.504, 0.193, 0.10099999999999999, 0.43799999999999994, 0.5489999999999999, 0.0714, 0.319, 0.247, 0.358, 0.24100000000000002, 0.616, 0.48200000000000004, 0.495, 0.585, 0.65, 0.114, 0.252, 0.41700000000000004, 0.446, 0.19899999999999998, 0.325, 0.19399999999999998, 0.27699999999999997, 0.47100000000000003, 0.358, 0.22699999999999998, 0.779, 0.406, 0.102, 0.446, 0.24600000000000002, 0.655, 0.305, 0.758, 0.46299999999999997, 0.512, 0.139, 0.0875, 0.315, 0.52, 0.418, 0.185, 0.405, 0.287, 0.573, 0.379, 0.37, 0.26, 0.113, 0.444, 0.125, 0.256, 0.48100000000000004, 0.21899999999999997, 0.294, 0.6970000000000001, 0.345, 0.24600000000000002, 0.345, 0.28, 0.133, 0.693, 0.191, 0.804, 0.0961, 0.526, 0.445, 0.6509999999999999, 0.6509999999999999, 0.377, 0.8420000000000001, 0.607, 0.307, 0.435, 0.6890000000000001, 0.45299999999999996, 0.25, 0.376, 0.0307, 0.0384, 0.37200000000000005, 0.218, 0.69, 0.452, 0.377, 0.557, 0.483, 0.423, 0.0499], \"yaxis\": \"y\"}, {\"customdata\": [[\"Megan Thee Stallion\"], [\"Doja Cat\"], [\"Lizzo\"], [\"Lizzo\"], [\"City Girls\"], [\"Megan Thee Stallion\"], [\"Jessie Reyez\"], [\"Beyonc\\u00e9\"], [\"Lizzo\"], [\"6LACK\"], [\"Ari Lennox\"], [\"H.E.R.\"], [\"Megan Thee Stallion\"], [\"Leon Bridges\"], [\"Ari Lennox\"], [\"Doja Cat\"], [\"Megan Thee Stallion\"], [\"Ariana Grande\"], [\"Lizzo\"], [\"Dreamville\"], [\"Megan Thee Stallion\"], [\"Summer Walker\"], [\"Lizzo\"], [\"Labrinth\"], [\"Megan Thee Stallion\"], [\"Ari Lennox\"], [\"Kehlani\"], [\"Chloe x Halle\"], [\"SiR\"], [\"Dreamville\"], [\"Khalid\"], [\"Lizzo\"], [\"Saweetie\"], [\"Solange\"], [\"Megan Thee Stallion\"], [\"Ari Lennox\"], [\"Rico Nasty\"], [\"Lizzo\"], [\"Megan Thee Stallion\"], [\"Dreamville\"], [\"Solange\"], [\"Lizzo\"], [\"Megan Thee Stallion\"], [\"Blueface\"], [\"Dreamville\"], [\"Solange\"], [\"Megan Thee Stallion\"], [\"H.E.R.\"], [\"Tierra Whack\"], [\"Junglepussy\"], [\"Lizzo\"], [\"Kehlani\"], [\"Khalid\"], [\"Maliibu Miitch\"], [\"SiR\"], [\"Kehlani\"], [\"Junglepussy\"], [\"Ariana Grande\"], [\"Maxo Kream\"], [\"Billie Eilish\"], [\"Dreamville\"], [\"Leikeli47\"], [\"Lizzo\"], [\"Beyonc\\u00e9\"], [\"Megan Thee Stallion\"], [\"Dreamville\"], [\"Lizzo\"], [\"Ed Sheeran\"], [\"Kehlani\"], [\"Daniel Caesar\"], [\"Lizzo\"], [\"Ariana Grande\"], [\"H.E.R.\"], [\"FKA twigs\"], [\"Lizzo\"], [\"Tierra Whack\"], [\"Ariana Grande\"], [\"Billie Eilish\"], [\"Lizzo\"], [\"DaVido\"], [\"Ariana Grande\"], [\"Billie Eilish\"], [\"Lizzo\"], [\"Megan Thee Stallion\"], [\"benny blanco\"], [\"Wale\"], [\"Jorja Smith\"], [\"Billie Eilish\"], [\"Janelle Mon\\u00e1e\"], [\"Burna Boy\"], [\"Ariana Grande\"], [\"Billie Eilish\"], [\"Tierra Whack\"], [\"SZA\"], [\"Lizzo\"], [\"Taylor Swift\"], [\"Tierra Whack\"], [\"Beyonc\\u00e9\"], [\"Rico Nasty\"], [\"Taylor Swift\"]], \"hoverlabel\": {\"namelength\": 0}, \"hovertemplate\": \"<b>%{hovertext}</b><br><br>playlist_title=Your top songs 2019<br>energy=%{x}<br>valence=%{y}<br>artist=%{customdata[0]}\", \"hovertext\": [\"Cash Shit (feat. DaBaby)\", \"Tia Tamera (feat. Rico Nasty)\", \"Juice\", \"Truth Hurts\", \"Act Up\", \"Big Ole Freak\", \"Imported (with 6LACK)\", \"BROWN SKIN GIRL\", \"Tempo (feat. Missy Elliott)\", \"Pretty Little Fears (feat. J. Cole)\", \"Shea Butter Baby (with J. Cole)\", \"Hard Place\", \"Cocky Af\", \"Beyond\", \"Broke (feat. JID)\", \"Juicy\", \"Realer\", \"7 rings\", \"Cuz I Love You\", \"Got Me (with Ari Lennox & Omen feat. Ty Dolla $ign & Dreezy)\", \"Sex Talk\", \"Girls Need Love (with Drake) - Remix\", \"Good As Hell\", \"Mount Everest\", \"Simon Says (feat. Juicy J)\", \"Up Late\", \"Nights Like This (feat. Ty Dolla $ign)\", \"who knew - from Grown-ish\", \"That's Why I Love You (feat. Sabrina Claudio)\", \"Self Love (with Ari Lennox & Bas feat. Baby Rose)\", \"Talk REMIX\", \"Scuse Me\", \"My Type\", \"Binz\", \"Freak Nasty\", \"Chicago Boy\", \"Smack a Bitch\", \"Soulmate\", \"Hood Rat Shit\", \"LamboTruck (with Cozz feat. REASON & Childish Major)\", \"Almeda\", \"Like a Girl\", \"Pimpin\", \"Thotiana (feat. Cardi B, YG) [Remix]\", \"Under The Sun (with J. Cole & Lute feat. DaBaby)\", \"My Skin My Logo\", \"Hot Girl Summer (feat. Nicki Minaj & Ty Dolla $ign)\", \"Best Part (feat. Daniel Caesar)\", \"Hungry Hippo\", \"I Just Want It\", \"Boys\", \"Nunya (feat. Dom Kennedy)\", \"This Way - From SUPERFLY - Original Soundtrack\", \"Give Her Some Money\", \"Hair Down (feat. Kendrick Lamar)\", \"Honey\", \"Trader Joe\", \"make up\", \"She Live (feat. Megan Thee Stallion)\", \"i love you\", \"Wells Fargo (with JID & EARTHGANG feat. Buddy & Guapdad 4000) - Interlude\", \"Girl Blunt\", \"Water Me\", \"Top Off - Homecoming Live\", \"Hot Girl\", \"Oh Wow...Swerve (with J. Cole feat. Zoink Gang, KEY! & Maxo Kream)\", \"Better in Color\", \"Cross Me (feat. Chance the Rapper & PnB Rock)\", \"RPG (feat. 6lack)\", \"Who Hurt You?\", \"Jerome\", \"break up with your girlfriend, i'm bored\", \"Focus\", \"cellophane\", \"Crybaby\", \"Pretty Ugly\", \"bloodline\", \"you should see me in a crown\", \"Fitness\", \"If\", \"NASA\", \"when the party's over\", \"Heaven Help Me\", \"Money Good\", \"I Found You / Nilda\\u2019s Story (with Calvin Harris & Miguel)\", \"Poledancer (feat. Megan Thee Stallion)\", \"Be Honest (feat. Burna Boy)\", \"all the good girls go to hell\", \"Crazy, Classic, Life\", \"JA ARA E\", \"in my head\", \"ocean eyes\", \"Fruit Salad\", \"Supermodel\", \"Exactly How I Feel (feat. Gucci Mane)\", \"I Forgot That You Existed\", \"Silly Sam\", \"MOOD 4 EVA (feat. Oumou Sangar\\u00e9)\", \"Bitch I'm Nasty\", \"It\\u2019s Nice To Have A Friend\"], \"legendgroup\": \"playlist_title=Your top songs 2019\", \"marker\": {\"color\": \"#ab63fa\", \"symbol\": \"circle\"}, \"mode\": \"markers\", \"name\": \"playlist_title=Your top songs 2019\", \"showlegend\": true, \"type\": \"scatter\", \"x\": [0.635, 0.675, 0.889, 0.624, 0.638, 0.6990000000000001, 0.636, 0.602, 0.722, 0.45799999999999996, 0.49, 0.7190000000000001, 0.621, 0.687, 0.307, 0.6970000000000001, 0.631, 0.317, 0.66, 0.61, 0.77, 0.43200000000000005, 0.905, 0.426, 0.815, 0.39899999999999997, 0.725, 0.465, 0.496, 0.6970000000000001, 0.426, 0.833, 0.8109999999999999, 0.625, 0.723, 0.397, 0.7, 0.8490000000000001, 0.7809999999999999, 0.695, 0.5529999999999999, 0.807, 0.688, 0.721, 0.64, 0.292, 0.8140000000000001, 0.371, 0.61, 0.721, 0.588, 0.71, 0.282, 0.516, 0.489, 0.24, 0.541, 0.7140000000000001, 0.764, 0.131, 0.826, 0.665, 0.966, 0.6920000000000001, 0.637, 0.703, 0.9279999999999999, 0.787, 0.534, 0.493, 0.542, 0.5539999999999999, 0.313, 0.282, 0.7190000000000001, 0.6509999999999999, 0.665, 0.5329999999999999, 0.732, 0.6609999999999999, 0.45799999999999996, 0.111, 0.725, 0.748, 0.24100000000000002, 0.5870000000000001, 0.737, 0.444, 0.706, 0.693, 0.6, 0.363, 0.794, 0.442, 0.718, 0.316, 0.488, 0.7090000000000001, 0.636, 0.175], \"xaxis\": \"x\", \"y\": [0.5489999999999999, 0.408, 0.843, 0.41200000000000003, 0.313, 0.627, 0.36200000000000004, 0.595, 0.588, 0.24600000000000002, 0.0397, 0.34, 0.528, 0.187, 0.48, 0.428, 0.43700000000000006, 0.327, 0.52, 0.47200000000000003, 0.591, 0.0897, 0.49200000000000005, 0.43200000000000005, 0.49, 0.348, 0.29100000000000004, 0.239, 0.547, 0.19699999999999998, 0.499, 0.784, 0.5870000000000001, 0.456, 0.221, 0.322, 0.34, 0.767, 0.7290000000000001, 0.242, 0.0631, 0.797, 0.75, 0.69, 0.163, 0.524, 0.57, 0.413, 0.778, 0.613, 0.753, 0.574, 0.193, 0.249, 0.47, 0.526, 0.589, 0.47700000000000004, 0.603, 0.12, 0.24100000000000002, 0.36700000000000005, 0.77, 0.537, 0.374, 0.301, 0.556, 0.607, 0.7190000000000001, 0.27699999999999997, 0.534, 0.335, 0.0875, 0.244, 0.722, 0.379, 0.643, 0.32299999999999995, 0.355, 0.9259999999999999, 0.47, 0.198, 0.161, 0.81, 0.18100000000000002, 0.305, 0.635, 0.569, 0.149, 0.855, 0.331, 0.16899999999999998, 0.91, 0.252, 0.833, 0.541, 0.502, 0.7090000000000001, 0.342, 0.545], \"yaxis\": \"y\"}, {\"customdata\": [[\"Megan Thee Stallion\"], [\"Snoh Aalegra\"], [\"King Princess\"], [\"Snoh Aalegra\"], [\"Snoh Aalegra\"], [\"SiR\"], [\"Chloe x Halle\"], [\"Frank Ocean\"], [\"Cardi B\"], [\"Mereba\"], [\"Chloe x Halle\"], [\"Princess Nokia\"], [\"City Girls\"], [\"Pink Sweat$\"], [\"Chloe x Halle\"], [\"WILLOW\"], [\"Baby Rose\"], [\"Megan Thee Stallion\"], [\"Chloe x Halle\"], [\"Doja Cat\"], [\"City Girls\"], [\"Giveon\"], [\"Chloe x Halle\"], [\"Snoh Aalegra\"], [\"Baby Rose\"], [\"Mulatto\"], [\"Chloe x Halle\"], [\"Roddy Ricch\"], [\"Boris Gardiner\"], [\"Stevie Wonder\"], [\"Snoh Aalegra\"], [\"Chloe x Halle\"], [\"Jill Scott\"], [\"Megan Thee Stallion\"], [\"Stevie Wonder\"], [\"Swamp Dogg\"], [\"Snoh Aalegra\"], [\"Alabama Shakes\"], [\"Megan Thee Stallion\"], [\"Jhen\\u00e9 Aiko\"], [\"Mahalia\"], [\"Hannah Williams\"], [\"Phony Ppl\"], [\"Barbara Lewis\"], [\"FKA twigs\"], [\"Spillage Village\"], [\"Megan Thee Stallion\"], [\"Selena Gomez\"], [\"Giveon\"], [\"Solange\"], [\"Durand Jones & The Indications\"], [\"Doja Cat\"], [\"Giveon\"], [\"Megan Thee Stallion\"], [\"Snoh Aalegra\"], [\"Doja Cat\"], [\"Jill Scott\"], [\"Baby Rose\"], [\"Snoh Aalegra\"], [\"Ariana Grande\"], [\"Megan Thee Stallion\"], [\"Nina Simone\"], [\"Snoh Aalegra\"], [\"Mulatto\"], [\"Camila Cabello\"], [\"Ann Peebles\"], [\"Snoh Aalegra\"], [\"Demi Lovato\"], [\"Solange\"], [\"SZA\"], [\"Tracy Chapman\"], [\"Frank Ocean\"], [\"Solange\"], [\"Yola\"], [\"Giveon\"], [\"Childish Gambino\"], [\"Masego\"], [\"Megan Thee Stallion\"], [\"Giveon\"], [\"Nina Simone\"], [\"Lianne La Havas\"], [\"Flo Milli\"], [\"Giveon\"], [\"Alabama Shakes\"], [\"Lianne La Havas\"], [\"Etta James\"], [\"Dinah Washington\"], [\"Teyana Taylor\"], [\"Lorde\"], [\"6LACK\"], [\"James Vincent McMorrow\"], [\"Daniel Caesar\"], [\"Doja Cat\"], [\"Snoh Aalegra\"], [\"SZA\"], [\"Solange\"], [\"Moses Sumney\"], [\"Snoh Aalegra\"], [\"Moneybagg Yo\"], [\"Tyler, The Creator\"]], \"hoverlabel\": {\"namelength\": 0}, \"hovertemplate\": \"<b>%{hovertext}</b><br><br>playlist_title=Your top songs 2020<br>energy=%{x}<br>valence=%{y}<br>artist=%{customdata[0]}\", \"hovertext\": [\"Captain Hook\", \"Find Someone Like You\", \"1950\", \"Fool For You\", \"I Want You Around\", \"You Can't Save Me\", \"Do It\", \"Nights\", \"WAP (feat. Megan Thee Stallion)\", \"Sandstorm (feat. JID)\", \"Ungodly Hour\", \"I Like Him\", \"Jobs\", \"Honesty\", \"Busy Boy\", \"Time Machine\", \"All To Myself - A COLORS SHOW\", \"Savage\", \"Tipsy\", \"Cyber Sex\", \"Pussy Talk\", \"Stuck On You\", \"Forgive Me\", \"I Didn't Mean To Fall In Love\", \"Show You\", \"B*tch From Da Souf (Remix) (feat. Trina)\", \"Wonder What She Thinks of Me\", \"The Box\", \"Every Nigger is a Star\", \"Never Dreamed You'd Leave In Summer\", \"Nothing to Me\", \"Don't Make It Harder On Me\", \"Whatever\", \"Cash Shit (feat. DaBaby)\", \"I Believe (When I Fall In Love It Will Be Forever)\", \"Lonely\", \"Toronto\", \"I Found You\", \"Girls in the Hood\", \"B.S. (feat. H.E.R.)\", \"I Wish I Missed My Ex\", \"Late Nights & Heartbreak\", \"Fkn Around (feat. Megan Thee Stallion)\", \"Hello Stranger\", \"home with you\", \"End Of Daze (with EARTHGANG & JID feat. Jurdan Bryant, Mereba & Hollywood JB)\", \"Savage Remix (feat. Beyonc\\u00e9)\", \"Boyfriend\", \"Still Your Best\", \"Don't Touch My Hair (feat. Sampha)\", \"Is It Any Wonder?\", \"Rules\", \"LIKE I WANT YOU\", \"Cocky Af\", \"DYING 4 YOUR LOVE\", \"Freak\", \"The Way\", \"Pressure\", \"Love Like That\", \"positions\", \"B.I.T.C.H.\", \"Ne Me Quitte Pas\", \"Whoa\", \"Muwop (feat. Gucci Mane)\", \"My Oh My (feat. DaBaby)\", \"I Can't Stand the Rain\", \"Charleville 9200, Pt. II\", \"Anyone\", \"Mad (feat. Lil Wayne)\", \"Hit Different\", \"Fast Car\", \"Moon River\", \"Scales (feat. Kelela)\", \"Goodbye Yellow Brick Road\", \"Last Time (feat. Snoh Aalegra)\", \"12.38 (feat. 21 Savage, Ink & Kadhja Bonet)\", \"Tadow\", \"Freak Nasty\", \"When It's All Said And Done\", \"Don't Let Me Be Misunderstood\", \"Paper Thin\", \"Like That Bitch\", \"FAVORITE MISTAKE\", \"This Feeling\", \"Wonderful - Solo\", \"A Sunday Kind Of Love\", \"What a Difference a Day Makes\", \"Gonna Love Me\", \"The Louvre\", \"Pretty Little Fears (feat. J. Cole)\", \"Higher Love\", \"Best Part (feat. H.E.R.)\", \"Like That (feat. Gucci Mane)\", \"You\", \"Garden (Say It Like Dat)\", \"Binz\", \"Cut Me\", \"Situationship\", \"Said Sum (feat. City Girls & DaBaby) - Remix\", \"A BOY IS A GUN*\"], \"legendgroup\": \"playlist_title=Your top songs 2020\", \"marker\": {\"color\": \"#FFA15A\", \"symbol\": \"circle\"}, \"mode\": \"markers\", \"name\": \"playlist_title=Your top songs 2020\", \"showlegend\": true, \"type\": \"scatter\", \"x\": [0.633, 0.483, 0.535, 0.287, 0.433, 0.584, 0.6679999999999999, 0.5479999999999999, 0.45399999999999996, 0.512, 0.679, 0.579, 0.5920000000000001, 0.139, 0.655, 0.532, 0.124, 0.741, 0.608, 0.657, 0.6409999999999999, 0.45, 0.6509999999999999, 0.642, 0.5489999999999999, 0.53, 0.536, 0.586, 0.452, 0.182, 0.6759999999999999, 0.754, 0.557, 0.635, 0.441, 0.669, 0.32799999999999996, 0.76, 0.863, 0.525, 0.62, 0.406, 0.738, 0.16399999999999998, 0.196, 0.596, 0.743, 0.512, 0.405, 0.41100000000000003, 0.37799999999999995, 0.7240000000000001, 0.355, 0.621, 0.413, 0.716, 0.402, 0.634, 0.614, 0.802, 0.731, 0.244, 0.516, 0.614, 0.491, 0.387, 0.434, 0.387, 0.47700000000000004, 0.516, 0.292, 0.11599999999999999, 0.366, 0.43799999999999994, 0.41600000000000004, 0.524, 0.48700000000000004, 0.723, 0.358, 0.501, 0.243, 0.8440000000000001, 0.409, 0.32899999999999996, 0.185, 0.285, 0.374, 0.506, 0.382, 0.45799999999999996, 0.114, 0.364, 0.499, 0.444, 0.457, 0.625, 0.304, 0.755, 0.625, 0.6890000000000001], \"xaxis\": \"x\", \"y\": [0.545, 0.414, 0.26899999999999996, 0.23800000000000002, 0.602, 0.545, 0.5529999999999999, 0.423, 0.35700000000000004, 0.33, 0.16399999999999998, 0.611, 0.664, 0.306, 0.353, 0.405, 0.0412, 0.68, 0.667, 0.818, 0.242, 0.14400000000000002, 0.562, 0.7170000000000001, 0.257, 0.414, 0.278, 0.642, 0.7, 0.155, 0.8590000000000001, 0.545, 0.741, 0.5489999999999999, 0.182, 0.619, 0.33799999999999997, 0.235, 0.8740000000000001, 0.377, 0.537, 0.147, 0.715, 0.82, 0.0996, 0.122, 0.636, 0.34600000000000003, 0.21899999999999997, 0.397, 0.401, 0.6970000000000001, 0.43700000000000006, 0.528, 0.5760000000000001, 0.373, 0.45299999999999996, 0.5920000000000001, 0.631, 0.682, 0.547, 0.25, 0.494, 0.63, 0.38299999999999995, 0.966, 0.214, 0.317, 0.599, 0.716, 0.19399999999999998, 0.0937, 0.255, 0.336, 0.384, 0.41, 0.313, 0.221, 0.9009999999999999, 0.532, 0.504, 0.76, 0.138, 0.305, 0.19699999999999998, 0.402, 0.239, 0.312, 0.126, 0.24600000000000002, 0.17300000000000001, 0.436, 0.405, 0.207, 0.5489999999999999, 0.456, 0.355, 0.41100000000000003, 0.298, 0.505], \"yaxis\": \"y\"}],\n",
              "                        {\"legend\": {\"tracegroupgap\": 0}, \"template\": {\"data\": {\"bar\": [{\"error_x\": {\"color\": \"#2a3f5f\"}, \"error_y\": {\"color\": \"#2a3f5f\"}, \"marker\": {\"line\": {\"color\": \"#E5ECF6\", \"width\": 0.5}}, \"type\": \"bar\"}], \"barpolar\": [{\"marker\": {\"line\": {\"color\": \"#E5ECF6\", \"width\": 0.5}}, \"type\": \"barpolar\"}], \"carpet\": [{\"aaxis\": {\"endlinecolor\": \"#2a3f5f\", \"gridcolor\": \"white\", \"linecolor\": \"white\", \"minorgridcolor\": \"white\", \"startlinecolor\": \"#2a3f5f\"}, \"baxis\": {\"endlinecolor\": \"#2a3f5f\", \"gridcolor\": \"white\", \"linecolor\": \"white\", \"minorgridcolor\": \"white\", \"startlinecolor\": \"#2a3f5f\"}, \"type\": \"carpet\"}], \"choropleth\": [{\"colorbar\": {\"outlinewidth\": 0, \"ticks\": \"\"}, \"type\": \"choropleth\"}], \"contour\": [{\"colorbar\": {\"outlinewidth\": 0, \"ticks\": \"\"}, \"colorscale\": [[0.0, \"#0d0887\"], [0.1111111111111111, \"#46039f\"], [0.2222222222222222, \"#7201a8\"], [0.3333333333333333, \"#9c179e\"], [0.4444444444444444, \"#bd3786\"], [0.5555555555555556, \"#d8576b\"], [0.6666666666666666, \"#ed7953\"], [0.7777777777777778, \"#fb9f3a\"], [0.8888888888888888, \"#fdca26\"], [1.0, \"#f0f921\"]], \"type\": \"contour\"}], \"contourcarpet\": [{\"colorbar\": {\"outlinewidth\": 0, \"ticks\": \"\"}, \"type\": \"contourcarpet\"}], \"heatmap\": [{\"colorbar\": {\"outlinewidth\": 0, \"ticks\": \"\"}, \"colorscale\": [[0.0, \"#0d0887\"], [0.1111111111111111, \"#46039f\"], [0.2222222222222222, \"#7201a8\"], [0.3333333333333333, \"#9c179e\"], [0.4444444444444444, \"#bd3786\"], [0.5555555555555556, \"#d8576b\"], [0.6666666666666666, \"#ed7953\"], [0.7777777777777778, \"#fb9f3a\"], [0.8888888888888888, \"#fdca26\"], [1.0, \"#f0f921\"]], \"type\": \"heatmap\"}], \"heatmapgl\": [{\"colorbar\": {\"outlinewidth\": 0, \"ticks\": \"\"}, \"colorscale\": [[0.0, \"#0d0887\"], [0.1111111111111111, \"#46039f\"], [0.2222222222222222, \"#7201a8\"], [0.3333333333333333, \"#9c179e\"], [0.4444444444444444, \"#bd3786\"], [0.5555555555555556, \"#d8576b\"], [0.6666666666666666, \"#ed7953\"], [0.7777777777777778, \"#fb9f3a\"], [0.8888888888888888, \"#fdca26\"], [1.0, \"#f0f921\"]], \"type\": \"heatmapgl\"}], \"histogram\": [{\"marker\": {\"colorbar\": {\"outlinewidth\": 0, \"ticks\": \"\"}}, \"type\": \"histogram\"}], \"histogram2d\": [{\"colorbar\": {\"outlinewidth\": 0, \"ticks\": \"\"}, \"colorscale\": [[0.0, \"#0d0887\"], [0.1111111111111111, \"#46039f\"], [0.2222222222222222, \"#7201a8\"], [0.3333333333333333, \"#9c179e\"], [0.4444444444444444, \"#bd3786\"], [0.5555555555555556, \"#d8576b\"], [0.6666666666666666, \"#ed7953\"], [0.7777777777777778, \"#fb9f3a\"], [0.8888888888888888, \"#fdca26\"], [1.0, \"#f0f921\"]], \"type\": \"histogram2d\"}], \"histogram2dcontour\": [{\"colorbar\": {\"outlinewidth\": 0, \"ticks\": \"\"}, \"colorscale\": [[0.0, \"#0d0887\"], [0.1111111111111111, \"#46039f\"], [0.2222222222222222, \"#7201a8\"], [0.3333333333333333, \"#9c179e\"], [0.4444444444444444, \"#bd3786\"], [0.5555555555555556, \"#d8576b\"], [0.6666666666666666, \"#ed7953\"], [0.7777777777777778, \"#fb9f3a\"], [0.8888888888888888, \"#fdca26\"], [1.0, \"#f0f921\"]], \"type\": \"histogram2dcontour\"}], \"mesh3d\": [{\"colorbar\": {\"outlinewidth\": 0, \"ticks\": \"\"}, \"type\": \"mesh3d\"}], \"parcoords\": [{\"line\": {\"colorbar\": {\"outlinewidth\": 0, \"ticks\": \"\"}}, \"type\": \"parcoords\"}], \"pie\": [{\"automargin\": true, \"type\": \"pie\"}], \"scatter\": [{\"marker\": {\"colorbar\": {\"outlinewidth\": 0, \"ticks\": \"\"}}, \"type\": \"scatter\"}], \"scatter3d\": [{\"line\": {\"colorbar\": {\"outlinewidth\": 0, \"ticks\": \"\"}}, \"marker\": {\"colorbar\": {\"outlinewidth\": 0, \"ticks\": \"\"}}, \"type\": \"scatter3d\"}], \"scattercarpet\": [{\"marker\": {\"colorbar\": {\"outlinewidth\": 0, \"ticks\": \"\"}}, \"type\": \"scattercarpet\"}], \"scattergeo\": [{\"marker\": {\"colorbar\": {\"outlinewidth\": 0, \"ticks\": \"\"}}, \"type\": \"scattergeo\"}], \"scattergl\": [{\"marker\": {\"colorbar\": {\"outlinewidth\": 0, \"ticks\": \"\"}}, \"type\": \"scattergl\"}], \"scattermapbox\": [{\"marker\": {\"colorbar\": {\"outlinewidth\": 0, \"ticks\": \"\"}}, \"type\": \"scattermapbox\"}], \"scatterpolar\": [{\"marker\": {\"colorbar\": {\"outlinewidth\": 0, \"ticks\": \"\"}}, \"type\": \"scatterpolar\"}], \"scatterpolargl\": [{\"marker\": {\"colorbar\": {\"outlinewidth\": 0, \"ticks\": \"\"}}, \"type\": \"scatterpolargl\"}], \"scatterternary\": [{\"marker\": {\"colorbar\": {\"outlinewidth\": 0, \"ticks\": \"\"}}, \"type\": \"scatterternary\"}], \"surface\": [{\"colorbar\": {\"outlinewidth\": 0, \"ticks\": \"\"}, \"colorscale\": [[0.0, \"#0d0887\"], [0.1111111111111111, \"#46039f\"], [0.2222222222222222, \"#7201a8\"], [0.3333333333333333, \"#9c179e\"], [0.4444444444444444, \"#bd3786\"], [0.5555555555555556, \"#d8576b\"], [0.6666666666666666, \"#ed7953\"], [0.7777777777777778, \"#fb9f3a\"], [0.8888888888888888, \"#fdca26\"], [1.0, \"#f0f921\"]], \"type\": \"surface\"}], \"table\": [{\"cells\": {\"fill\": {\"color\": \"#EBF0F8\"}, \"line\": {\"color\": \"white\"}}, \"header\": {\"fill\": {\"color\": \"#C8D4E3\"}, \"line\": {\"color\": \"white\"}}, \"type\": \"table\"}]}, \"layout\": {\"annotationdefaults\": {\"arrowcolor\": \"#2a3f5f\", \"arrowhead\": 0, \"arrowwidth\": 1}, \"coloraxis\": {\"colorbar\": {\"outlinewidth\": 0, \"ticks\": \"\"}}, \"colorscale\": {\"diverging\": [[0, \"#8e0152\"], [0.1, \"#c51b7d\"], [0.2, \"#de77ae\"], [0.3, \"#f1b6da\"], [0.4, \"#fde0ef\"], [0.5, \"#f7f7f7\"], [0.6, \"#e6f5d0\"], [0.7, \"#b8e186\"], [0.8, \"#7fbc41\"], [0.9, \"#4d9221\"], [1, \"#276419\"]], \"sequential\": [[0.0, \"#0d0887\"], [0.1111111111111111, \"#46039f\"], [0.2222222222222222, \"#7201a8\"], [0.3333333333333333, \"#9c179e\"], [0.4444444444444444, \"#bd3786\"], [0.5555555555555556, \"#d8576b\"], [0.6666666666666666, \"#ed7953\"], [0.7777777777777778, \"#fb9f3a\"], [0.8888888888888888, \"#fdca26\"], [1.0, \"#f0f921\"]], \"sequentialminus\": [[0.0, \"#0d0887\"], [0.1111111111111111, \"#46039f\"], [0.2222222222222222, \"#7201a8\"], [0.3333333333333333, \"#9c179e\"], [0.4444444444444444, \"#bd3786\"], [0.5555555555555556, \"#d8576b\"], [0.6666666666666666, \"#ed7953\"], [0.7777777777777778, \"#fb9f3a\"], [0.8888888888888888, \"#fdca26\"], [1.0, \"#f0f921\"]]}, \"colorway\": [\"#636efa\", \"#EF553B\", \"#00cc96\", \"#ab63fa\", \"#FFA15A\", \"#19d3f3\", \"#FF6692\", \"#B6E880\", \"#FF97FF\", \"#FECB52\"], \"font\": {\"color\": \"#2a3f5f\"}, \"geo\": {\"bgcolor\": \"white\", \"lakecolor\": \"white\", \"landcolor\": \"#E5ECF6\", \"showlakes\": true, \"showland\": true, \"subunitcolor\": \"white\"}, \"hoverlabel\": {\"align\": \"left\"}, \"hovermode\": \"closest\", \"mapbox\": {\"style\": \"light\"}, \"paper_bgcolor\": \"white\", \"plot_bgcolor\": \"#E5ECF6\", \"polar\": {\"angularaxis\": {\"gridcolor\": \"white\", \"linecolor\": \"white\", \"ticks\": \"\"}, \"bgcolor\": \"#E5ECF6\", \"radialaxis\": {\"gridcolor\": \"white\", \"linecolor\": \"white\", \"ticks\": \"\"}}, \"scene\": {\"xaxis\": {\"backgroundcolor\": \"#E5ECF6\", \"gridcolor\": \"white\", \"gridwidth\": 2, \"linecolor\": \"white\", \"showbackground\": true, \"ticks\": \"\", \"zerolinecolor\": \"white\"}, \"yaxis\": {\"backgroundcolor\": \"#E5ECF6\", \"gridcolor\": \"white\", \"gridwidth\": 2, \"linecolor\": \"white\", \"showbackground\": true, \"ticks\": \"\", \"zerolinecolor\": \"white\"}, \"zaxis\": {\"backgroundcolor\": \"#E5ECF6\", \"gridcolor\": \"white\", \"gridwidth\": 2, \"linecolor\": \"white\", \"showbackground\": true, \"ticks\": \"\", \"zerolinecolor\": \"white\"}}, \"shapedefaults\": {\"line\": {\"color\": \"#2a3f5f\"}}, \"ternary\": {\"aaxis\": {\"gridcolor\": \"white\", \"linecolor\": \"white\", \"ticks\": \"\"}, \"baxis\": {\"gridcolor\": \"white\", \"linecolor\": \"white\", \"ticks\": \"\"}, \"bgcolor\": \"#E5ECF6\", \"caxis\": {\"gridcolor\": \"white\", \"linecolor\": \"white\", \"ticks\": \"\"}}, \"title\": {\"x\": 0.05}, \"xaxis\": {\"automargin\": true, \"gridcolor\": \"white\", \"linecolor\": \"white\", \"ticks\": \"\", \"title\": {\"standoff\": 15}, \"zerolinecolor\": \"white\", \"zerolinewidth\": 2}, \"yaxis\": {\"automargin\": true, \"gridcolor\": \"white\", \"linecolor\": \"white\", \"ticks\": \"\", \"title\": {\"standoff\": 15}, \"zerolinecolor\": \"white\", \"zerolinewidth\": 2}}}, \"title\": {\"text\": \"Energy/Valance Across Playlist\"}, \"xaxis\": {\"anchor\": \"y\", \"domain\": [0.0, 1.0], \"title\": {\"text\": \"energy\"}}, \"yaxis\": {\"anchor\": \"x\", \"domain\": [0.0, 1.0], \"title\": {\"text\": \"valence\"}}},\n",
              "                        {\"responsive\": true}\n",
              "                    ).then(function(){\n",
              "                            \n",
              "var gd = document.getElementById('de4abe91-708d-4a38-84b9-a3943f5a4e89');\n",
              "var x = new MutationObserver(function (mutations, observer) {{\n",
              "        var display = window.getComputedStyle(gd).display;\n",
              "        if (!display || display === 'none') {{\n",
              "            console.log([gd, 'removed!']);\n",
              "            Plotly.purge(gd);\n",
              "            observer.disconnect();\n",
              "        }}\n",
              "}});\n",
              "\n",
              "// Listen for the removal of the full notebook cells\n",
              "var notebookContainer = gd.closest('#notebook-container');\n",
              "if (notebookContainer) {{\n",
              "    x.observe(notebookContainer, {childList: true});\n",
              "}}\n",
              "\n",
              "// Listen for the clearing of the current output cell\n",
              "var outputEl = gd.closest('.output');\n",
              "if (outputEl) {{\n",
              "    x.observe(outputEl, {childList: true});\n",
              "}}\n",
              "\n",
              "                        })\n",
              "                };\n",
              "                \n",
              "            </script>\n",
              "        </div>\n",
              "</body>\n",
              "</html>"
            ]
          },
          "metadata": {
            "tags": []
          }
        }
      ]
    },
    {
      "cell_type": "markdown",
      "metadata": {
        "id": "SO4iW1i2xskn"
      },
      "source": [
        "Energy/Valance across years"
      ]
    },
    {
      "cell_type": "code",
      "metadata": {
        "id": "FZEhAZh2x378"
      },
      "source": [
        "valence_means = playlist_df2.groupby('playlist_title')['valence'].mean().reset_index()"
      ],
      "execution_count": 124,
      "outputs": []
    },
    {
      "cell_type": "code",
      "metadata": {
        "colab": {
          "base_uri": "https://localhost:8080/",
          "height": 204
        },
        "id": "4vtEIOZQyFcZ",
        "outputId": "3c2de0fb-684e-4e32-c5d3-d13ad87c937e"
      },
      "source": [
        "valence_means"
      ],
      "execution_count": 125,
      "outputs": [
        {
          "output_type": "execute_result",
          "data": {
            "text/html": [
              "<div>\n",
              "<style scoped>\n",
              "    .dataframe tbody tr th:only-of-type {\n",
              "        vertical-align: middle;\n",
              "    }\n",
              "\n",
              "    .dataframe tbody tr th {\n",
              "        vertical-align: top;\n",
              "    }\n",
              "\n",
              "    .dataframe thead th {\n",
              "        text-align: right;\n",
              "    }\n",
              "</style>\n",
              "<table border=\"1\" class=\"dataframe\">\n",
              "  <thead>\n",
              "    <tr style=\"text-align: right;\">\n",
              "      <th></th>\n",
              "      <th>playlist_title</th>\n",
              "      <th>valence</th>\n",
              "    </tr>\n",
              "  </thead>\n",
              "  <tbody>\n",
              "    <tr>\n",
              "      <th>0</th>\n",
              "      <td>Your top songs 2016</td>\n",
              "      <td>0.383814</td>\n",
              "    </tr>\n",
              "    <tr>\n",
              "      <th>1</th>\n",
              "      <td>Your top songs 2017</td>\n",
              "      <td>0.435290</td>\n",
              "    </tr>\n",
              "    <tr>\n",
              "      <th>2</th>\n",
              "      <td>Your top songs 2018</td>\n",
              "      <td>0.392550</td>\n",
              "    </tr>\n",
              "    <tr>\n",
              "      <th>3</th>\n",
              "      <td>Your top songs 2019</td>\n",
              "      <td>0.460450</td>\n",
              "    </tr>\n",
              "    <tr>\n",
              "      <th>4</th>\n",
              "      <td>Your top songs 2020</td>\n",
              "      <td>0.436035</td>\n",
              "    </tr>\n",
              "  </tbody>\n",
              "</table>\n",
              "</div>"
            ],
            "text/plain": [
              "        playlist_title   valence\n",
              "0  Your top songs 2016  0.383814\n",
              "1  Your top songs 2017  0.435290\n",
              "2  Your top songs 2018  0.392550\n",
              "3  Your top songs 2019  0.460450\n",
              "4  Your top songs 2020  0.436035"
            ]
          },
          "metadata": {
            "tags": []
          },
          "execution_count": 125
        }
      ]
    },
    {
      "cell_type": "code",
      "metadata": {
        "colab": {
          "base_uri": "https://localhost:8080/",
          "height": 542
        },
        "id": "NFxQyk4Lxqth",
        "outputId": "95956f11-fbc5-457b-9493-8bdb04c1590a"
      },
      "source": [
        "fig = px.bar(valence_means, x='playlist_title', y='valence',color='playlist_title',title='Average Valence Across years')\n",
        "fig.show()"
      ],
      "execution_count": 127,
      "outputs": [
        {
          "output_type": "display_data",
          "data": {
            "text/html": [
              "<html>\n",
              "<head><meta charset=\"utf-8\" /></head>\n",
              "<body>\n",
              "    <div>\n",
              "            <script src=\"https://cdnjs.cloudflare.com/ajax/libs/mathjax/2.7.5/MathJax.js?config=TeX-AMS-MML_SVG\"></script><script type=\"text/javascript\">if (window.MathJax) {MathJax.Hub.Config({SVG: {font: \"STIX-Web\"}});}</script>\n",
              "                <script type=\"text/javascript\">window.PlotlyConfig = {MathJaxConfig: 'local'};</script>\n",
              "        <script src=\"https://cdn.plot.ly/plotly-latest.min.js\"></script>    \n",
              "            <div id=\"f9b58f00-6e8c-4408-9011-e9ca48fc97ce\" class=\"plotly-graph-div\" style=\"height:525px; width:100%;\"></div>\n",
              "            <script type=\"text/javascript\">\n",
              "                \n",
              "                    window.PLOTLYENV=window.PLOTLYENV || {};\n",
              "                    \n",
              "                if (document.getElementById(\"f9b58f00-6e8c-4408-9011-e9ca48fc97ce\")) {\n",
              "                    Plotly.newPlot(\n",
              "                        'f9b58f00-6e8c-4408-9011-e9ca48fc97ce',\n",
              "                        [{\"alignmentgroup\": \"True\", \"hoverlabel\": {\"namelength\": 0}, \"hovertemplate\": \"playlist_title=%{x}<br>valence=%{y}\", \"legendgroup\": \"playlist_title=Your top songs 2016\", \"marker\": {\"color\": \"#636efa\"}, \"name\": \"playlist_title=Your top songs 2016\", \"offsetgroup\": \"playlist_title=Your top songs 2016\", \"orientation\": \"v\", \"showlegend\": true, \"textposition\": \"auto\", \"type\": \"bar\", \"x\": [\"Your top songs 2016\"], \"xaxis\": \"x\", \"y\": [0.38381400000000016], \"yaxis\": \"y\"}, {\"alignmentgroup\": \"True\", \"hoverlabel\": {\"namelength\": 0}, \"hovertemplate\": \"playlist_title=%{x}<br>valence=%{y}\", \"legendgroup\": \"playlist_title=Your top songs 2017\", \"marker\": {\"color\": \"#EF553B\"}, \"name\": \"playlist_title=Your top songs 2017\", \"offsetgroup\": \"playlist_title=Your top songs 2017\", \"orientation\": \"v\", \"showlegend\": true, \"textposition\": \"auto\", \"type\": \"bar\", \"x\": [\"Your top songs 2017\"], \"xaxis\": \"x\", \"y\": [0.43529], \"yaxis\": \"y\"}, {\"alignmentgroup\": \"True\", \"hoverlabel\": {\"namelength\": 0}, \"hovertemplate\": \"playlist_title=%{x}<br>valence=%{y}\", \"legendgroup\": \"playlist_title=Your top songs 2018\", \"marker\": {\"color\": \"#00cc96\"}, \"name\": \"playlist_title=Your top songs 2018\", \"offsetgroup\": \"playlist_title=Your top songs 2018\", \"orientation\": \"v\", \"showlegend\": true, \"textposition\": \"auto\", \"type\": \"bar\", \"x\": [\"Your top songs 2018\"], \"xaxis\": \"x\", \"y\": [0.3925500000000001], \"yaxis\": \"y\"}, {\"alignmentgroup\": \"True\", \"hoverlabel\": {\"namelength\": 0}, \"hovertemplate\": \"playlist_title=%{x}<br>valence=%{y}\", \"legendgroup\": \"playlist_title=Your top songs 2019\", \"marker\": {\"color\": \"#ab63fa\"}, \"name\": \"playlist_title=Your top songs 2019\", \"offsetgroup\": \"playlist_title=Your top songs 2019\", \"orientation\": \"v\", \"showlegend\": true, \"textposition\": \"auto\", \"type\": \"bar\", \"x\": [\"Your top songs 2019\"], \"xaxis\": \"x\", \"y\": [0.46044999999999997], \"yaxis\": \"y\"}, {\"alignmentgroup\": \"True\", \"hoverlabel\": {\"namelength\": 0}, \"hovertemplate\": \"playlist_title=%{x}<br>valence=%{y}\", \"legendgroup\": \"playlist_title=Your top songs 2020\", \"marker\": {\"color\": \"#FFA15A\"}, \"name\": \"playlist_title=Your top songs 2020\", \"offsetgroup\": \"playlist_title=Your top songs 2020\", \"orientation\": \"v\", \"showlegend\": true, \"textposition\": \"auto\", \"type\": \"bar\", \"x\": [\"Your top songs 2020\"], \"xaxis\": \"x\", \"y\": [0.43603499999999984], \"yaxis\": \"y\"}],\n",
              "                        {\"barmode\": \"relative\", \"legend\": {\"tracegroupgap\": 0}, \"template\": {\"data\": {\"bar\": [{\"error_x\": {\"color\": \"#2a3f5f\"}, \"error_y\": {\"color\": \"#2a3f5f\"}, \"marker\": {\"line\": {\"color\": \"#E5ECF6\", \"width\": 0.5}}, \"type\": \"bar\"}], \"barpolar\": [{\"marker\": {\"line\": {\"color\": \"#E5ECF6\", \"width\": 0.5}}, \"type\": \"barpolar\"}], \"carpet\": [{\"aaxis\": {\"endlinecolor\": \"#2a3f5f\", \"gridcolor\": \"white\", \"linecolor\": \"white\", \"minorgridcolor\": \"white\", \"startlinecolor\": \"#2a3f5f\"}, \"baxis\": {\"endlinecolor\": \"#2a3f5f\", \"gridcolor\": \"white\", \"linecolor\": \"white\", \"minorgridcolor\": \"white\", \"startlinecolor\": \"#2a3f5f\"}, \"type\": \"carpet\"}], \"choropleth\": [{\"colorbar\": {\"outlinewidth\": 0, \"ticks\": \"\"}, \"type\": \"choropleth\"}], \"contour\": [{\"colorbar\": {\"outlinewidth\": 0, \"ticks\": \"\"}, \"colorscale\": [[0.0, \"#0d0887\"], [0.1111111111111111, \"#46039f\"], [0.2222222222222222, \"#7201a8\"], [0.3333333333333333, \"#9c179e\"], [0.4444444444444444, \"#bd3786\"], [0.5555555555555556, \"#d8576b\"], [0.6666666666666666, \"#ed7953\"], [0.7777777777777778, \"#fb9f3a\"], [0.8888888888888888, \"#fdca26\"], [1.0, \"#f0f921\"]], \"type\": \"contour\"}], \"contourcarpet\": [{\"colorbar\": {\"outlinewidth\": 0, \"ticks\": \"\"}, \"type\": \"contourcarpet\"}], \"heatmap\": [{\"colorbar\": {\"outlinewidth\": 0, \"ticks\": \"\"}, \"colorscale\": [[0.0, \"#0d0887\"], [0.1111111111111111, \"#46039f\"], [0.2222222222222222, \"#7201a8\"], [0.3333333333333333, \"#9c179e\"], [0.4444444444444444, \"#bd3786\"], [0.5555555555555556, \"#d8576b\"], [0.6666666666666666, \"#ed7953\"], [0.7777777777777778, \"#fb9f3a\"], [0.8888888888888888, \"#fdca26\"], [1.0, \"#f0f921\"]], \"type\": \"heatmap\"}], \"heatmapgl\": [{\"colorbar\": {\"outlinewidth\": 0, \"ticks\": \"\"}, \"colorscale\": [[0.0, \"#0d0887\"], [0.1111111111111111, \"#46039f\"], [0.2222222222222222, \"#7201a8\"], [0.3333333333333333, \"#9c179e\"], [0.4444444444444444, \"#bd3786\"], [0.5555555555555556, \"#d8576b\"], [0.6666666666666666, \"#ed7953\"], [0.7777777777777778, \"#fb9f3a\"], [0.8888888888888888, \"#fdca26\"], [1.0, \"#f0f921\"]], \"type\": \"heatmapgl\"}], \"histogram\": [{\"marker\": {\"colorbar\": {\"outlinewidth\": 0, \"ticks\": \"\"}}, \"type\": \"histogram\"}], \"histogram2d\": [{\"colorbar\": {\"outlinewidth\": 0, \"ticks\": \"\"}, \"colorscale\": [[0.0, \"#0d0887\"], [0.1111111111111111, \"#46039f\"], [0.2222222222222222, \"#7201a8\"], [0.3333333333333333, \"#9c179e\"], [0.4444444444444444, \"#bd3786\"], [0.5555555555555556, \"#d8576b\"], [0.6666666666666666, \"#ed7953\"], [0.7777777777777778, \"#fb9f3a\"], [0.8888888888888888, \"#fdca26\"], [1.0, \"#f0f921\"]], \"type\": \"histogram2d\"}], \"histogram2dcontour\": [{\"colorbar\": {\"outlinewidth\": 0, \"ticks\": \"\"}, \"colorscale\": [[0.0, \"#0d0887\"], [0.1111111111111111, \"#46039f\"], [0.2222222222222222, \"#7201a8\"], [0.3333333333333333, \"#9c179e\"], [0.4444444444444444, \"#bd3786\"], [0.5555555555555556, \"#d8576b\"], [0.6666666666666666, \"#ed7953\"], [0.7777777777777778, \"#fb9f3a\"], [0.8888888888888888, \"#fdca26\"], [1.0, \"#f0f921\"]], \"type\": \"histogram2dcontour\"}], \"mesh3d\": [{\"colorbar\": {\"outlinewidth\": 0, \"ticks\": \"\"}, \"type\": \"mesh3d\"}], \"parcoords\": [{\"line\": {\"colorbar\": {\"outlinewidth\": 0, \"ticks\": \"\"}}, \"type\": \"parcoords\"}], \"pie\": [{\"automargin\": true, \"type\": \"pie\"}], \"scatter\": [{\"marker\": {\"colorbar\": {\"outlinewidth\": 0, \"ticks\": \"\"}}, \"type\": \"scatter\"}], \"scatter3d\": [{\"line\": {\"colorbar\": {\"outlinewidth\": 0, \"ticks\": \"\"}}, \"marker\": {\"colorbar\": {\"outlinewidth\": 0, \"ticks\": \"\"}}, \"type\": \"scatter3d\"}], \"scattercarpet\": [{\"marker\": {\"colorbar\": {\"outlinewidth\": 0, \"ticks\": \"\"}}, \"type\": \"scattercarpet\"}], \"scattergeo\": [{\"marker\": {\"colorbar\": {\"outlinewidth\": 0, \"ticks\": \"\"}}, \"type\": \"scattergeo\"}], \"scattergl\": [{\"marker\": {\"colorbar\": {\"outlinewidth\": 0, \"ticks\": \"\"}}, \"type\": \"scattergl\"}], \"scattermapbox\": [{\"marker\": {\"colorbar\": {\"outlinewidth\": 0, \"ticks\": \"\"}}, \"type\": \"scattermapbox\"}], \"scatterpolar\": [{\"marker\": {\"colorbar\": {\"outlinewidth\": 0, \"ticks\": \"\"}}, \"type\": \"scatterpolar\"}], \"scatterpolargl\": [{\"marker\": {\"colorbar\": {\"outlinewidth\": 0, \"ticks\": \"\"}}, \"type\": \"scatterpolargl\"}], \"scatterternary\": [{\"marker\": {\"colorbar\": {\"outlinewidth\": 0, \"ticks\": \"\"}}, \"type\": \"scatterternary\"}], \"surface\": [{\"colorbar\": {\"outlinewidth\": 0, \"ticks\": \"\"}, \"colorscale\": [[0.0, \"#0d0887\"], [0.1111111111111111, \"#46039f\"], [0.2222222222222222, \"#7201a8\"], [0.3333333333333333, \"#9c179e\"], [0.4444444444444444, \"#bd3786\"], [0.5555555555555556, \"#d8576b\"], [0.6666666666666666, \"#ed7953\"], [0.7777777777777778, \"#fb9f3a\"], [0.8888888888888888, \"#fdca26\"], [1.0, \"#f0f921\"]], \"type\": \"surface\"}], \"table\": [{\"cells\": {\"fill\": {\"color\": \"#EBF0F8\"}, \"line\": {\"color\": \"white\"}}, \"header\": {\"fill\": {\"color\": \"#C8D4E3\"}, \"line\": {\"color\": \"white\"}}, \"type\": \"table\"}]}, \"layout\": {\"annotationdefaults\": {\"arrowcolor\": \"#2a3f5f\", \"arrowhead\": 0, \"arrowwidth\": 1}, \"coloraxis\": {\"colorbar\": {\"outlinewidth\": 0, \"ticks\": \"\"}}, \"colorscale\": {\"diverging\": [[0, \"#8e0152\"], [0.1, \"#c51b7d\"], [0.2, \"#de77ae\"], [0.3, \"#f1b6da\"], [0.4, \"#fde0ef\"], [0.5, \"#f7f7f7\"], [0.6, \"#e6f5d0\"], [0.7, \"#b8e186\"], [0.8, \"#7fbc41\"], [0.9, \"#4d9221\"], [1, \"#276419\"]], \"sequential\": [[0.0, \"#0d0887\"], [0.1111111111111111, \"#46039f\"], [0.2222222222222222, \"#7201a8\"], [0.3333333333333333, \"#9c179e\"], [0.4444444444444444, \"#bd3786\"], [0.5555555555555556, \"#d8576b\"], [0.6666666666666666, \"#ed7953\"], [0.7777777777777778, \"#fb9f3a\"], [0.8888888888888888, \"#fdca26\"], [1.0, \"#f0f921\"]], \"sequentialminus\": [[0.0, \"#0d0887\"], [0.1111111111111111, \"#46039f\"], [0.2222222222222222, \"#7201a8\"], [0.3333333333333333, \"#9c179e\"], [0.4444444444444444, \"#bd3786\"], [0.5555555555555556, \"#d8576b\"], [0.6666666666666666, \"#ed7953\"], [0.7777777777777778, \"#fb9f3a\"], [0.8888888888888888, \"#fdca26\"], [1.0, \"#f0f921\"]]}, \"colorway\": [\"#636efa\", \"#EF553B\", \"#00cc96\", \"#ab63fa\", \"#FFA15A\", \"#19d3f3\", \"#FF6692\", \"#B6E880\", \"#FF97FF\", \"#FECB52\"], \"font\": {\"color\": \"#2a3f5f\"}, \"geo\": {\"bgcolor\": \"white\", \"lakecolor\": \"white\", \"landcolor\": \"#E5ECF6\", \"showlakes\": true, \"showland\": true, \"subunitcolor\": \"white\"}, \"hoverlabel\": {\"align\": \"left\"}, \"hovermode\": \"closest\", \"mapbox\": {\"style\": \"light\"}, \"paper_bgcolor\": \"white\", \"plot_bgcolor\": \"#E5ECF6\", \"polar\": {\"angularaxis\": {\"gridcolor\": \"white\", \"linecolor\": \"white\", \"ticks\": \"\"}, \"bgcolor\": \"#E5ECF6\", \"radialaxis\": {\"gridcolor\": \"white\", \"linecolor\": \"white\", \"ticks\": \"\"}}, \"scene\": {\"xaxis\": {\"backgroundcolor\": \"#E5ECF6\", \"gridcolor\": \"white\", \"gridwidth\": 2, \"linecolor\": \"white\", \"showbackground\": true, \"ticks\": \"\", \"zerolinecolor\": \"white\"}, \"yaxis\": {\"backgroundcolor\": \"#E5ECF6\", \"gridcolor\": \"white\", \"gridwidth\": 2, \"linecolor\": \"white\", \"showbackground\": true, \"ticks\": \"\", \"zerolinecolor\": \"white\"}, \"zaxis\": {\"backgroundcolor\": \"#E5ECF6\", \"gridcolor\": \"white\", \"gridwidth\": 2, \"linecolor\": \"white\", \"showbackground\": true, \"ticks\": \"\", \"zerolinecolor\": \"white\"}}, \"shapedefaults\": {\"line\": {\"color\": \"#2a3f5f\"}}, \"ternary\": {\"aaxis\": {\"gridcolor\": \"white\", \"linecolor\": \"white\", \"ticks\": \"\"}, \"baxis\": {\"gridcolor\": \"white\", \"linecolor\": \"white\", \"ticks\": \"\"}, \"bgcolor\": \"#E5ECF6\", \"caxis\": {\"gridcolor\": \"white\", \"linecolor\": \"white\", \"ticks\": \"\"}}, \"title\": {\"x\": 0.05}, \"xaxis\": {\"automargin\": true, \"gridcolor\": \"white\", \"linecolor\": \"white\", \"ticks\": \"\", \"title\": {\"standoff\": 15}, \"zerolinecolor\": \"white\", \"zerolinewidth\": 2}, \"yaxis\": {\"automargin\": true, \"gridcolor\": \"white\", \"linecolor\": \"white\", \"ticks\": \"\", \"title\": {\"standoff\": 15}, \"zerolinecolor\": \"white\", \"zerolinewidth\": 2}}}, \"title\": {\"text\": \"Average Valence Across years\"}, \"xaxis\": {\"anchor\": \"y\", \"categoryarray\": [\"Your top songs 2016\", \"Your top songs 2017\", \"Your top songs 2018\", \"Your top songs 2019\", \"Your top songs 2020\"], \"categoryorder\": \"array\", \"domain\": [0.0, 1.0], \"title\": {\"text\": \"playlist_title\"}}, \"yaxis\": {\"anchor\": \"x\", \"domain\": [0.0, 1.0], \"title\": {\"text\": \"valence\"}}},\n",
              "                        {\"responsive\": true}\n",
              "                    ).then(function(){\n",
              "                            \n",
              "var gd = document.getElementById('f9b58f00-6e8c-4408-9011-e9ca48fc97ce');\n",
              "var x = new MutationObserver(function (mutations, observer) {{\n",
              "        var display = window.getComputedStyle(gd).display;\n",
              "        if (!display || display === 'none') {{\n",
              "            console.log([gd, 'removed!']);\n",
              "            Plotly.purge(gd);\n",
              "            observer.disconnect();\n",
              "        }}\n",
              "}});\n",
              "\n",
              "// Listen for the removal of the full notebook cells\n",
              "var notebookContainer = gd.closest('#notebook-container');\n",
              "if (notebookContainer) {{\n",
              "    x.observe(notebookContainer, {childList: true});\n",
              "}}\n",
              "\n",
              "// Listen for the clearing of the current output cell\n",
              "var outputEl = gd.closest('.output');\n",
              "if (outputEl) {{\n",
              "    x.observe(outputEl, {childList: true});\n",
              "}}\n",
              "\n",
              "                        })\n",
              "                };\n",
              "                \n",
              "            </script>\n",
              "        </div>\n",
              "</body>\n",
              "</html>"
            ]
          },
          "metadata": {
            "tags": []
          }
        }
      ]
    },
    {
      "cell_type": "code",
      "metadata": {
        "id": "ytySbBukxoPq"
      },
      "source": [
        "energy_means = playlist_df2.groupby('playlist_title')['energy'].mean().reset_index()"
      ],
      "execution_count": 128,
      "outputs": []
    },
    {
      "cell_type": "code",
      "metadata": {
        "colab": {
          "base_uri": "https://localhost:8080/",
          "height": 542
        },
        "id": "5Go3kI14mLMQ",
        "outputId": "2443f769-f68a-4e89-b66d-6eb84742a955"
      },
      "source": [
        "fig = px.bar(energy_means, x='playlist_title', y='energy',color='playlist_title',title='Average Energy Across years')\n",
        "fig.show()"
      ],
      "execution_count": 129,
      "outputs": [
        {
          "output_type": "display_data",
          "data": {
            "text/html": [
              "<html>\n",
              "<head><meta charset=\"utf-8\" /></head>\n",
              "<body>\n",
              "    <div>\n",
              "            <script src=\"https://cdnjs.cloudflare.com/ajax/libs/mathjax/2.7.5/MathJax.js?config=TeX-AMS-MML_SVG\"></script><script type=\"text/javascript\">if (window.MathJax) {MathJax.Hub.Config({SVG: {font: \"STIX-Web\"}});}</script>\n",
              "                <script type=\"text/javascript\">window.PlotlyConfig = {MathJaxConfig: 'local'};</script>\n",
              "        <script src=\"https://cdn.plot.ly/plotly-latest.min.js\"></script>    \n",
              "            <div id=\"ff2e1cce-a12b-4411-918d-c8a8e14a6525\" class=\"plotly-graph-div\" style=\"height:525px; width:100%;\"></div>\n",
              "            <script type=\"text/javascript\">\n",
              "                \n",
              "                    window.PLOTLYENV=window.PLOTLYENV || {};\n",
              "                    \n",
              "                if (document.getElementById(\"ff2e1cce-a12b-4411-918d-c8a8e14a6525\")) {\n",
              "                    Plotly.newPlot(\n",
              "                        'ff2e1cce-a12b-4411-918d-c8a8e14a6525',\n",
              "                        [{\"alignmentgroup\": \"True\", \"hoverlabel\": {\"namelength\": 0}, \"hovertemplate\": \"playlist_title=%{x}<br>energy=%{y}\", \"legendgroup\": \"playlist_title=Your top songs 2016\", \"marker\": {\"color\": \"#636efa\"}, \"name\": \"playlist_title=Your top songs 2016\", \"offsetgroup\": \"playlist_title=Your top songs 2016\", \"orientation\": \"v\", \"showlegend\": true, \"textposition\": \"auto\", \"type\": \"bar\", \"x\": [\"Your top songs 2016\"], \"xaxis\": \"x\", \"y\": [0.496275], \"yaxis\": \"y\"}, {\"alignmentgroup\": \"True\", \"hoverlabel\": {\"namelength\": 0}, \"hovertemplate\": \"playlist_title=%{x}<br>energy=%{y}\", \"legendgroup\": \"playlist_title=Your top songs 2017\", \"marker\": {\"color\": \"#EF553B\"}, \"name\": \"playlist_title=Your top songs 2017\", \"offsetgroup\": \"playlist_title=Your top songs 2017\", \"orientation\": \"v\", \"showlegend\": true, \"textposition\": \"auto\", \"type\": \"bar\", \"x\": [\"Your top songs 2017\"], \"xaxis\": \"x\", \"y\": [0.5034999999999997], \"yaxis\": \"y\"}, {\"alignmentgroup\": \"True\", \"hoverlabel\": {\"namelength\": 0}, \"hovertemplate\": \"playlist_title=%{x}<br>energy=%{y}\", \"legendgroup\": \"playlist_title=Your top songs 2018\", \"marker\": {\"color\": \"#00cc96\"}, \"name\": \"playlist_title=Your top songs 2018\", \"offsetgroup\": \"playlist_title=Your top songs 2018\", \"orientation\": \"v\", \"showlegend\": true, \"textposition\": \"auto\", \"type\": \"bar\", \"x\": [\"Your top songs 2018\"], \"xaxis\": \"x\", \"y\": [0.49336100000000016], \"yaxis\": \"y\"}, {\"alignmentgroup\": \"True\", \"hoverlabel\": {\"namelength\": 0}, \"hovertemplate\": \"playlist_title=%{x}<br>energy=%{y}\", \"legendgroup\": \"playlist_title=Your top songs 2019\", \"marker\": {\"color\": \"#ab63fa\"}, \"name\": \"playlist_title=Your top songs 2019\", \"offsetgroup\": \"playlist_title=Your top songs 2019\", \"orientation\": \"v\", \"showlegend\": true, \"textposition\": \"auto\", \"type\": \"bar\", \"x\": [\"Your top songs 2019\"], \"xaxis\": \"x\", \"y\": [0.60053], \"yaxis\": \"y\"}, {\"alignmentgroup\": \"True\", \"hoverlabel\": {\"namelength\": 0}, \"hovertemplate\": \"playlist_title=%{x}<br>energy=%{y}\", \"legendgroup\": \"playlist_title=Your top songs 2020\", \"marker\": {\"color\": \"#FFA15A\"}, \"name\": \"playlist_title=Your top songs 2020\", \"offsetgroup\": \"playlist_title=Your top songs 2020\", \"orientation\": \"v\", \"showlegend\": true, \"textposition\": \"auto\", \"type\": \"bar\", \"x\": [\"Your top songs 2020\"], \"xaxis\": \"x\", \"y\": [0.50229], \"yaxis\": \"y\"}],\n",
              "                        {\"barmode\": \"relative\", \"legend\": {\"tracegroupgap\": 0}, \"template\": {\"data\": {\"bar\": [{\"error_x\": {\"color\": \"#2a3f5f\"}, \"error_y\": {\"color\": \"#2a3f5f\"}, \"marker\": {\"line\": {\"color\": \"#E5ECF6\", \"width\": 0.5}}, \"type\": \"bar\"}], \"barpolar\": [{\"marker\": {\"line\": {\"color\": \"#E5ECF6\", \"width\": 0.5}}, \"type\": \"barpolar\"}], \"carpet\": [{\"aaxis\": {\"endlinecolor\": \"#2a3f5f\", \"gridcolor\": \"white\", \"linecolor\": \"white\", \"minorgridcolor\": \"white\", \"startlinecolor\": \"#2a3f5f\"}, \"baxis\": {\"endlinecolor\": \"#2a3f5f\", \"gridcolor\": \"white\", \"linecolor\": \"white\", \"minorgridcolor\": \"white\", \"startlinecolor\": \"#2a3f5f\"}, \"type\": \"carpet\"}], \"choropleth\": [{\"colorbar\": {\"outlinewidth\": 0, \"ticks\": \"\"}, \"type\": \"choropleth\"}], \"contour\": [{\"colorbar\": {\"outlinewidth\": 0, \"ticks\": \"\"}, \"colorscale\": [[0.0, \"#0d0887\"], [0.1111111111111111, \"#46039f\"], [0.2222222222222222, \"#7201a8\"], [0.3333333333333333, \"#9c179e\"], [0.4444444444444444, \"#bd3786\"], [0.5555555555555556, \"#d8576b\"], [0.6666666666666666, \"#ed7953\"], [0.7777777777777778, \"#fb9f3a\"], [0.8888888888888888, \"#fdca26\"], [1.0, \"#f0f921\"]], \"type\": \"contour\"}], \"contourcarpet\": [{\"colorbar\": {\"outlinewidth\": 0, \"ticks\": \"\"}, \"type\": \"contourcarpet\"}], \"heatmap\": [{\"colorbar\": {\"outlinewidth\": 0, \"ticks\": \"\"}, \"colorscale\": [[0.0, \"#0d0887\"], [0.1111111111111111, \"#46039f\"], [0.2222222222222222, \"#7201a8\"], [0.3333333333333333, \"#9c179e\"], [0.4444444444444444, \"#bd3786\"], [0.5555555555555556, \"#d8576b\"], [0.6666666666666666, \"#ed7953\"], [0.7777777777777778, \"#fb9f3a\"], [0.8888888888888888, \"#fdca26\"], [1.0, \"#f0f921\"]], \"type\": \"heatmap\"}], \"heatmapgl\": [{\"colorbar\": {\"outlinewidth\": 0, \"ticks\": \"\"}, \"colorscale\": [[0.0, \"#0d0887\"], [0.1111111111111111, \"#46039f\"], [0.2222222222222222, \"#7201a8\"], [0.3333333333333333, \"#9c179e\"], [0.4444444444444444, \"#bd3786\"], [0.5555555555555556, \"#d8576b\"], [0.6666666666666666, \"#ed7953\"], [0.7777777777777778, \"#fb9f3a\"], [0.8888888888888888, \"#fdca26\"], [1.0, \"#f0f921\"]], \"type\": \"heatmapgl\"}], \"histogram\": [{\"marker\": {\"colorbar\": {\"outlinewidth\": 0, \"ticks\": \"\"}}, \"type\": \"histogram\"}], \"histogram2d\": [{\"colorbar\": {\"outlinewidth\": 0, \"ticks\": \"\"}, \"colorscale\": [[0.0, \"#0d0887\"], [0.1111111111111111, \"#46039f\"], [0.2222222222222222, \"#7201a8\"], [0.3333333333333333, \"#9c179e\"], [0.4444444444444444, \"#bd3786\"], [0.5555555555555556, \"#d8576b\"], [0.6666666666666666, \"#ed7953\"], [0.7777777777777778, \"#fb9f3a\"], [0.8888888888888888, \"#fdca26\"], [1.0, \"#f0f921\"]], \"type\": \"histogram2d\"}], \"histogram2dcontour\": [{\"colorbar\": {\"outlinewidth\": 0, \"ticks\": \"\"}, \"colorscale\": [[0.0, \"#0d0887\"], [0.1111111111111111, \"#46039f\"], [0.2222222222222222, \"#7201a8\"], [0.3333333333333333, \"#9c179e\"], [0.4444444444444444, \"#bd3786\"], [0.5555555555555556, \"#d8576b\"], [0.6666666666666666, \"#ed7953\"], [0.7777777777777778, \"#fb9f3a\"], [0.8888888888888888, \"#fdca26\"], [1.0, \"#f0f921\"]], \"type\": \"histogram2dcontour\"}], \"mesh3d\": [{\"colorbar\": {\"outlinewidth\": 0, \"ticks\": \"\"}, \"type\": \"mesh3d\"}], \"parcoords\": [{\"line\": {\"colorbar\": {\"outlinewidth\": 0, \"ticks\": \"\"}}, \"type\": \"parcoords\"}], \"pie\": [{\"automargin\": true, \"type\": \"pie\"}], \"scatter\": [{\"marker\": {\"colorbar\": {\"outlinewidth\": 0, \"ticks\": \"\"}}, \"type\": \"scatter\"}], \"scatter3d\": [{\"line\": {\"colorbar\": {\"outlinewidth\": 0, \"ticks\": \"\"}}, \"marker\": {\"colorbar\": {\"outlinewidth\": 0, \"ticks\": \"\"}}, \"type\": \"scatter3d\"}], \"scattercarpet\": [{\"marker\": {\"colorbar\": {\"outlinewidth\": 0, \"ticks\": \"\"}}, \"type\": \"scattercarpet\"}], \"scattergeo\": [{\"marker\": {\"colorbar\": {\"outlinewidth\": 0, \"ticks\": \"\"}}, \"type\": \"scattergeo\"}], \"scattergl\": [{\"marker\": {\"colorbar\": {\"outlinewidth\": 0, \"ticks\": \"\"}}, \"type\": \"scattergl\"}], \"scattermapbox\": [{\"marker\": {\"colorbar\": {\"outlinewidth\": 0, \"ticks\": \"\"}}, \"type\": \"scattermapbox\"}], \"scatterpolar\": [{\"marker\": {\"colorbar\": {\"outlinewidth\": 0, \"ticks\": \"\"}}, \"type\": \"scatterpolar\"}], \"scatterpolargl\": [{\"marker\": {\"colorbar\": {\"outlinewidth\": 0, \"ticks\": \"\"}}, \"type\": \"scatterpolargl\"}], \"scatterternary\": [{\"marker\": {\"colorbar\": {\"outlinewidth\": 0, \"ticks\": \"\"}}, \"type\": \"scatterternary\"}], \"surface\": [{\"colorbar\": {\"outlinewidth\": 0, \"ticks\": \"\"}, \"colorscale\": [[0.0, \"#0d0887\"], [0.1111111111111111, \"#46039f\"], [0.2222222222222222, \"#7201a8\"], [0.3333333333333333, \"#9c179e\"], [0.4444444444444444, \"#bd3786\"], [0.5555555555555556, \"#d8576b\"], [0.6666666666666666, \"#ed7953\"], [0.7777777777777778, \"#fb9f3a\"], [0.8888888888888888, \"#fdca26\"], [1.0, \"#f0f921\"]], \"type\": \"surface\"}], \"table\": [{\"cells\": {\"fill\": {\"color\": \"#EBF0F8\"}, \"line\": {\"color\": \"white\"}}, \"header\": {\"fill\": {\"color\": \"#C8D4E3\"}, \"line\": {\"color\": \"white\"}}, \"type\": \"table\"}]}, \"layout\": {\"annotationdefaults\": {\"arrowcolor\": \"#2a3f5f\", \"arrowhead\": 0, \"arrowwidth\": 1}, \"coloraxis\": {\"colorbar\": {\"outlinewidth\": 0, \"ticks\": \"\"}}, \"colorscale\": {\"diverging\": [[0, \"#8e0152\"], [0.1, \"#c51b7d\"], [0.2, \"#de77ae\"], [0.3, \"#f1b6da\"], [0.4, \"#fde0ef\"], [0.5, \"#f7f7f7\"], [0.6, \"#e6f5d0\"], [0.7, \"#b8e186\"], [0.8, \"#7fbc41\"], [0.9, \"#4d9221\"], [1, \"#276419\"]], \"sequential\": [[0.0, \"#0d0887\"], [0.1111111111111111, \"#46039f\"], [0.2222222222222222, \"#7201a8\"], [0.3333333333333333, \"#9c179e\"], [0.4444444444444444, \"#bd3786\"], [0.5555555555555556, \"#d8576b\"], [0.6666666666666666, \"#ed7953\"], [0.7777777777777778, \"#fb9f3a\"], [0.8888888888888888, \"#fdca26\"], [1.0, \"#f0f921\"]], \"sequentialminus\": [[0.0, \"#0d0887\"], [0.1111111111111111, \"#46039f\"], [0.2222222222222222, \"#7201a8\"], [0.3333333333333333, \"#9c179e\"], [0.4444444444444444, \"#bd3786\"], [0.5555555555555556, \"#d8576b\"], [0.6666666666666666, \"#ed7953\"], [0.7777777777777778, \"#fb9f3a\"], [0.8888888888888888, \"#fdca26\"], [1.0, \"#f0f921\"]]}, \"colorway\": [\"#636efa\", \"#EF553B\", \"#00cc96\", \"#ab63fa\", \"#FFA15A\", \"#19d3f3\", \"#FF6692\", \"#B6E880\", \"#FF97FF\", \"#FECB52\"], \"font\": {\"color\": \"#2a3f5f\"}, \"geo\": {\"bgcolor\": \"white\", \"lakecolor\": \"white\", \"landcolor\": \"#E5ECF6\", \"showlakes\": true, \"showland\": true, \"subunitcolor\": \"white\"}, \"hoverlabel\": {\"align\": \"left\"}, \"hovermode\": \"closest\", \"mapbox\": {\"style\": \"light\"}, \"paper_bgcolor\": \"white\", \"plot_bgcolor\": \"#E5ECF6\", \"polar\": {\"angularaxis\": {\"gridcolor\": \"white\", \"linecolor\": \"white\", \"ticks\": \"\"}, \"bgcolor\": \"#E5ECF6\", \"radialaxis\": {\"gridcolor\": \"white\", \"linecolor\": \"white\", \"ticks\": \"\"}}, \"scene\": {\"xaxis\": {\"backgroundcolor\": \"#E5ECF6\", \"gridcolor\": \"white\", \"gridwidth\": 2, \"linecolor\": \"white\", \"showbackground\": true, \"ticks\": \"\", \"zerolinecolor\": \"white\"}, \"yaxis\": {\"backgroundcolor\": \"#E5ECF6\", \"gridcolor\": \"white\", \"gridwidth\": 2, \"linecolor\": \"white\", \"showbackground\": true, \"ticks\": \"\", \"zerolinecolor\": \"white\"}, \"zaxis\": {\"backgroundcolor\": \"#E5ECF6\", \"gridcolor\": \"white\", \"gridwidth\": 2, \"linecolor\": \"white\", \"showbackground\": true, \"ticks\": \"\", \"zerolinecolor\": \"white\"}}, \"shapedefaults\": {\"line\": {\"color\": \"#2a3f5f\"}}, \"ternary\": {\"aaxis\": {\"gridcolor\": \"white\", \"linecolor\": \"white\", \"ticks\": \"\"}, \"baxis\": {\"gridcolor\": \"white\", \"linecolor\": \"white\", \"ticks\": \"\"}, \"bgcolor\": \"#E5ECF6\", \"caxis\": {\"gridcolor\": \"white\", \"linecolor\": \"white\", \"ticks\": \"\"}}, \"title\": {\"x\": 0.05}, \"xaxis\": {\"automargin\": true, \"gridcolor\": \"white\", \"linecolor\": \"white\", \"ticks\": \"\", \"title\": {\"standoff\": 15}, \"zerolinecolor\": \"white\", \"zerolinewidth\": 2}, \"yaxis\": {\"automargin\": true, \"gridcolor\": \"white\", \"linecolor\": \"white\", \"ticks\": \"\", \"title\": {\"standoff\": 15}, \"zerolinecolor\": \"white\", \"zerolinewidth\": 2}}}, \"title\": {\"text\": \"Average Energy Across years\"}, \"xaxis\": {\"anchor\": \"y\", \"categoryarray\": [\"Your top songs 2016\", \"Your top songs 2017\", \"Your top songs 2018\", \"Your top songs 2019\", \"Your top songs 2020\"], \"categoryorder\": \"array\", \"domain\": [0.0, 1.0], \"title\": {\"text\": \"playlist_title\"}}, \"yaxis\": {\"anchor\": \"x\", \"domain\": [0.0, 1.0], \"title\": {\"text\": \"energy\"}}},\n",
              "                        {\"responsive\": true}\n",
              "                    ).then(function(){\n",
              "                            \n",
              "var gd = document.getElementById('ff2e1cce-a12b-4411-918d-c8a8e14a6525');\n",
              "var x = new MutationObserver(function (mutations, observer) {{\n",
              "        var display = window.getComputedStyle(gd).display;\n",
              "        if (!display || display === 'none') {{\n",
              "            console.log([gd, 'removed!']);\n",
              "            Plotly.purge(gd);\n",
              "            observer.disconnect();\n",
              "        }}\n",
              "}});\n",
              "\n",
              "// Listen for the removal of the full notebook cells\n",
              "var notebookContainer = gd.closest('#notebook-container');\n",
              "if (notebookContainer) {{\n",
              "    x.observe(notebookContainer, {childList: true});\n",
              "}}\n",
              "\n",
              "// Listen for the clearing of the current output cell\n",
              "var outputEl = gd.closest('.output');\n",
              "if (outputEl) {{\n",
              "    x.observe(outputEl, {childList: true});\n",
              "}}\n",
              "\n",
              "                        })\n",
              "                };\n",
              "                \n",
              "            </script>\n",
              "        </div>\n",
              "</body>\n",
              "</html>"
            ]
          },
          "metadata": {
            "tags": []
          }
        }
      ]
    },
    {
      "cell_type": "code",
      "metadata": {
        "id": "z40p0Y93qS2I"
      },
      "source": [
        ""
      ],
      "execution_count": null,
      "outputs": []
    }
  ]
}